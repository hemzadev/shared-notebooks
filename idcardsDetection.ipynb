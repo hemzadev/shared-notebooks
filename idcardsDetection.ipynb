{
  "nbformat": 4,
  "nbformat_minor": 0,
  "metadata": {
    "colab": {
      "provenance": [],
      "include_colab_link": true
    },
    "kernelspec": {
      "name": "python3",
      "display_name": "Python 3"
    },
    "language_info": {
      "name": "python"
    }
  },
  "cells": [
    {
      "cell_type": "markdown",
      "metadata": {
        "id": "view-in-github",
        "colab_type": "text"
      },
      "source": [
        "<a href=\"https://colab.research.google.com/github/hemzadev/shared-notebooks/blob/main/idcardsDetection.ipynb\" target=\"_parent\"><img src=\"https://colab.research.google.com/assets/colab-badge.svg\" alt=\"Open In Colab\"/></a>"
      ]
    },
    {
      "cell_type": "markdown",
      "source": [
        "# Title: Fine-Tuning YOLO for ID Card and Field Detection\n",
        "# Description: This notebook fine-tunes a YOLO model to detect ID cards and their fields."
      ],
      "metadata": {
        "id": "b11zSWjI8pRr"
      }
    },
    {
      "cell_type": "markdown",
      "source": [
        "# =============================================\n",
        "# 1. Setup and Installation\n",
        "# ============================================="
      ],
      "metadata": {
        "id": "3fwnhhC180N6"
      }
    },
    {
      "cell_type": "code",
      "execution_count": null,
      "metadata": {
        "colab": {
          "base_uri": "https://localhost:8080/"
        },
        "id": "jtte4LwF7gWY",
        "outputId": "04c285f8-d9fa-49ab-e135-4379dd11e110"
      },
      "outputs": [
        {
          "output_type": "stream",
          "name": "stdout",
          "text": [
            "Collecting ultralytics\n",
            "  Downloading ultralytics-8.3.89-py3-none-any.whl.metadata (35 kB)\n",
            "Requirement already satisfied: numpy<=2.1.1,>=1.23.0 in /usr/local/lib/python3.11/dist-packages (from ultralytics) (1.26.4)\n",
            "Requirement already satisfied: matplotlib>=3.3.0 in /usr/local/lib/python3.11/dist-packages (from ultralytics) (3.10.0)\n",
            "Requirement already satisfied: opencv-python>=4.6.0 in /usr/local/lib/python3.11/dist-packages (from ultralytics) (4.11.0.86)\n",
            "Requirement already satisfied: pillow>=7.1.2 in /usr/local/lib/python3.11/dist-packages (from ultralytics) (11.1.0)\n",
            "Requirement already satisfied: pyyaml>=5.3.1 in /usr/local/lib/python3.11/dist-packages (from ultralytics) (6.0.2)\n",
            "Requirement already satisfied: requests>=2.23.0 in /usr/local/lib/python3.11/dist-packages (from ultralytics) (2.32.3)\n",
            "Requirement already satisfied: scipy>=1.4.1 in /usr/local/lib/python3.11/dist-packages (from ultralytics) (1.14.1)\n",
            "Requirement already satisfied: torch>=1.8.0 in /usr/local/lib/python3.11/dist-packages (from ultralytics) (2.5.1+cu124)\n",
            "Requirement already satisfied: torchvision>=0.9.0 in /usr/local/lib/python3.11/dist-packages (from ultralytics) (0.20.1+cu124)\n",
            "Requirement already satisfied: tqdm>=4.64.0 in /usr/local/lib/python3.11/dist-packages (from ultralytics) (4.67.1)\n",
            "Requirement already satisfied: psutil in /usr/local/lib/python3.11/dist-packages (from ultralytics) (5.9.5)\n",
            "Requirement already satisfied: py-cpuinfo in /usr/local/lib/python3.11/dist-packages (from ultralytics) (9.0.0)\n",
            "Requirement already satisfied: pandas>=1.1.4 in /usr/local/lib/python3.11/dist-packages (from ultralytics) (2.2.2)\n",
            "Requirement already satisfied: seaborn>=0.11.0 in /usr/local/lib/python3.11/dist-packages (from ultralytics) (0.13.2)\n",
            "Collecting ultralytics-thop>=2.0.0 (from ultralytics)\n",
            "  Downloading ultralytics_thop-2.0.14-py3-none-any.whl.metadata (9.4 kB)\n",
            "Requirement already satisfied: contourpy>=1.0.1 in /usr/local/lib/python3.11/dist-packages (from matplotlib>=3.3.0->ultralytics) (1.3.1)\n",
            "Requirement already satisfied: cycler>=0.10 in /usr/local/lib/python3.11/dist-packages (from matplotlib>=3.3.0->ultralytics) (0.12.1)\n",
            "Requirement already satisfied: fonttools>=4.22.0 in /usr/local/lib/python3.11/dist-packages (from matplotlib>=3.3.0->ultralytics) (4.56.0)\n",
            "Requirement already satisfied: kiwisolver>=1.3.1 in /usr/local/lib/python3.11/dist-packages (from matplotlib>=3.3.0->ultralytics) (1.4.8)\n",
            "Requirement already satisfied: packaging>=20.0 in /usr/local/lib/python3.11/dist-packages (from matplotlib>=3.3.0->ultralytics) (24.2)\n",
            "Requirement already satisfied: pyparsing>=2.3.1 in /usr/local/lib/python3.11/dist-packages (from matplotlib>=3.3.0->ultralytics) (3.2.1)\n",
            "Requirement already satisfied: python-dateutil>=2.7 in /usr/local/lib/python3.11/dist-packages (from matplotlib>=3.3.0->ultralytics) (2.8.2)\n",
            "Requirement already satisfied: pytz>=2020.1 in /usr/local/lib/python3.11/dist-packages (from pandas>=1.1.4->ultralytics) (2025.1)\n",
            "Requirement already satisfied: tzdata>=2022.7 in /usr/local/lib/python3.11/dist-packages (from pandas>=1.1.4->ultralytics) (2025.1)\n",
            "Requirement already satisfied: charset-normalizer<4,>=2 in /usr/local/lib/python3.11/dist-packages (from requests>=2.23.0->ultralytics) (3.4.1)\n",
            "Requirement already satisfied: idna<4,>=2.5 in /usr/local/lib/python3.11/dist-packages (from requests>=2.23.0->ultralytics) (3.10)\n",
            "Requirement already satisfied: urllib3<3,>=1.21.1 in /usr/local/lib/python3.11/dist-packages (from requests>=2.23.0->ultralytics) (2.3.0)\n",
            "Requirement already satisfied: certifi>=2017.4.17 in /usr/local/lib/python3.11/dist-packages (from requests>=2.23.0->ultralytics) (2025.1.31)\n",
            "Requirement already satisfied: filelock in /usr/local/lib/python3.11/dist-packages (from torch>=1.8.0->ultralytics) (3.17.0)\n",
            "Requirement already satisfied: typing-extensions>=4.8.0 in /usr/local/lib/python3.11/dist-packages (from torch>=1.8.0->ultralytics) (4.12.2)\n",
            "Requirement already satisfied: networkx in /usr/local/lib/python3.11/dist-packages (from torch>=1.8.0->ultralytics) (3.4.2)\n",
            "Requirement already satisfied: jinja2 in /usr/local/lib/python3.11/dist-packages (from torch>=1.8.0->ultralytics) (3.1.6)\n",
            "Requirement already satisfied: fsspec in /usr/local/lib/python3.11/dist-packages (from torch>=1.8.0->ultralytics) (2024.10.0)\n",
            "Collecting nvidia-cuda-nvrtc-cu12==12.4.127 (from torch>=1.8.0->ultralytics)\n",
            "  Downloading nvidia_cuda_nvrtc_cu12-12.4.127-py3-none-manylinux2014_x86_64.whl.metadata (1.5 kB)\n",
            "Collecting nvidia-cuda-runtime-cu12==12.4.127 (from torch>=1.8.0->ultralytics)\n",
            "  Downloading nvidia_cuda_runtime_cu12-12.4.127-py3-none-manylinux2014_x86_64.whl.metadata (1.5 kB)\n",
            "Collecting nvidia-cuda-cupti-cu12==12.4.127 (from torch>=1.8.0->ultralytics)\n",
            "  Downloading nvidia_cuda_cupti_cu12-12.4.127-py3-none-manylinux2014_x86_64.whl.metadata (1.6 kB)\n",
            "Collecting nvidia-cudnn-cu12==9.1.0.70 (from torch>=1.8.0->ultralytics)\n",
            "  Downloading nvidia_cudnn_cu12-9.1.0.70-py3-none-manylinux2014_x86_64.whl.metadata (1.6 kB)\n",
            "Collecting nvidia-cublas-cu12==12.4.5.8 (from torch>=1.8.0->ultralytics)\n",
            "  Downloading nvidia_cublas_cu12-12.4.5.8-py3-none-manylinux2014_x86_64.whl.metadata (1.5 kB)\n",
            "Collecting nvidia-cufft-cu12==11.2.1.3 (from torch>=1.8.0->ultralytics)\n",
            "  Downloading nvidia_cufft_cu12-11.2.1.3-py3-none-manylinux2014_x86_64.whl.metadata (1.5 kB)\n",
            "Collecting nvidia-curand-cu12==10.3.5.147 (from torch>=1.8.0->ultralytics)\n",
            "  Downloading nvidia_curand_cu12-10.3.5.147-py3-none-manylinux2014_x86_64.whl.metadata (1.5 kB)\n",
            "Collecting nvidia-cusolver-cu12==11.6.1.9 (from torch>=1.8.0->ultralytics)\n",
            "  Downloading nvidia_cusolver_cu12-11.6.1.9-py3-none-manylinux2014_x86_64.whl.metadata (1.6 kB)\n",
            "Collecting nvidia-cusparse-cu12==12.3.1.170 (from torch>=1.8.0->ultralytics)\n",
            "  Downloading nvidia_cusparse_cu12-12.3.1.170-py3-none-manylinux2014_x86_64.whl.metadata (1.6 kB)\n",
            "Requirement already satisfied: nvidia-nccl-cu12==2.21.5 in /usr/local/lib/python3.11/dist-packages (from torch>=1.8.0->ultralytics) (2.21.5)\n",
            "Requirement already satisfied: nvidia-nvtx-cu12==12.4.127 in /usr/local/lib/python3.11/dist-packages (from torch>=1.8.0->ultralytics) (12.4.127)\n",
            "Collecting nvidia-nvjitlink-cu12==12.4.127 (from torch>=1.8.0->ultralytics)\n",
            "  Downloading nvidia_nvjitlink_cu12-12.4.127-py3-none-manylinux2014_x86_64.whl.metadata (1.5 kB)\n",
            "Requirement already satisfied: triton==3.1.0 in /usr/local/lib/python3.11/dist-packages (from torch>=1.8.0->ultralytics) (3.1.0)\n",
            "Requirement already satisfied: sympy==1.13.1 in /usr/local/lib/python3.11/dist-packages (from torch>=1.8.0->ultralytics) (1.13.1)\n",
            "Requirement already satisfied: mpmath<1.4,>=1.1.0 in /usr/local/lib/python3.11/dist-packages (from sympy==1.13.1->torch>=1.8.0->ultralytics) (1.3.0)\n",
            "Requirement already satisfied: six>=1.5 in /usr/local/lib/python3.11/dist-packages (from python-dateutil>=2.7->matplotlib>=3.3.0->ultralytics) (1.17.0)\n",
            "Requirement already satisfied: MarkupSafe>=2.0 in /usr/local/lib/python3.11/dist-packages (from jinja2->torch>=1.8.0->ultralytics) (3.0.2)\n",
            "Downloading ultralytics-8.3.89-py3-none-any.whl (932 kB)\n",
            "\u001b[2K   \u001b[90m━━━━━━━━━━━━━━━━━━━━━━━━━━━━━━━━━━━━━━━━\u001b[0m \u001b[32m932.6/932.6 kB\u001b[0m \u001b[31m16.6 MB/s\u001b[0m eta \u001b[36m0:00:00\u001b[0m\n",
            "\u001b[?25hDownloading nvidia_cublas_cu12-12.4.5.8-py3-none-manylinux2014_x86_64.whl (363.4 MB)\n",
            "\u001b[2K   \u001b[90m━━━━━━━━━━━━━━━━━━━━━━━━━━━━━━━━━━━━━━━━\u001b[0m \u001b[32m363.4/363.4 MB\u001b[0m \u001b[31m4.4 MB/s\u001b[0m eta \u001b[36m0:00:00\u001b[0m\n",
            "\u001b[?25hDownloading nvidia_cuda_cupti_cu12-12.4.127-py3-none-manylinux2014_x86_64.whl (13.8 MB)\n",
            "\u001b[2K   \u001b[90m━━━━━━━━━━━━━━━━━━━━━━━━━━━━━━━━━━━━━━━━\u001b[0m \u001b[32m13.8/13.8 MB\u001b[0m \u001b[31m61.4 MB/s\u001b[0m eta \u001b[36m0:00:00\u001b[0m\n",
            "\u001b[?25hDownloading nvidia_cuda_nvrtc_cu12-12.4.127-py3-none-manylinux2014_x86_64.whl (24.6 MB)\n",
            "\u001b[2K   \u001b[90m━━━━━━━━━━━━━━━━━━━━━━━━━━━━━━━━━━━━━━━━\u001b[0m \u001b[32m24.6/24.6 MB\u001b[0m \u001b[31m32.7 MB/s\u001b[0m eta \u001b[36m0:00:00\u001b[0m\n",
            "\u001b[?25hDownloading nvidia_cuda_runtime_cu12-12.4.127-py3-none-manylinux2014_x86_64.whl (883 kB)\n",
            "\u001b[2K   \u001b[90m━━━━━━━━━━━━━━━━━━━━━━━━━━━━━━━━━━━━━━━━\u001b[0m \u001b[32m883.7/883.7 kB\u001b[0m \u001b[31m31.5 MB/s\u001b[0m eta \u001b[36m0:00:00\u001b[0m\n",
            "\u001b[?25hDownloading nvidia_cudnn_cu12-9.1.0.70-py3-none-manylinux2014_x86_64.whl (664.8 MB)\n",
            "\u001b[2K   \u001b[90m━━━━━━━━━━━━━━━━━━━━━━━━━━━━━━━━━━━━━━━━\u001b[0m \u001b[32m664.8/664.8 MB\u001b[0m \u001b[31m2.4 MB/s\u001b[0m eta \u001b[36m0:00:00\u001b[0m\n",
            "\u001b[?25hDownloading nvidia_cufft_cu12-11.2.1.3-py3-none-manylinux2014_x86_64.whl (211.5 MB)\n",
            "\u001b[2K   \u001b[90m━━━━━━━━━━━━━━━━━━━━━━━━━━━━━━━━━━━━━━━━\u001b[0m \u001b[32m211.5/211.5 MB\u001b[0m \u001b[31m5.6 MB/s\u001b[0m eta \u001b[36m0:00:00\u001b[0m\n",
            "\u001b[?25hDownloading nvidia_curand_cu12-10.3.5.147-py3-none-manylinux2014_x86_64.whl (56.3 MB)\n",
            "\u001b[2K   \u001b[90m━━━━━━━━━━━━━━━━━━━━━━━━━━━━━━━━━━━━━━━━\u001b[0m \u001b[32m56.3/56.3 MB\u001b[0m \u001b[31m11.9 MB/s\u001b[0m eta \u001b[36m0:00:00\u001b[0m\n",
            "\u001b[?25hDownloading nvidia_cusolver_cu12-11.6.1.9-py3-none-manylinux2014_x86_64.whl (127.9 MB)\n",
            "\u001b[2K   \u001b[90m━━━━━━━━━━━━━━━━━━━━━━━━━━━━━━━━━━━━━━━━\u001b[0m \u001b[32m127.9/127.9 MB\u001b[0m \u001b[31m7.4 MB/s\u001b[0m eta \u001b[36m0:00:00\u001b[0m\n",
            "\u001b[?25hDownloading nvidia_cusparse_cu12-12.3.1.170-py3-none-manylinux2014_x86_64.whl (207.5 MB)\n",
            "\u001b[2K   \u001b[90m━━━━━━━━━━━━━━━━━━━━━━━━━━━━━━━━━━━━━━━━\u001b[0m \u001b[32m207.5/207.5 MB\u001b[0m \u001b[31m6.1 MB/s\u001b[0m eta \u001b[36m0:00:00\u001b[0m\n",
            "\u001b[?25hDownloading nvidia_nvjitlink_cu12-12.4.127-py3-none-manylinux2014_x86_64.whl (21.1 MB)\n",
            "\u001b[2K   \u001b[90m━━━━━━━━━━━━━━━━━━━━━━━━━━━━━━━━━━━━━━━━\u001b[0m \u001b[32m21.1/21.1 MB\u001b[0m \u001b[31m67.4 MB/s\u001b[0m eta \u001b[36m0:00:00\u001b[0m\n",
            "\u001b[?25hDownloading ultralytics_thop-2.0.14-py3-none-any.whl (26 kB)\n",
            "Installing collected packages: nvidia-nvjitlink-cu12, nvidia-curand-cu12, nvidia-cufft-cu12, nvidia-cuda-runtime-cu12, nvidia-cuda-nvrtc-cu12, nvidia-cuda-cupti-cu12, nvidia-cublas-cu12, nvidia-cusparse-cu12, nvidia-cudnn-cu12, nvidia-cusolver-cu12, ultralytics-thop, ultralytics\n",
            "  Attempting uninstall: nvidia-nvjitlink-cu12\n",
            "    Found existing installation: nvidia-nvjitlink-cu12 12.5.82\n",
            "    Uninstalling nvidia-nvjitlink-cu12-12.5.82:\n",
            "      Successfully uninstalled nvidia-nvjitlink-cu12-12.5.82\n",
            "  Attempting uninstall: nvidia-curand-cu12\n",
            "    Found existing installation: nvidia-curand-cu12 10.3.6.82\n",
            "    Uninstalling nvidia-curand-cu12-10.3.6.82:\n",
            "      Successfully uninstalled nvidia-curand-cu12-10.3.6.82\n",
            "  Attempting uninstall: nvidia-cufft-cu12\n",
            "    Found existing installation: nvidia-cufft-cu12 11.2.3.61\n",
            "    Uninstalling nvidia-cufft-cu12-11.2.3.61:\n",
            "      Successfully uninstalled nvidia-cufft-cu12-11.2.3.61\n",
            "  Attempting uninstall: nvidia-cuda-runtime-cu12\n",
            "    Found existing installation: nvidia-cuda-runtime-cu12 12.5.82\n",
            "    Uninstalling nvidia-cuda-runtime-cu12-12.5.82:\n",
            "      Successfully uninstalled nvidia-cuda-runtime-cu12-12.5.82\n",
            "  Attempting uninstall: nvidia-cuda-nvrtc-cu12\n",
            "    Found existing installation: nvidia-cuda-nvrtc-cu12 12.5.82\n",
            "    Uninstalling nvidia-cuda-nvrtc-cu12-12.5.82:\n",
            "      Successfully uninstalled nvidia-cuda-nvrtc-cu12-12.5.82\n",
            "  Attempting uninstall: nvidia-cuda-cupti-cu12\n",
            "    Found existing installation: nvidia-cuda-cupti-cu12 12.5.82\n",
            "    Uninstalling nvidia-cuda-cupti-cu12-12.5.82:\n",
            "      Successfully uninstalled nvidia-cuda-cupti-cu12-12.5.82\n",
            "  Attempting uninstall: nvidia-cublas-cu12\n",
            "    Found existing installation: nvidia-cublas-cu12 12.5.3.2\n",
            "    Uninstalling nvidia-cublas-cu12-12.5.3.2:\n",
            "      Successfully uninstalled nvidia-cublas-cu12-12.5.3.2\n",
            "  Attempting uninstall: nvidia-cusparse-cu12\n",
            "    Found existing installation: nvidia-cusparse-cu12 12.5.1.3\n",
            "    Uninstalling nvidia-cusparse-cu12-12.5.1.3:\n",
            "      Successfully uninstalled nvidia-cusparse-cu12-12.5.1.3\n",
            "  Attempting uninstall: nvidia-cudnn-cu12\n",
            "    Found existing installation: nvidia-cudnn-cu12 9.3.0.75\n",
            "    Uninstalling nvidia-cudnn-cu12-9.3.0.75:\n",
            "      Successfully uninstalled nvidia-cudnn-cu12-9.3.0.75\n",
            "  Attempting uninstall: nvidia-cusolver-cu12\n",
            "    Found existing installation: nvidia-cusolver-cu12 11.6.3.83\n",
            "    Uninstalling nvidia-cusolver-cu12-11.6.3.83:\n",
            "      Successfully uninstalled nvidia-cusolver-cu12-11.6.3.83\n",
            "Successfully installed nvidia-cublas-cu12-12.4.5.8 nvidia-cuda-cupti-cu12-12.4.127 nvidia-cuda-nvrtc-cu12-12.4.127 nvidia-cuda-runtime-cu12-12.4.127 nvidia-cudnn-cu12-9.1.0.70 nvidia-cufft-cu12-11.2.1.3 nvidia-curand-cu12-10.3.5.147 nvidia-cusolver-cu12-11.6.1.9 nvidia-cusparse-cu12-12.3.1.170 nvidia-nvjitlink-cu12-12.4.127 ultralytics-8.3.89 ultralytics-thop-2.0.14\n",
            "Requirement already satisfied: matplotlib in /usr/local/lib/python3.11/dist-packages (3.10.0)\n",
            "Requirement already satisfied: contourpy>=1.0.1 in /usr/local/lib/python3.11/dist-packages (from matplotlib) (1.3.1)\n",
            "Requirement already satisfied: cycler>=0.10 in /usr/local/lib/python3.11/dist-packages (from matplotlib) (0.12.1)\n",
            "Requirement already satisfied: fonttools>=4.22.0 in /usr/local/lib/python3.11/dist-packages (from matplotlib) (4.56.0)\n",
            "Requirement already satisfied: kiwisolver>=1.3.1 in /usr/local/lib/python3.11/dist-packages (from matplotlib) (1.4.8)\n",
            "Requirement already satisfied: numpy>=1.23 in /usr/local/lib/python3.11/dist-packages (from matplotlib) (1.26.4)\n",
            "Requirement already satisfied: packaging>=20.0 in /usr/local/lib/python3.11/dist-packages (from matplotlib) (24.2)\n",
            "Requirement already satisfied: pillow>=8 in /usr/local/lib/python3.11/dist-packages (from matplotlib) (11.1.0)\n",
            "Requirement already satisfied: pyparsing>=2.3.1 in /usr/local/lib/python3.11/dist-packages (from matplotlib) (3.2.1)\n",
            "Requirement already satisfied: python-dateutil>=2.7 in /usr/local/lib/python3.11/dist-packages (from matplotlib) (2.8.2)\n",
            "Requirement already satisfied: six>=1.5 in /usr/local/lib/python3.11/dist-packages (from python-dateutil>=2.7->matplotlib) (1.17.0)\n",
            "Requirement already satisfied: seaborn in /usr/local/lib/python3.11/dist-packages (0.13.2)\n",
            "Requirement already satisfied: numpy!=1.24.0,>=1.20 in /usr/local/lib/python3.11/dist-packages (from seaborn) (1.26.4)\n",
            "Requirement already satisfied: pandas>=1.2 in /usr/local/lib/python3.11/dist-packages (from seaborn) (2.2.2)\n",
            "Requirement already satisfied: matplotlib!=3.6.1,>=3.4 in /usr/local/lib/python3.11/dist-packages (from seaborn) (3.10.0)\n",
            "Requirement already satisfied: contourpy>=1.0.1 in /usr/local/lib/python3.11/dist-packages (from matplotlib!=3.6.1,>=3.4->seaborn) (1.3.1)\n",
            "Requirement already satisfied: cycler>=0.10 in /usr/local/lib/python3.11/dist-packages (from matplotlib!=3.6.1,>=3.4->seaborn) (0.12.1)\n",
            "Requirement already satisfied: fonttools>=4.22.0 in /usr/local/lib/python3.11/dist-packages (from matplotlib!=3.6.1,>=3.4->seaborn) (4.56.0)\n",
            "Requirement already satisfied: kiwisolver>=1.3.1 in /usr/local/lib/python3.11/dist-packages (from matplotlib!=3.6.1,>=3.4->seaborn) (1.4.8)\n",
            "Requirement already satisfied: packaging>=20.0 in /usr/local/lib/python3.11/dist-packages (from matplotlib!=3.6.1,>=3.4->seaborn) (24.2)\n",
            "Requirement already satisfied: pillow>=8 in /usr/local/lib/python3.11/dist-packages (from matplotlib!=3.6.1,>=3.4->seaborn) (11.1.0)\n",
            "Requirement already satisfied: pyparsing>=2.3.1 in /usr/local/lib/python3.11/dist-packages (from matplotlib!=3.6.1,>=3.4->seaborn) (3.2.1)\n",
            "Requirement already satisfied: python-dateutil>=2.7 in /usr/local/lib/python3.11/dist-packages (from matplotlib!=3.6.1,>=3.4->seaborn) (2.8.2)\n",
            "Requirement already satisfied: pytz>=2020.1 in /usr/local/lib/python3.11/dist-packages (from pandas>=1.2->seaborn) (2025.1)\n",
            "Requirement already satisfied: tzdata>=2022.7 in /usr/local/lib/python3.11/dist-packages (from pandas>=1.2->seaborn) (2025.1)\n",
            "Requirement already satisfied: six>=1.5 in /usr/local/lib/python3.11/dist-packages (from python-dateutil>=2.7->matplotlib!=3.6.1,>=3.4->seaborn) (1.17.0)\n"
          ]
        }
      ],
      "source": [
        "# Install required libraries\n",
        "!pip install ultralytics\n",
        "!pip install matplotlib\n",
        "!pip install seaborn"
      ]
    },
    {
      "cell_type": "code",
      "source": [
        "# Import libraries\n",
        "import os\n",
        "import shutil\n",
        "import matplotlib.pyplot as plt\n",
        "import seaborn as sns\n",
        "from google.colab import drive\n",
        "from ultralytics import YOLO\n",
        "from google.colab import files\n",
        "from IPython.display import Image, display"
      ],
      "metadata": {
        "id": "J6dqnoW68o21"
      },
      "execution_count": 4,
      "outputs": []
    },
    {
      "cell_type": "markdown",
      "source": [
        "# =============================================\n",
        "# 2. Prepare Dataset\n",
        "# ============================================="
      ],
      "metadata": {
        "id": "WOdpu9Hy9CyQ"
      }
    },
    {
      "cell_type": "code",
      "source": [
        "# Upload your dataset.zip file to Google Colab\n",
        "# (Use the file uploader or Google Drive)\n",
        "drive.mount('/content/drive')"
      ],
      "metadata": {
        "colab": {
          "base_uri": "https://localhost:8080/"
        },
        "id": "3QgtmIzy9EmC",
        "outputId": "9c6cec85-9eac-40a1-9b73-27de019b9b0c"
      },
      "execution_count": 5,
      "outputs": [
        {
          "output_type": "stream",
          "name": "stdout",
          "text": [
            "Mounted at /content/drive\n"
          ]
        }
      ]
    },
    {
      "cell_type": "code",
      "source": [
        "# Unzip the dataset\n",
        "!unzip '/content/drive/My Drive/datasets/dataset.zip' -d /content/"
      ],
      "metadata": {
        "colab": {
          "base_uri": "https://localhost:8080/"
        },
        "id": "xkxbjJNB9Qhj",
        "outputId": "270bddc5-b46e-4231-e298-24c9cd48b093"
      },
      "execution_count": 9,
      "outputs": [
        {
          "output_type": "stream",
          "name": "stdout",
          "text": [
            "Archive:  /content/drive/My Drive/datasets/dataset.zip\n",
            "   creating: /content/dataset/\n",
            "  inflating: /content/dataset/classes.txt  \n",
            "  inflating: /content/dataset/data.yaml  \n",
            "   creating: /content/dataset/images/\n",
            "   creating: /content/dataset/images/test/\n",
            "  inflating: /content/dataset/images/test/augmented_id_card_template2_females_100.png  \n",
            "  inflating: /content/dataset/images/test/augmented_id_card_template2_females_82.png  \n",
            "  inflating: /content/dataset/images/test/augmented_id_card_template2_females_83.png  \n",
            "  inflating: /content/dataset/images/test/augmented_id_card_template2_females_84.png  \n",
            "  inflating: /content/dataset/images/test/augmented_id_card_template2_females_85.png  \n",
            "  inflating: /content/dataset/images/test/augmented_id_card_template2_females_86.png  \n",
            "  inflating: /content/dataset/images/test/augmented_id_card_template2_females_87.png  \n",
            "  inflating: /content/dataset/images/test/augmented_id_card_template2_females_88.png  \n",
            "  inflating: /content/dataset/images/test/augmented_id_card_template2_females_89.png  \n",
            "  inflating: /content/dataset/images/test/augmented_id_card_template2_females_90.png  \n",
            "  inflating: /content/dataset/images/test/augmented_id_card_template2_males_100.png  \n",
            "  inflating: /content/dataset/images/test/augmented_id_card_template2_males_82.png  \n",
            "  inflating: /content/dataset/images/test/augmented_id_card_template2_males_83.png  \n",
            "  inflating: /content/dataset/images/test/augmented_id_card_template2_males_84.png  \n",
            "  inflating: /content/dataset/images/test/augmented_id_card_template2_males_85.png  \n",
            "  inflating: /content/dataset/images/test/augmented_id_card_template2_males_86.png  \n",
            "  inflating: /content/dataset/images/test/augmented_id_card_template2_males_87.png  \n",
            "  inflating: /content/dataset/images/test/augmented_id_card_template2_males_88.png  \n",
            "  inflating: /content/dataset/images/test/augmented_id_card_template2_males_89.png  \n",
            "  inflating: /content/dataset/images/test/augmented_id_card_template2_males_90.png  \n",
            "  inflating: /content/dataset/images/test/id_card_template2_females_100.png  \n",
            "  inflating: /content/dataset/images/test/id_card_template2_females_82.png  \n",
            "  inflating: /content/dataset/images/test/id_card_template2_females_83.png  \n",
            "  inflating: /content/dataset/images/test/id_card_template2_females_84.png  \n",
            "  inflating: /content/dataset/images/test/id_card_template2_females_85.png  \n",
            "  inflating: /content/dataset/images/test/id_card_template2_females_86.png  \n",
            "  inflating: /content/dataset/images/test/id_card_template2_females_87.png  \n",
            "  inflating: /content/dataset/images/test/id_card_template2_females_88.png  \n",
            "  inflating: /content/dataset/images/test/id_card_template2_females_89.png  \n",
            "  inflating: /content/dataset/images/test/id_card_template2_females_90.png  \n",
            "  inflating: /content/dataset/images/test/id_card_template2_males_100.png  \n",
            "  inflating: /content/dataset/images/test/id_card_template2_males_82.png  \n",
            "  inflating: /content/dataset/images/test/id_card_template2_males_83.png  \n",
            "  inflating: /content/dataset/images/test/id_card_template2_males_84.png  \n",
            "  inflating: /content/dataset/images/test/id_card_template2_males_85.png  \n",
            "  inflating: /content/dataset/images/test/id_card_template2_males_86.png  \n",
            "  inflating: /content/dataset/images/test/id_card_template2_males_87.png  \n",
            "  inflating: /content/dataset/images/test/id_card_template2_males_88.png  \n",
            "  inflating: /content/dataset/images/test/id_card_template2_males_89.png  \n",
            "  inflating: /content/dataset/images/test/id_card_template2_males_90.png  \n",
            "   creating: /content/dataset/images/train/\n",
            "  inflating: /content/dataset/images/train/augmented_id_card_template2_females_1.png  \n",
            "  inflating: /content/dataset/images/train/augmented_id_card_template2_females_10.png  \n",
            "  inflating: /content/dataset/images/train/augmented_id_card_template2_females_11.png  \n",
            "  inflating: /content/dataset/images/train/augmented_id_card_template2_females_12.png  \n",
            "  inflating: /content/dataset/images/train/augmented_id_card_template2_females_13.png  \n",
            "  inflating: /content/dataset/images/train/augmented_id_card_template2_females_14.png  \n",
            "  inflating: /content/dataset/images/train/augmented_id_card_template2_females_15.png  \n",
            "  inflating: /content/dataset/images/train/augmented_id_card_template2_females_16.png  \n",
            "  inflating: /content/dataset/images/train/augmented_id_card_template2_females_17.png  \n",
            "  inflating: /content/dataset/images/train/augmented_id_card_template2_females_18.png  \n",
            "  inflating: /content/dataset/images/train/augmented_id_card_template2_females_19.png  \n",
            "  inflating: /content/dataset/images/train/augmented_id_card_template2_females_2.png  \n",
            "  inflating: /content/dataset/images/train/augmented_id_card_template2_females_20.png  \n",
            "  inflating: /content/dataset/images/train/augmented_id_card_template2_females_21.png  \n",
            "  inflating: /content/dataset/images/train/augmented_id_card_template2_females_22.png  \n",
            "  inflating: /content/dataset/images/train/augmented_id_card_template2_females_23.png  \n",
            "  inflating: /content/dataset/images/train/augmented_id_card_template2_females_24.png  \n",
            "  inflating: /content/dataset/images/train/augmented_id_card_template2_females_25.png  \n",
            "  inflating: /content/dataset/images/train/augmented_id_card_template2_females_26.png  \n",
            "  inflating: /content/dataset/images/train/augmented_id_card_template2_females_27.png  \n",
            "  inflating: /content/dataset/images/train/augmented_id_card_template2_females_28.png  \n",
            "  inflating: /content/dataset/images/train/augmented_id_card_template2_females_29.png  \n",
            "  inflating: /content/dataset/images/train/augmented_id_card_template2_females_3.png  \n",
            "  inflating: /content/dataset/images/train/augmented_id_card_template2_females_30.png  \n",
            "  inflating: /content/dataset/images/train/augmented_id_card_template2_females_31.png  \n",
            "  inflating: /content/dataset/images/train/augmented_id_card_template2_females_32.png  \n",
            "  inflating: /content/dataset/images/train/augmented_id_card_template2_females_33.png  \n",
            "  inflating: /content/dataset/images/train/augmented_id_card_template2_females_34.png  \n",
            "  inflating: /content/dataset/images/train/augmented_id_card_template2_females_35.png  \n",
            "  inflating: /content/dataset/images/train/augmented_id_card_template2_females_36.png  \n",
            "  inflating: /content/dataset/images/train/augmented_id_card_template2_females_37.png  \n",
            "  inflating: /content/dataset/images/train/augmented_id_card_template2_females_38.png  \n",
            "  inflating: /content/dataset/images/train/augmented_id_card_template2_females_39.png  \n",
            "  inflating: /content/dataset/images/train/augmented_id_card_template2_females_4.png  \n",
            "  inflating: /content/dataset/images/train/augmented_id_card_template2_females_40.png  \n",
            "  inflating: /content/dataset/images/train/augmented_id_card_template2_females_41.png  \n",
            "  inflating: /content/dataset/images/train/augmented_id_card_template2_females_42.png  \n",
            "  inflating: /content/dataset/images/train/augmented_id_card_template2_females_43.png  \n",
            "  inflating: /content/dataset/images/train/augmented_id_card_template2_females_44.png  \n",
            "  inflating: /content/dataset/images/train/augmented_id_card_template2_females_45.png  \n",
            "  inflating: /content/dataset/images/train/augmented_id_card_template2_females_46.png  \n",
            "  inflating: /content/dataset/images/train/augmented_id_card_template2_females_47.png  \n",
            "  inflating: /content/dataset/images/train/augmented_id_card_template2_females_48.png  \n",
            "  inflating: /content/dataset/images/train/augmented_id_card_template2_females_49.png  \n",
            "  inflating: /content/dataset/images/train/augmented_id_card_template2_females_5.png  \n",
            "  inflating: /content/dataset/images/train/augmented_id_card_template2_females_50.png  \n",
            "  inflating: /content/dataset/images/train/augmented_id_card_template2_females_51.png  \n",
            "  inflating: /content/dataset/images/train/augmented_id_card_template2_females_52.png  \n",
            "  inflating: /content/dataset/images/train/augmented_id_card_template2_females_53.png  \n",
            "  inflating: /content/dataset/images/train/augmented_id_card_template2_females_54.png  \n",
            "  inflating: /content/dataset/images/train/augmented_id_card_template2_females_55.png  \n",
            "  inflating: /content/dataset/images/train/augmented_id_card_template2_females_56.png  \n",
            "  inflating: /content/dataset/images/train/augmented_id_card_template2_females_57.png  \n",
            "  inflating: /content/dataset/images/train/augmented_id_card_template2_females_58.png  \n",
            "  inflating: /content/dataset/images/train/augmented_id_card_template2_females_59.png  \n",
            "  inflating: /content/dataset/images/train/augmented_id_card_template2_females_6.png  \n",
            "  inflating: /content/dataset/images/train/augmented_id_card_template2_females_60.png  \n",
            "  inflating: /content/dataset/images/train/augmented_id_card_template2_females_61.png  \n",
            "  inflating: /content/dataset/images/train/augmented_id_card_template2_females_62.png  \n",
            "  inflating: /content/dataset/images/train/augmented_id_card_template2_females_63.png  \n",
            "  inflating: /content/dataset/images/train/augmented_id_card_template2_females_7.png  \n",
            "  inflating: /content/dataset/images/train/augmented_id_card_template2_females_8.png  \n",
            "  inflating: /content/dataset/images/train/augmented_id_card_template2_females_9.png  \n",
            "  inflating: /content/dataset/images/train/augmented_id_card_template2_females_91.png  \n",
            "  inflating: /content/dataset/images/train/augmented_id_card_template2_females_92.png  \n",
            "  inflating: /content/dataset/images/train/augmented_id_card_template2_females_93.png  \n",
            "  inflating: /content/dataset/images/train/augmented_id_card_template2_females_94.png  \n",
            "  inflating: /content/dataset/images/train/augmented_id_card_template2_females_95.png  \n",
            "  inflating: /content/dataset/images/train/augmented_id_card_template2_females_96.png  \n",
            "  inflating: /content/dataset/images/train/augmented_id_card_template2_females_97.png  \n",
            "  inflating: /content/dataset/images/train/augmented_id_card_template2_males_1.png  \n",
            "  inflating: /content/dataset/images/train/augmented_id_card_template2_males_10.png  \n",
            "  inflating: /content/dataset/images/train/augmented_id_card_template2_males_11.png  \n",
            "  inflating: /content/dataset/images/train/augmented_id_card_template2_males_12.png  \n",
            "  inflating: /content/dataset/images/train/augmented_id_card_template2_males_13.png  \n",
            "  inflating: /content/dataset/images/train/augmented_id_card_template2_males_14.png  \n",
            "  inflating: /content/dataset/images/train/augmented_id_card_template2_males_15.png  \n",
            "  inflating: /content/dataset/images/train/augmented_id_card_template2_males_16.png  \n",
            "  inflating: /content/dataset/images/train/augmented_id_card_template2_males_17.png  \n",
            "  inflating: /content/dataset/images/train/augmented_id_card_template2_males_18.png  \n",
            "  inflating: /content/dataset/images/train/augmented_id_card_template2_males_19.png  \n",
            "  inflating: /content/dataset/images/train/augmented_id_card_template2_males_2.png  \n",
            "  inflating: /content/dataset/images/train/augmented_id_card_template2_males_20.png  \n",
            "  inflating: /content/dataset/images/train/augmented_id_card_template2_males_21.png  \n",
            "  inflating: /content/dataset/images/train/augmented_id_card_template2_males_22.png  \n",
            "  inflating: /content/dataset/images/train/augmented_id_card_template2_males_23.png  \n",
            "  inflating: /content/dataset/images/train/augmented_id_card_template2_males_24.png  \n",
            "  inflating: /content/dataset/images/train/augmented_id_card_template2_males_25.png  \n",
            "  inflating: /content/dataset/images/train/augmented_id_card_template2_males_26.png  \n",
            "  inflating: /content/dataset/images/train/augmented_id_card_template2_males_27.png  \n",
            "  inflating: /content/dataset/images/train/augmented_id_card_template2_males_28.png  \n",
            "  inflating: /content/dataset/images/train/augmented_id_card_template2_males_29.png  \n",
            "  inflating: /content/dataset/images/train/augmented_id_card_template2_males_3.png  \n",
            "  inflating: /content/dataset/images/train/augmented_id_card_template2_males_30.png  \n",
            "  inflating: /content/dataset/images/train/augmented_id_card_template2_males_31.png  \n",
            "  inflating: /content/dataset/images/train/augmented_id_card_template2_males_32.png  \n",
            "  inflating: /content/dataset/images/train/augmented_id_card_template2_males_33.png  \n",
            "  inflating: /content/dataset/images/train/augmented_id_card_template2_males_34.png  \n",
            "  inflating: /content/dataset/images/train/augmented_id_card_template2_males_35.png  \n",
            "  inflating: /content/dataset/images/train/augmented_id_card_template2_males_36.png  \n",
            "  inflating: /content/dataset/images/train/augmented_id_card_template2_males_37.png  \n",
            "  inflating: /content/dataset/images/train/augmented_id_card_template2_males_38.png  \n",
            "  inflating: /content/dataset/images/train/augmented_id_card_template2_males_39.png  \n",
            "  inflating: /content/dataset/images/train/augmented_id_card_template2_males_4.png  \n",
            "  inflating: /content/dataset/images/train/augmented_id_card_template2_males_40.png  \n",
            "  inflating: /content/dataset/images/train/augmented_id_card_template2_males_41.png  \n",
            "  inflating: /content/dataset/images/train/augmented_id_card_template2_males_42.png  \n",
            "  inflating: /content/dataset/images/train/augmented_id_card_template2_males_43.png  \n",
            "  inflating: /content/dataset/images/train/augmented_id_card_template2_males_44.png  \n",
            "  inflating: /content/dataset/images/train/augmented_id_card_template2_males_45.png  \n",
            "  inflating: /content/dataset/images/train/augmented_id_card_template2_males_46.png  \n",
            "  inflating: /content/dataset/images/train/augmented_id_card_template2_males_47.png  \n",
            "  inflating: /content/dataset/images/train/augmented_id_card_template2_males_48.png  \n",
            "  inflating: /content/dataset/images/train/augmented_id_card_template2_males_49.png  \n",
            "  inflating: /content/dataset/images/train/augmented_id_card_template2_males_5.png  \n",
            "  inflating: /content/dataset/images/train/augmented_id_card_template2_males_50.png  \n",
            "  inflating: /content/dataset/images/train/augmented_id_card_template2_males_51.png  \n",
            "  inflating: /content/dataset/images/train/augmented_id_card_template2_males_52.png  \n",
            "  inflating: /content/dataset/images/train/augmented_id_card_template2_males_53.png  \n",
            "  inflating: /content/dataset/images/train/augmented_id_card_template2_males_54.png  \n",
            "  inflating: /content/dataset/images/train/augmented_id_card_template2_males_55.png  \n",
            "  inflating: /content/dataset/images/train/augmented_id_card_template2_males_56.png  \n",
            "  inflating: /content/dataset/images/train/augmented_id_card_template2_males_57.png  \n",
            "  inflating: /content/dataset/images/train/augmented_id_card_template2_males_58.png  \n",
            "  inflating: /content/dataset/images/train/augmented_id_card_template2_males_59.png  \n",
            "  inflating: /content/dataset/images/train/augmented_id_card_template2_males_6.png  \n",
            "  inflating: /content/dataset/images/train/augmented_id_card_template2_males_60.png  \n",
            "  inflating: /content/dataset/images/train/augmented_id_card_template2_males_61.png  \n",
            "  inflating: /content/dataset/images/train/augmented_id_card_template2_males_62.png  \n",
            "  inflating: /content/dataset/images/train/augmented_id_card_template2_males_63.png  \n",
            "  inflating: /content/dataset/images/train/augmented_id_card_template2_males_7.png  \n",
            "  inflating: /content/dataset/images/train/augmented_id_card_template2_males_8.png  \n",
            "  inflating: /content/dataset/images/train/augmented_id_card_template2_males_9.png  \n",
            "  inflating: /content/dataset/images/train/augmented_id_card_template2_males_91.png  \n",
            "  inflating: /content/dataset/images/train/augmented_id_card_template2_males_92.png  \n",
            "  inflating: /content/dataset/images/train/augmented_id_card_template2_males_93.png  \n",
            "  inflating: /content/dataset/images/train/augmented_id_card_template2_males_94.png  \n",
            "  inflating: /content/dataset/images/train/augmented_id_card_template2_males_95.png  \n",
            "  inflating: /content/dataset/images/train/augmented_id_card_template2_males_96.png  \n",
            "  inflating: /content/dataset/images/train/augmented_id_card_template2_males_97.png  \n",
            "  inflating: /content/dataset/images/train/id_card_template2_females_1.png  \n",
            "  inflating: /content/dataset/images/train/id_card_template2_females_10.png  \n",
            "  inflating: /content/dataset/images/train/id_card_template2_females_11.png  \n",
            "  inflating: /content/dataset/images/train/id_card_template2_females_12.png  \n",
            "  inflating: /content/dataset/images/train/id_card_template2_females_13.png  \n",
            "  inflating: /content/dataset/images/train/id_card_template2_females_14.png  \n",
            "  inflating: /content/dataset/images/train/id_card_template2_females_15.png  \n",
            "  inflating: /content/dataset/images/train/id_card_template2_females_16.png  \n",
            "  inflating: /content/dataset/images/train/id_card_template2_females_17.png  \n",
            "  inflating: /content/dataset/images/train/id_card_template2_females_18.png  \n",
            "  inflating: /content/dataset/images/train/id_card_template2_females_19.png  \n",
            "  inflating: /content/dataset/images/train/id_card_template2_females_2.png  \n",
            "  inflating: /content/dataset/images/train/id_card_template2_females_20.png  \n",
            "  inflating: /content/dataset/images/train/id_card_template2_females_21.png  \n",
            "  inflating: /content/dataset/images/train/id_card_template2_females_22.png  \n",
            "  inflating: /content/dataset/images/train/id_card_template2_females_23.png  \n",
            "  inflating: /content/dataset/images/train/id_card_template2_females_24.png  \n",
            "  inflating: /content/dataset/images/train/id_card_template2_females_25.png  \n",
            "  inflating: /content/dataset/images/train/id_card_template2_females_26.png  \n",
            "  inflating: /content/dataset/images/train/id_card_template2_females_27.png  \n",
            "  inflating: /content/dataset/images/train/id_card_template2_females_28.png  \n",
            "  inflating: /content/dataset/images/train/id_card_template2_females_29.png  \n",
            "  inflating: /content/dataset/images/train/id_card_template2_females_3.png  \n",
            "  inflating: /content/dataset/images/train/id_card_template2_females_30.png  \n",
            "  inflating: /content/dataset/images/train/id_card_template2_females_31.png  \n",
            "  inflating: /content/dataset/images/train/id_card_template2_females_32.png  \n",
            "  inflating: /content/dataset/images/train/id_card_template2_females_33.png  \n",
            "  inflating: /content/dataset/images/train/id_card_template2_females_34.png  \n",
            "  inflating: /content/dataset/images/train/id_card_template2_females_35.png  \n",
            "  inflating: /content/dataset/images/train/id_card_template2_females_36.png  \n",
            "  inflating: /content/dataset/images/train/id_card_template2_females_37.png  \n",
            "  inflating: /content/dataset/images/train/id_card_template2_females_38.png  \n",
            "  inflating: /content/dataset/images/train/id_card_template2_females_39.png  \n",
            "  inflating: /content/dataset/images/train/id_card_template2_females_4.png  \n",
            "  inflating: /content/dataset/images/train/id_card_template2_females_40.png  \n",
            "  inflating: /content/dataset/images/train/id_card_template2_females_41.png  \n",
            "  inflating: /content/dataset/images/train/id_card_template2_females_42.png  \n",
            "  inflating: /content/dataset/images/train/id_card_template2_females_43.png  \n",
            "  inflating: /content/dataset/images/train/id_card_template2_females_44.png  \n",
            "  inflating: /content/dataset/images/train/id_card_template2_females_45.png  \n",
            "  inflating: /content/dataset/images/train/id_card_template2_females_46.png  \n",
            "  inflating: /content/dataset/images/train/id_card_template2_females_47.png  \n",
            "  inflating: /content/dataset/images/train/id_card_template2_females_48.png  \n",
            "  inflating: /content/dataset/images/train/id_card_template2_females_49.png  \n",
            "  inflating: /content/dataset/images/train/id_card_template2_females_5.png  \n",
            "  inflating: /content/dataset/images/train/id_card_template2_females_50.png  \n",
            "  inflating: /content/dataset/images/train/id_card_template2_females_51.png  \n",
            "  inflating: /content/dataset/images/train/id_card_template2_females_52.png  \n",
            "  inflating: /content/dataset/images/train/id_card_template2_females_53.png  \n",
            "  inflating: /content/dataset/images/train/id_card_template2_females_54.png  \n",
            "  inflating: /content/dataset/images/train/id_card_template2_females_55.png  \n",
            "  inflating: /content/dataset/images/train/id_card_template2_females_56.png  \n",
            "  inflating: /content/dataset/images/train/id_card_template2_females_57.png  \n",
            "  inflating: /content/dataset/images/train/id_card_template2_females_58.png  \n",
            "  inflating: /content/dataset/images/train/id_card_template2_females_59.png  \n",
            "  inflating: /content/dataset/images/train/id_card_template2_females_6.png  \n",
            "  inflating: /content/dataset/images/train/id_card_template2_females_60.png  \n",
            "  inflating: /content/dataset/images/train/id_card_template2_females_61.png  \n",
            "  inflating: /content/dataset/images/train/id_card_template2_females_62.png  \n",
            "  inflating: /content/dataset/images/train/id_card_template2_females_63.png  \n",
            "  inflating: /content/dataset/images/train/id_card_template2_females_7.png  \n",
            "  inflating: /content/dataset/images/train/id_card_template2_females_8.png  \n",
            "  inflating: /content/dataset/images/train/id_card_template2_females_9.png  \n",
            "  inflating: /content/dataset/images/train/id_card_template2_females_91.png  \n",
            "  inflating: /content/dataset/images/train/id_card_template2_females_92.png  \n",
            "  inflating: /content/dataset/images/train/id_card_template2_females_93.png  \n",
            "  inflating: /content/dataset/images/train/id_card_template2_females_94.png  \n",
            "  inflating: /content/dataset/images/train/id_card_template2_females_95.png  \n",
            "  inflating: /content/dataset/images/train/id_card_template2_females_96.png  \n",
            "  inflating: /content/dataset/images/train/id_card_template2_females_97.png  \n",
            "  inflating: /content/dataset/images/train/id_card_template2_males_1.png  \n",
            "  inflating: /content/dataset/images/train/id_card_template2_males_10.png  \n",
            "  inflating: /content/dataset/images/train/id_card_template2_males_11.png  \n",
            "  inflating: /content/dataset/images/train/id_card_template2_males_12.png  \n",
            "  inflating: /content/dataset/images/train/id_card_template2_males_13.png  \n",
            "  inflating: /content/dataset/images/train/id_card_template2_males_14.png  \n",
            "  inflating: /content/dataset/images/train/id_card_template2_males_15.png  \n",
            "  inflating: /content/dataset/images/train/id_card_template2_males_16.png  \n",
            "  inflating: /content/dataset/images/train/id_card_template2_males_17.png  \n",
            "  inflating: /content/dataset/images/train/id_card_template2_males_18.png  \n",
            "  inflating: /content/dataset/images/train/id_card_template2_males_19.png  \n",
            "  inflating: /content/dataset/images/train/id_card_template2_males_2.png  \n",
            "  inflating: /content/dataset/images/train/id_card_template2_males_20.png  \n",
            "  inflating: /content/dataset/images/train/id_card_template2_males_21.png  \n",
            "  inflating: /content/dataset/images/train/id_card_template2_males_22.png  \n",
            "  inflating: /content/dataset/images/train/id_card_template2_males_23.png  \n",
            "  inflating: /content/dataset/images/train/id_card_template2_males_24.png  \n",
            "  inflating: /content/dataset/images/train/id_card_template2_males_25.png  \n",
            "  inflating: /content/dataset/images/train/id_card_template2_males_26.png  \n",
            "  inflating: /content/dataset/images/train/id_card_template2_males_27.png  \n",
            "  inflating: /content/dataset/images/train/id_card_template2_males_28.png  \n",
            "  inflating: /content/dataset/images/train/id_card_template2_males_29.png  \n",
            "  inflating: /content/dataset/images/train/id_card_template2_males_3.png  \n",
            "  inflating: /content/dataset/images/train/id_card_template2_males_30.png  \n",
            "  inflating: /content/dataset/images/train/id_card_template2_males_31.png  \n",
            "  inflating: /content/dataset/images/train/id_card_template2_males_32.png  \n",
            "  inflating: /content/dataset/images/train/id_card_template2_males_33.png  \n",
            "  inflating: /content/dataset/images/train/id_card_template2_males_34.png  \n",
            "  inflating: /content/dataset/images/train/id_card_template2_males_35.png  \n",
            "  inflating: /content/dataset/images/train/id_card_template2_males_36.png  \n",
            "  inflating: /content/dataset/images/train/id_card_template2_males_37.png  \n",
            "  inflating: /content/dataset/images/train/id_card_template2_males_38.png  \n",
            "  inflating: /content/dataset/images/train/id_card_template2_males_39.png  \n",
            "  inflating: /content/dataset/images/train/id_card_template2_males_4.png  \n",
            "  inflating: /content/dataset/images/train/id_card_template2_males_40.png  \n",
            "  inflating: /content/dataset/images/train/id_card_template2_males_41.png  \n",
            "  inflating: /content/dataset/images/train/id_card_template2_males_42.png  \n",
            "  inflating: /content/dataset/images/train/id_card_template2_males_43.png  \n",
            "  inflating: /content/dataset/images/train/id_card_template2_males_44.png  \n",
            "  inflating: /content/dataset/images/train/id_card_template2_males_45.png  \n",
            "  inflating: /content/dataset/images/train/id_card_template2_males_46.png  \n",
            "  inflating: /content/dataset/images/train/id_card_template2_males_47.png  \n",
            "  inflating: /content/dataset/images/train/id_card_template2_males_48.png  \n",
            "  inflating: /content/dataset/images/train/id_card_template2_males_49.png  \n",
            "  inflating: /content/dataset/images/train/id_card_template2_males_5.png  \n",
            "  inflating: /content/dataset/images/train/id_card_template2_males_50.png  \n",
            "  inflating: /content/dataset/images/train/id_card_template2_males_51.png  \n",
            "  inflating: /content/dataset/images/train/id_card_template2_males_52.png  \n",
            "  inflating: /content/dataset/images/train/id_card_template2_males_53.png  \n",
            "  inflating: /content/dataset/images/train/id_card_template2_males_54.png  \n",
            "  inflating: /content/dataset/images/train/id_card_template2_males_55.png  \n",
            "  inflating: /content/dataset/images/train/id_card_template2_males_56.png  \n",
            "  inflating: /content/dataset/images/train/id_card_template2_males_57.png  \n",
            "  inflating: /content/dataset/images/train/id_card_template2_males_58.png  \n",
            "  inflating: /content/dataset/images/train/id_card_template2_males_59.png  \n",
            "  inflating: /content/dataset/images/train/id_card_template2_males_6.png  \n",
            "  inflating: /content/dataset/images/train/id_card_template2_males_60.png  \n",
            "  inflating: /content/dataset/images/train/id_card_template2_males_61.png  \n",
            "  inflating: /content/dataset/images/train/id_card_template2_males_62.png  \n",
            "  inflating: /content/dataset/images/train/id_card_template2_males_63.png  \n",
            "  inflating: /content/dataset/images/train/id_card_template2_males_7.png  \n",
            "  inflating: /content/dataset/images/train/id_card_template2_males_8.png  \n",
            "  inflating: /content/dataset/images/train/id_card_template2_males_9.png  \n",
            "  inflating: /content/dataset/images/train/id_card_template2_males_91.png  \n",
            "  inflating: /content/dataset/images/train/id_card_template2_males_92.png  \n",
            "  inflating: /content/dataset/images/train/id_card_template2_males_93.png  \n",
            "  inflating: /content/dataset/images/train/id_card_template2_males_94.png  \n",
            "  inflating: /content/dataset/images/train/id_card_template2_males_95.png  \n",
            "  inflating: /content/dataset/images/train/id_card_template2_males_96.png  \n",
            "  inflating: /content/dataset/images/train/id_card_template2_males_97.png  \n",
            "   creating: /content/dataset/images/val/\n",
            "  inflating: /content/dataset/images/val/augmented_id_card_template2_females_64.png  \n",
            "  inflating: /content/dataset/images/val/augmented_id_card_template2_females_65.png  \n",
            "  inflating: /content/dataset/images/val/augmented_id_card_template2_females_66.png  \n",
            "  inflating: /content/dataset/images/val/augmented_id_card_template2_females_67.png  \n",
            "  inflating: /content/dataset/images/val/augmented_id_card_template2_females_68.png  \n",
            "  inflating: /content/dataset/images/val/augmented_id_card_template2_females_69.png  \n",
            "  inflating: /content/dataset/images/val/augmented_id_card_template2_females_70.png  \n",
            "  inflating: /content/dataset/images/val/augmented_id_card_template2_females_71.png  \n",
            "  inflating: /content/dataset/images/val/augmented_id_card_template2_females_72.png  \n",
            "  inflating: /content/dataset/images/val/augmented_id_card_template2_females_73.png  \n",
            "  inflating: /content/dataset/images/val/augmented_id_card_template2_females_74.png  \n",
            "  inflating: /content/dataset/images/val/augmented_id_card_template2_females_75.png  \n",
            "  inflating: /content/dataset/images/val/augmented_id_card_template2_females_76.png  \n",
            "  inflating: /content/dataset/images/val/augmented_id_card_template2_females_77.png  \n",
            "  inflating: /content/dataset/images/val/augmented_id_card_template2_females_78.png  \n",
            "  inflating: /content/dataset/images/val/augmented_id_card_template2_females_79.png  \n",
            "  inflating: /content/dataset/images/val/augmented_id_card_template2_females_80.png  \n",
            "  inflating: /content/dataset/images/val/augmented_id_card_template2_females_81.png  \n",
            "  inflating: /content/dataset/images/val/augmented_id_card_template2_females_98.png  \n",
            "  inflating: /content/dataset/images/val/augmented_id_card_template2_females_99.png  \n",
            "  inflating: /content/dataset/images/val/augmented_id_card_template2_males_64.png  \n",
            "  inflating: /content/dataset/images/val/augmented_id_card_template2_males_65.png  \n",
            "  inflating: /content/dataset/images/val/augmented_id_card_template2_males_66.png  \n",
            "  inflating: /content/dataset/images/val/augmented_id_card_template2_males_67.png  \n",
            "  inflating: /content/dataset/images/val/augmented_id_card_template2_males_68.png  \n",
            "  inflating: /content/dataset/images/val/augmented_id_card_template2_males_69.png  \n",
            "  inflating: /content/dataset/images/val/augmented_id_card_template2_males_70.png  \n",
            "  inflating: /content/dataset/images/val/augmented_id_card_template2_males_71.png  \n",
            "  inflating: /content/dataset/images/val/augmented_id_card_template2_males_72.png  \n",
            "  inflating: /content/dataset/images/val/augmented_id_card_template2_males_73.png  \n",
            "  inflating: /content/dataset/images/val/augmented_id_card_template2_males_74.png  \n",
            "  inflating: /content/dataset/images/val/augmented_id_card_template2_males_75.png  \n",
            "  inflating: /content/dataset/images/val/augmented_id_card_template2_males_76.png  \n",
            "  inflating: /content/dataset/images/val/augmented_id_card_template2_males_77.png  \n",
            "  inflating: /content/dataset/images/val/augmented_id_card_template2_males_78.png  \n",
            "  inflating: /content/dataset/images/val/augmented_id_card_template2_males_79.png  \n",
            "  inflating: /content/dataset/images/val/augmented_id_card_template2_males_80.png  \n",
            "  inflating: /content/dataset/images/val/augmented_id_card_template2_males_81.png  \n",
            "  inflating: /content/dataset/images/val/augmented_id_card_template2_males_98.png  \n",
            "  inflating: /content/dataset/images/val/augmented_id_card_template2_males_99.png  \n",
            "  inflating: /content/dataset/images/val/id_card_template2_females_64.png  \n",
            "  inflating: /content/dataset/images/val/id_card_template2_females_65.png  \n",
            "  inflating: /content/dataset/images/val/id_card_template2_females_66.png  \n",
            "  inflating: /content/dataset/images/val/id_card_template2_females_67.png  \n",
            "  inflating: /content/dataset/images/val/id_card_template2_females_68.png  \n",
            "  inflating: /content/dataset/images/val/id_card_template2_females_69.png  \n",
            "  inflating: /content/dataset/images/val/id_card_template2_females_70.png  \n",
            "  inflating: /content/dataset/images/val/id_card_template2_females_71.png  \n",
            "  inflating: /content/dataset/images/val/id_card_template2_females_72.png  \n",
            "  inflating: /content/dataset/images/val/id_card_template2_females_73.png  \n",
            "  inflating: /content/dataset/images/val/id_card_template2_females_74.png  \n",
            "  inflating: /content/dataset/images/val/id_card_template2_females_75.png  \n",
            "  inflating: /content/dataset/images/val/id_card_template2_females_76.png  \n",
            "  inflating: /content/dataset/images/val/id_card_template2_females_77.png  \n",
            "  inflating: /content/dataset/images/val/id_card_template2_females_78.png  \n",
            "  inflating: /content/dataset/images/val/id_card_template2_females_79.png  \n",
            "  inflating: /content/dataset/images/val/id_card_template2_females_80.png  \n",
            "  inflating: /content/dataset/images/val/id_card_template2_females_81.png  \n",
            "  inflating: /content/dataset/images/val/id_card_template2_females_98.png  \n",
            "  inflating: /content/dataset/images/val/id_card_template2_females_99.png  \n",
            "  inflating: /content/dataset/images/val/id_card_template2_males_64.png  \n",
            "  inflating: /content/dataset/images/val/id_card_template2_males_65.png  \n",
            "  inflating: /content/dataset/images/val/id_card_template2_males_66.png  \n",
            "  inflating: /content/dataset/images/val/id_card_template2_males_67.png  \n",
            "  inflating: /content/dataset/images/val/id_card_template2_males_68.png  \n",
            "  inflating: /content/dataset/images/val/id_card_template2_males_69.png  \n",
            "  inflating: /content/dataset/images/val/id_card_template2_males_70.png  \n",
            "  inflating: /content/dataset/images/val/id_card_template2_males_71.png  \n",
            "  inflating: /content/dataset/images/val/id_card_template2_males_72.png  \n",
            "  inflating: /content/dataset/images/val/id_card_template2_males_73.png  \n",
            "  inflating: /content/dataset/images/val/id_card_template2_males_74.png  \n",
            "  inflating: /content/dataset/images/val/id_card_template2_males_75.png  \n",
            "  inflating: /content/dataset/images/val/id_card_template2_males_76.png  \n",
            "  inflating: /content/dataset/images/val/id_card_template2_males_77.png  \n",
            "  inflating: /content/dataset/images/val/id_card_template2_males_78.png  \n",
            "  inflating: /content/dataset/images/val/id_card_template2_males_79.png  \n",
            "  inflating: /content/dataset/images/val/id_card_template2_males_80.png  \n",
            "  inflating: /content/dataset/images/val/id_card_template2_males_81.png  \n",
            "  inflating: /content/dataset/images/val/id_card_template2_males_98.png  \n",
            "  inflating: /content/dataset/images/val/id_card_template2_males_99.png  \n",
            "   creating: /content/dataset/labels/\n",
            "   creating: /content/dataset/labels/test/\n",
            "  inflating: /content/dataset/labels/test/augmented_id_card_template2_females_100.txt  \n",
            "  inflating: /content/dataset/labels/test/augmented_id_card_template2_females_82.txt  \n",
            "  inflating: /content/dataset/labels/test/augmented_id_card_template2_females_83.txt  \n",
            "  inflating: /content/dataset/labels/test/augmented_id_card_template2_females_84.txt  \n",
            "  inflating: /content/dataset/labels/test/augmented_id_card_template2_females_85.txt  \n",
            "  inflating: /content/dataset/labels/test/augmented_id_card_template2_females_86.txt  \n",
            "  inflating: /content/dataset/labels/test/augmented_id_card_template2_females_87.txt  \n",
            "  inflating: /content/dataset/labels/test/augmented_id_card_template2_females_88.txt  \n",
            "  inflating: /content/dataset/labels/test/augmented_id_card_template2_females_89.txt  \n",
            "  inflating: /content/dataset/labels/test/augmented_id_card_template2_females_98.txt  \n",
            "  inflating: /content/dataset/labels/test/augmented_id_card_template2_females_99.txt  \n",
            "  inflating: /content/dataset/labels/test/augmented_id_card_template2_males_100.txt  \n",
            "  inflating: /content/dataset/labels/test/augmented_id_card_template2_males_82.txt  \n",
            "  inflating: /content/dataset/labels/test/augmented_id_card_template2_males_83.txt  \n",
            "  inflating: /content/dataset/labels/test/augmented_id_card_template2_males_84.txt  \n",
            "  inflating: /content/dataset/labels/test/augmented_id_card_template2_males_85.txt  \n",
            "  inflating: /content/dataset/labels/test/augmented_id_card_template2_males_86.txt  \n",
            "  inflating: /content/dataset/labels/test/augmented_id_card_template2_males_87.txt  \n",
            "  inflating: /content/dataset/labels/test/augmented_id_card_template2_males_88.txt  \n",
            "  inflating: /content/dataset/labels/test/augmented_id_card_template2_males_89.txt  \n",
            "  inflating: /content/dataset/labels/test/augmented_id_card_template2_males_90.txt  \n",
            "  inflating: /content/dataset/labels/test/id_card_template2_females_100.txt  \n",
            "  inflating: /content/dataset/labels/test/id_card_template2_females_82.txt  \n",
            "  inflating: /content/dataset/labels/test/id_card_template2_females_83.txt  \n",
            "  inflating: /content/dataset/labels/test/id_card_template2_females_84.txt  \n",
            "  inflating: /content/dataset/labels/test/id_card_template2_females_85.txt  \n",
            "  inflating: /content/dataset/labels/test/id_card_template2_females_86.txt  \n",
            "  inflating: /content/dataset/labels/test/id_card_template2_females_87.txt  \n",
            "  inflating: /content/dataset/labels/test/id_card_template2_females_88.txt  \n",
            "  inflating: /content/dataset/labels/test/id_card_template2_females_89.txt  \n",
            "  inflating: /content/dataset/labels/test/id_card_template2_females_90.txt  \n",
            "  inflating: /content/dataset/labels/test/id_card_template2_males_100.txt  \n",
            "  inflating: /content/dataset/labels/test/id_card_template2_males_82.txt  \n",
            "  inflating: /content/dataset/labels/test/id_card_template2_males_83.txt  \n",
            "  inflating: /content/dataset/labels/test/id_card_template2_males_84.txt  \n",
            "  inflating: /content/dataset/labels/test/id_card_template2_males_85.txt  \n",
            "  inflating: /content/dataset/labels/test/id_card_template2_males_86.txt  \n",
            "  inflating: /content/dataset/labels/test/id_card_template2_males_87.txt  \n",
            "  inflating: /content/dataset/labels/test/id_card_template2_males_88.txt  \n",
            "  inflating: /content/dataset/labels/test/id_card_template2_males_89.txt  \n",
            "   creating: /content/dataset/labels/train/\n",
            "  inflating: /content/dataset/labels/train/augmented_id_card_template2_females_1.txt  \n",
            "  inflating: /content/dataset/labels/train/augmented_id_card_template2_females_10.txt  \n",
            "  inflating: /content/dataset/labels/train/augmented_id_card_template2_females_11.txt  \n",
            "  inflating: /content/dataset/labels/train/augmented_id_card_template2_females_12.txt  \n",
            "  inflating: /content/dataset/labels/train/augmented_id_card_template2_females_13.txt  \n",
            "  inflating: /content/dataset/labels/train/augmented_id_card_template2_females_14.txt  \n",
            "  inflating: /content/dataset/labels/train/augmented_id_card_template2_females_15.txt  \n",
            "  inflating: /content/dataset/labels/train/augmented_id_card_template2_females_16.txt  \n",
            "  inflating: /content/dataset/labels/train/augmented_id_card_template2_females_17.txt  \n",
            "  inflating: /content/dataset/labels/train/augmented_id_card_template2_females_18.txt  \n",
            "  inflating: /content/dataset/labels/train/augmented_id_card_template2_females_19.txt  \n",
            "  inflating: /content/dataset/labels/train/augmented_id_card_template2_females_2.txt  \n",
            "  inflating: /content/dataset/labels/train/augmented_id_card_template2_females_20.txt  \n",
            "  inflating: /content/dataset/labels/train/augmented_id_card_template2_females_21.txt  \n",
            "  inflating: /content/dataset/labels/train/augmented_id_card_template2_females_22.txt  \n",
            "  inflating: /content/dataset/labels/train/augmented_id_card_template2_females_23.txt  \n",
            "  inflating: /content/dataset/labels/train/augmented_id_card_template2_females_24.txt  \n",
            "  inflating: /content/dataset/labels/train/augmented_id_card_template2_females_25.txt  \n",
            "  inflating: /content/dataset/labels/train/augmented_id_card_template2_females_26.txt  \n",
            "  inflating: /content/dataset/labels/train/augmented_id_card_template2_females_27.txt  \n",
            "  inflating: /content/dataset/labels/train/augmented_id_card_template2_females_28.txt  \n",
            "  inflating: /content/dataset/labels/train/augmented_id_card_template2_females_29.txt  \n",
            "  inflating: /content/dataset/labels/train/augmented_id_card_template2_females_3.txt  \n",
            "  inflating: /content/dataset/labels/train/augmented_id_card_template2_females_30.txt  \n",
            "  inflating: /content/dataset/labels/train/augmented_id_card_template2_females_31.txt  \n",
            "  inflating: /content/dataset/labels/train/augmented_id_card_template2_females_32.txt  \n",
            "  inflating: /content/dataset/labels/train/augmented_id_card_template2_females_33.txt  \n",
            "  inflating: /content/dataset/labels/train/augmented_id_card_template2_females_34.txt  \n",
            "  inflating: /content/dataset/labels/train/augmented_id_card_template2_females_35.txt  \n",
            "  inflating: /content/dataset/labels/train/augmented_id_card_template2_females_36.txt  \n",
            "  inflating: /content/dataset/labels/train/augmented_id_card_template2_females_37.txt  \n",
            "  inflating: /content/dataset/labels/train/augmented_id_card_template2_females_38.txt  \n",
            "  inflating: /content/dataset/labels/train/augmented_id_card_template2_females_39.txt  \n",
            "  inflating: /content/dataset/labels/train/augmented_id_card_template2_females_4.txt  \n",
            "  inflating: /content/dataset/labels/train/augmented_id_card_template2_females_40.txt  \n",
            "  inflating: /content/dataset/labels/train/augmented_id_card_template2_females_41.txt  \n",
            "  inflating: /content/dataset/labels/train/augmented_id_card_template2_females_42.txt  \n",
            "  inflating: /content/dataset/labels/train/augmented_id_card_template2_females_43.txt  \n",
            "  inflating: /content/dataset/labels/train/augmented_id_card_template2_females_44.txt  \n",
            "  inflating: /content/dataset/labels/train/augmented_id_card_template2_females_45.txt  \n",
            "  inflating: /content/dataset/labels/train/augmented_id_card_template2_females_46.txt  \n",
            "  inflating: /content/dataset/labels/train/augmented_id_card_template2_females_47.txt  \n",
            "  inflating: /content/dataset/labels/train/augmented_id_card_template2_females_48.txt  \n",
            "  inflating: /content/dataset/labels/train/augmented_id_card_template2_females_49.txt  \n",
            "  inflating: /content/dataset/labels/train/augmented_id_card_template2_females_5.txt  \n",
            "  inflating: /content/dataset/labels/train/augmented_id_card_template2_females_50.txt  \n",
            "  inflating: /content/dataset/labels/train/augmented_id_card_template2_females_51.txt  \n",
            "  inflating: /content/dataset/labels/train/augmented_id_card_template2_females_52.txt  \n",
            "  inflating: /content/dataset/labels/train/augmented_id_card_template2_females_53.txt  \n",
            "  inflating: /content/dataset/labels/train/augmented_id_card_template2_females_54.txt  \n",
            "  inflating: /content/dataset/labels/train/augmented_id_card_template2_females_55.txt  \n",
            "  inflating: /content/dataset/labels/train/augmented_id_card_template2_females_56.txt  \n",
            "  inflating: /content/dataset/labels/train/augmented_id_card_template2_females_57.txt  \n",
            "  inflating: /content/dataset/labels/train/augmented_id_card_template2_females_58.txt  \n",
            "  inflating: /content/dataset/labels/train/augmented_id_card_template2_females_59.txt  \n",
            "  inflating: /content/dataset/labels/train/augmented_id_card_template2_females_6.txt  \n",
            "  inflating: /content/dataset/labels/train/augmented_id_card_template2_females_60.txt  \n",
            "  inflating: /content/dataset/labels/train/augmented_id_card_template2_females_61.txt  \n",
            "  inflating: /content/dataset/labels/train/augmented_id_card_template2_females_62.txt  \n",
            "  inflating: /content/dataset/labels/train/augmented_id_card_template2_females_63.txt  \n",
            "  inflating: /content/dataset/labels/train/augmented_id_card_template2_females_7.txt  \n",
            "  inflating: /content/dataset/labels/train/augmented_id_card_template2_females_8.txt  \n",
            "  inflating: /content/dataset/labels/train/augmented_id_card_template2_females_9.txt  \n",
            "  inflating: /content/dataset/labels/train/augmented_id_card_template2_females_91.txt  \n",
            "  inflating: /content/dataset/labels/train/augmented_id_card_template2_females_92.txt  \n",
            "  inflating: /content/dataset/labels/train/augmented_id_card_template2_females_93.txt  \n",
            "  inflating: /content/dataset/labels/train/augmented_id_card_template2_females_94.txt  \n",
            "  inflating: /content/dataset/labels/train/augmented_id_card_template2_females_95.txt  \n",
            "  inflating: /content/dataset/labels/train/augmented_id_card_template2_females_96.txt  \n",
            "  inflating: /content/dataset/labels/train/augmented_id_card_template2_females_97.txt  \n",
            "  inflating: /content/dataset/labels/train/augmented_id_card_template2_males_1.txt  \n",
            "  inflating: /content/dataset/labels/train/augmented_id_card_template2_males_10.txt  \n",
            "  inflating: /content/dataset/labels/train/augmented_id_card_template2_males_11.txt  \n",
            "  inflating: /content/dataset/labels/train/augmented_id_card_template2_males_12.txt  \n",
            "  inflating: /content/dataset/labels/train/augmented_id_card_template2_males_13.txt  \n",
            "  inflating: /content/dataset/labels/train/augmented_id_card_template2_males_14.txt  \n",
            "  inflating: /content/dataset/labels/train/augmented_id_card_template2_males_15.txt  \n",
            "  inflating: /content/dataset/labels/train/augmented_id_card_template2_males_16.txt  \n",
            "  inflating: /content/dataset/labels/train/augmented_id_card_template2_males_17.txt  \n",
            "  inflating: /content/dataset/labels/train/augmented_id_card_template2_males_18.txt  \n",
            "  inflating: /content/dataset/labels/train/augmented_id_card_template2_males_19.txt  \n",
            "  inflating: /content/dataset/labels/train/augmented_id_card_template2_males_2.txt  \n",
            "  inflating: /content/dataset/labels/train/augmented_id_card_template2_males_20.txt  \n",
            "  inflating: /content/dataset/labels/train/augmented_id_card_template2_males_21.txt  \n",
            "  inflating: /content/dataset/labels/train/augmented_id_card_template2_males_22.txt  \n",
            "  inflating: /content/dataset/labels/train/augmented_id_card_template2_males_23.txt  \n",
            "  inflating: /content/dataset/labels/train/augmented_id_card_template2_males_24.txt  \n",
            "  inflating: /content/dataset/labels/train/augmented_id_card_template2_males_25.txt  \n",
            "  inflating: /content/dataset/labels/train/augmented_id_card_template2_males_26.txt  \n",
            "  inflating: /content/dataset/labels/train/augmented_id_card_template2_males_27.txt  \n",
            "  inflating: /content/dataset/labels/train/augmented_id_card_template2_males_28.txt  \n",
            "  inflating: /content/dataset/labels/train/augmented_id_card_template2_males_29.txt  \n",
            "  inflating: /content/dataset/labels/train/augmented_id_card_template2_males_3.txt  \n",
            "  inflating: /content/dataset/labels/train/augmented_id_card_template2_males_30.txt  \n",
            "  inflating: /content/dataset/labels/train/augmented_id_card_template2_males_31.txt  \n",
            "  inflating: /content/dataset/labels/train/augmented_id_card_template2_males_32.txt  \n",
            "  inflating: /content/dataset/labels/train/augmented_id_card_template2_males_33.txt  \n",
            "  inflating: /content/dataset/labels/train/augmented_id_card_template2_males_34.txt  \n",
            "  inflating: /content/dataset/labels/train/augmented_id_card_template2_males_35.txt  \n",
            "  inflating: /content/dataset/labels/train/augmented_id_card_template2_males_36.txt  \n",
            "  inflating: /content/dataset/labels/train/augmented_id_card_template2_males_37.txt  \n",
            "  inflating: /content/dataset/labels/train/augmented_id_card_template2_males_38.txt  \n",
            "  inflating: /content/dataset/labels/train/augmented_id_card_template2_males_39.txt  \n",
            "  inflating: /content/dataset/labels/train/augmented_id_card_template2_males_4.txt  \n",
            "  inflating: /content/dataset/labels/train/augmented_id_card_template2_males_40.txt  \n",
            "  inflating: /content/dataset/labels/train/augmented_id_card_template2_males_41.txt  \n",
            "  inflating: /content/dataset/labels/train/augmented_id_card_template2_males_42.txt  \n",
            "  inflating: /content/dataset/labels/train/augmented_id_card_template2_males_43.txt  \n",
            "  inflating: /content/dataset/labels/train/augmented_id_card_template2_males_44.txt  \n",
            "  inflating: /content/dataset/labels/train/augmented_id_card_template2_males_45.txt  \n",
            "  inflating: /content/dataset/labels/train/augmented_id_card_template2_males_46.txt  \n",
            "  inflating: /content/dataset/labels/train/augmented_id_card_template2_males_47.txt  \n",
            "  inflating: /content/dataset/labels/train/augmented_id_card_template2_males_48.txt  \n",
            "  inflating: /content/dataset/labels/train/augmented_id_card_template2_males_49.txt  \n",
            "  inflating: /content/dataset/labels/train/augmented_id_card_template2_males_5.txt  \n",
            "  inflating: /content/dataset/labels/train/augmented_id_card_template2_males_50.txt  \n",
            "  inflating: /content/dataset/labels/train/augmented_id_card_template2_males_51.txt  \n",
            "  inflating: /content/dataset/labels/train/augmented_id_card_template2_males_52.txt  \n",
            "  inflating: /content/dataset/labels/train/augmented_id_card_template2_males_53.txt  \n",
            "  inflating: /content/dataset/labels/train/augmented_id_card_template2_males_54.txt  \n",
            "  inflating: /content/dataset/labels/train/augmented_id_card_template2_males_55.txt  \n",
            "  inflating: /content/dataset/labels/train/augmented_id_card_template2_males_56.txt  \n",
            "  inflating: /content/dataset/labels/train/augmented_id_card_template2_males_57.txt  \n",
            "  inflating: /content/dataset/labels/train/augmented_id_card_template2_males_58.txt  \n",
            "  inflating: /content/dataset/labels/train/augmented_id_card_template2_males_59.txt  \n",
            "  inflating: /content/dataset/labels/train/augmented_id_card_template2_males_6.txt  \n",
            "  inflating: /content/dataset/labels/train/augmented_id_card_template2_males_60.txt  \n",
            "  inflating: /content/dataset/labels/train/augmented_id_card_template2_males_61.txt  \n",
            "  inflating: /content/dataset/labels/train/augmented_id_card_template2_males_62.txt  \n",
            "  inflating: /content/dataset/labels/train/augmented_id_card_template2_males_63.txt  \n",
            "  inflating: /content/dataset/labels/train/augmented_id_card_template2_males_7.txt  \n",
            "  inflating: /content/dataset/labels/train/augmented_id_card_template2_males_8.txt  \n",
            "  inflating: /content/dataset/labels/train/augmented_id_card_template2_males_9.txt  \n",
            "  inflating: /content/dataset/labels/train/augmented_id_card_template2_males_91.txt  \n",
            "  inflating: /content/dataset/labels/train/augmented_id_card_template2_males_92.txt  \n",
            "  inflating: /content/dataset/labels/train/augmented_id_card_template2_males_93.txt  \n",
            "  inflating: /content/dataset/labels/train/augmented_id_card_template2_males_94.txt  \n",
            "  inflating: /content/dataset/labels/train/augmented_id_card_template2_males_95.txt  \n",
            "  inflating: /content/dataset/labels/train/augmented_id_card_template2_males_96.txt  \n",
            "  inflating: /content/dataset/labels/train/augmented_id_card_template2_males_97.txt  \n",
            "  inflating: /content/dataset/labels/train/id_card_template2_females_1.txt  \n",
            "  inflating: /content/dataset/labels/train/id_card_template2_females_10.txt  \n",
            "  inflating: /content/dataset/labels/train/id_card_template2_females_11.txt  \n",
            "  inflating: /content/dataset/labels/train/id_card_template2_females_12.txt  \n",
            "  inflating: /content/dataset/labels/train/id_card_template2_females_13.txt  \n",
            "  inflating: /content/dataset/labels/train/id_card_template2_females_14.txt  \n",
            "  inflating: /content/dataset/labels/train/id_card_template2_females_15.txt  \n",
            "  inflating: /content/dataset/labels/train/id_card_template2_females_16.txt  \n",
            "  inflating: /content/dataset/labels/train/id_card_template2_females_17.txt  \n",
            "  inflating: /content/dataset/labels/train/id_card_template2_females_18.txt  \n",
            "  inflating: /content/dataset/labels/train/id_card_template2_females_19.txt  \n",
            "  inflating: /content/dataset/labels/train/id_card_template2_females_2.txt  \n",
            "  inflating: /content/dataset/labels/train/id_card_template2_females_20.txt  \n",
            "  inflating: /content/dataset/labels/train/id_card_template2_females_21.txt  \n",
            "  inflating: /content/dataset/labels/train/id_card_template2_females_22.txt  \n",
            "  inflating: /content/dataset/labels/train/id_card_template2_females_23.txt  \n",
            "  inflating: /content/dataset/labels/train/id_card_template2_females_24.txt  \n",
            "  inflating: /content/dataset/labels/train/id_card_template2_females_25.txt  \n",
            "  inflating: /content/dataset/labels/train/id_card_template2_females_26.txt  \n",
            "  inflating: /content/dataset/labels/train/id_card_template2_females_27.txt  \n",
            "  inflating: /content/dataset/labels/train/id_card_template2_females_28.txt  \n",
            "  inflating: /content/dataset/labels/train/id_card_template2_females_29.txt  \n",
            "  inflating: /content/dataset/labels/train/id_card_template2_females_3.txt  \n",
            "  inflating: /content/dataset/labels/train/id_card_template2_females_30.txt  \n",
            "  inflating: /content/dataset/labels/train/id_card_template2_females_31.txt  \n",
            "  inflating: /content/dataset/labels/train/id_card_template2_females_32.txt  \n",
            "  inflating: /content/dataset/labels/train/id_card_template2_females_33.txt  \n",
            "  inflating: /content/dataset/labels/train/id_card_template2_females_34.txt  \n",
            "  inflating: /content/dataset/labels/train/id_card_template2_females_35.txt  \n",
            "  inflating: /content/dataset/labels/train/id_card_template2_females_36.txt  \n",
            "  inflating: /content/dataset/labels/train/id_card_template2_females_37.txt  \n",
            "  inflating: /content/dataset/labels/train/id_card_template2_females_38.txt  \n",
            "  inflating: /content/dataset/labels/train/id_card_template2_females_39.txt  \n",
            "  inflating: /content/dataset/labels/train/id_card_template2_females_4.txt  \n",
            "  inflating: /content/dataset/labels/train/id_card_template2_females_40.txt  \n",
            "  inflating: /content/dataset/labels/train/id_card_template2_females_41.txt  \n",
            "  inflating: /content/dataset/labels/train/id_card_template2_females_42.txt  \n",
            "  inflating: /content/dataset/labels/train/id_card_template2_females_43.txt  \n",
            "  inflating: /content/dataset/labels/train/id_card_template2_females_44.txt  \n",
            "  inflating: /content/dataset/labels/train/id_card_template2_females_45.txt  \n",
            "  inflating: /content/dataset/labels/train/id_card_template2_females_46.txt  \n",
            "  inflating: /content/dataset/labels/train/id_card_template2_females_47.txt  \n",
            "  inflating: /content/dataset/labels/train/id_card_template2_females_48.txt  \n",
            "  inflating: /content/dataset/labels/train/id_card_template2_females_49.txt  \n",
            "  inflating: /content/dataset/labels/train/id_card_template2_females_5.txt  \n",
            "  inflating: /content/dataset/labels/train/id_card_template2_females_50.txt  \n",
            "  inflating: /content/dataset/labels/train/id_card_template2_females_51.txt  \n",
            "  inflating: /content/dataset/labels/train/id_card_template2_females_52.txt  \n",
            "  inflating: /content/dataset/labels/train/id_card_template2_females_53.txt  \n",
            "  inflating: /content/dataset/labels/train/id_card_template2_females_54.txt  \n",
            "  inflating: /content/dataset/labels/train/id_card_template2_females_55.txt  \n",
            "  inflating: /content/dataset/labels/train/id_card_template2_females_56.txt  \n",
            "  inflating: /content/dataset/labels/train/id_card_template2_females_57.txt  \n",
            "  inflating: /content/dataset/labels/train/id_card_template2_females_58.txt  \n",
            "  inflating: /content/dataset/labels/train/id_card_template2_females_59.txt  \n",
            "  inflating: /content/dataset/labels/train/id_card_template2_females_6.txt  \n",
            "  inflating: /content/dataset/labels/train/id_card_template2_females_60.txt  \n",
            "  inflating: /content/dataset/labels/train/id_card_template2_females_61.txt  \n",
            "  inflating: /content/dataset/labels/train/id_card_template2_females_62.txt  \n",
            "  inflating: /content/dataset/labels/train/id_card_template2_females_63.txt  \n",
            "  inflating: /content/dataset/labels/train/id_card_template2_females_7.txt  \n",
            "  inflating: /content/dataset/labels/train/id_card_template2_females_8.txt  \n",
            "  inflating: /content/dataset/labels/train/id_card_template2_females_9.txt  \n",
            "  inflating: /content/dataset/labels/train/id_card_template2_females_91.txt  \n",
            "  inflating: /content/dataset/labels/train/id_card_template2_females_92.txt  \n",
            "  inflating: /content/dataset/labels/train/id_card_template2_females_93.txt  \n",
            "  inflating: /content/dataset/labels/train/id_card_template2_females_94.txt  \n",
            "  inflating: /content/dataset/labels/train/id_card_template2_females_95.txt  \n",
            "  inflating: /content/dataset/labels/train/id_card_template2_females_96.txt  \n",
            "  inflating: /content/dataset/labels/train/id_card_template2_females_97.txt  \n",
            "  inflating: /content/dataset/labels/train/id_card_template2_males_1.txt  \n",
            "  inflating: /content/dataset/labels/train/id_card_template2_males_10.txt  \n",
            "  inflating: /content/dataset/labels/train/id_card_template2_males_11.txt  \n",
            "  inflating: /content/dataset/labels/train/id_card_template2_males_12.txt  \n",
            "  inflating: /content/dataset/labels/train/id_card_template2_males_13.txt  \n",
            "  inflating: /content/dataset/labels/train/id_card_template2_males_14.txt  \n",
            "  inflating: /content/dataset/labels/train/id_card_template2_males_15.txt  \n",
            "  inflating: /content/dataset/labels/train/id_card_template2_males_16.txt  \n",
            "  inflating: /content/dataset/labels/train/id_card_template2_males_17.txt  \n",
            "  inflating: /content/dataset/labels/train/id_card_template2_males_18.txt  \n",
            "  inflating: /content/dataset/labels/train/id_card_template2_males_19.txt  \n",
            "  inflating: /content/dataset/labels/train/id_card_template2_males_2.txt  \n",
            "  inflating: /content/dataset/labels/train/id_card_template2_males_20.txt  \n",
            "  inflating: /content/dataset/labels/train/id_card_template2_males_21.txt  \n",
            "  inflating: /content/dataset/labels/train/id_card_template2_males_22.txt  \n",
            "  inflating: /content/dataset/labels/train/id_card_template2_males_23.txt  \n",
            "  inflating: /content/dataset/labels/train/id_card_template2_males_24.txt  \n",
            "  inflating: /content/dataset/labels/train/id_card_template2_males_25.txt  \n",
            "  inflating: /content/dataset/labels/train/id_card_template2_males_26.txt  \n",
            "  inflating: /content/dataset/labels/train/id_card_template2_males_27.txt  \n",
            "  inflating: /content/dataset/labels/train/id_card_template2_males_28.txt  \n",
            "  inflating: /content/dataset/labels/train/id_card_template2_males_29.txt  \n",
            "  inflating: /content/dataset/labels/train/id_card_template2_males_3.txt  \n",
            "  inflating: /content/dataset/labels/train/id_card_template2_males_30.txt  \n",
            "  inflating: /content/dataset/labels/train/id_card_template2_males_31.txt  \n",
            "  inflating: /content/dataset/labels/train/id_card_template2_males_32.txt  \n",
            "  inflating: /content/dataset/labels/train/id_card_template2_males_33.txt  \n",
            "  inflating: /content/dataset/labels/train/id_card_template2_males_34.txt  \n",
            "  inflating: /content/dataset/labels/train/id_card_template2_males_35.txt  \n",
            "  inflating: /content/dataset/labels/train/id_card_template2_males_36.txt  \n",
            "  inflating: /content/dataset/labels/train/id_card_template2_males_37.txt  \n",
            "  inflating: /content/dataset/labels/train/id_card_template2_males_38.txt  \n",
            "  inflating: /content/dataset/labels/train/id_card_template2_males_39.txt  \n",
            "  inflating: /content/dataset/labels/train/id_card_template2_males_4.txt  \n",
            "  inflating: /content/dataset/labels/train/id_card_template2_males_40.txt  \n",
            "  inflating: /content/dataset/labels/train/id_card_template2_males_41.txt  \n",
            "  inflating: /content/dataset/labels/train/id_card_template2_males_42.txt  \n",
            "  inflating: /content/dataset/labels/train/id_card_template2_males_43.txt  \n",
            "  inflating: /content/dataset/labels/train/id_card_template2_males_44.txt  \n",
            "  inflating: /content/dataset/labels/train/id_card_template2_males_45.txt  \n",
            "  inflating: /content/dataset/labels/train/id_card_template2_males_46.txt  \n",
            "  inflating: /content/dataset/labels/train/id_card_template2_males_47.txt  \n",
            "  inflating: /content/dataset/labels/train/id_card_template2_males_48.txt  \n",
            "  inflating: /content/dataset/labels/train/id_card_template2_males_49.txt  \n",
            "  inflating: /content/dataset/labels/train/id_card_template2_males_5.txt  \n",
            "  inflating: /content/dataset/labels/train/id_card_template2_males_50.txt  \n",
            "  inflating: /content/dataset/labels/train/id_card_template2_males_51.txt  \n",
            "  inflating: /content/dataset/labels/train/id_card_template2_males_52.txt  \n",
            "  inflating: /content/dataset/labels/train/id_card_template2_males_53.txt  \n",
            "  inflating: /content/dataset/labels/train/id_card_template2_males_54.txt  \n",
            "  inflating: /content/dataset/labels/train/id_card_template2_males_55.txt  \n",
            "  inflating: /content/dataset/labels/train/id_card_template2_males_56.txt  \n",
            "  inflating: /content/dataset/labels/train/id_card_template2_males_57.txt  \n",
            "  inflating: /content/dataset/labels/train/id_card_template2_males_58.txt  \n",
            "  inflating: /content/dataset/labels/train/id_card_template2_males_59.txt  \n",
            "  inflating: /content/dataset/labels/train/id_card_template2_males_6.txt  \n",
            "  inflating: /content/dataset/labels/train/id_card_template2_males_60.txt  \n",
            "  inflating: /content/dataset/labels/train/id_card_template2_males_61.txt  \n",
            "  inflating: /content/dataset/labels/train/id_card_template2_males_62.txt  \n",
            "  inflating: /content/dataset/labels/train/id_card_template2_males_63.txt  \n",
            "  inflating: /content/dataset/labels/train/id_card_template2_males_7.txt  \n",
            "  inflating: /content/dataset/labels/train/id_card_template2_males_8.txt  \n",
            "  inflating: /content/dataset/labels/train/id_card_template2_males_9.txt  \n",
            "  inflating: /content/dataset/labels/train/id_card_template2_males_90.txt  \n",
            "  inflating: /content/dataset/labels/train/id_card_template2_males_91.txt  \n",
            "  inflating: /content/dataset/labels/train/id_card_template2_males_92.txt  \n",
            "  inflating: /content/dataset/labels/train/id_card_template2_males_93.txt  \n",
            "  inflating: /content/dataset/labels/train/id_card_template2_males_94.txt  \n",
            "  inflating: /content/dataset/labels/train/id_card_template2_males_95.txt  \n",
            "  inflating: /content/dataset/labels/train/id_card_template2_males_96.txt  \n",
            "  inflating: /content/dataset/labels/train/id_card_template2_males_97.txt  \n",
            "   creating: /content/dataset/labels/val/\n",
            "  inflating: /content/dataset/labels/val/augmented_id_card_template2_females_64.txt  \n",
            "  inflating: /content/dataset/labels/val/augmented_id_card_template2_females_65.txt  \n",
            "  inflating: /content/dataset/labels/val/augmented_id_card_template2_females_66.txt  \n",
            "  inflating: /content/dataset/labels/val/augmented_id_card_template2_females_67.txt  \n",
            "  inflating: /content/dataset/labels/val/augmented_id_card_template2_females_68.txt  \n",
            "  inflating: /content/dataset/labels/val/augmented_id_card_template2_females_69.txt  \n",
            "  inflating: /content/dataset/labels/val/augmented_id_card_template2_females_70.txt  \n",
            "  inflating: /content/dataset/labels/val/augmented_id_card_template2_females_71.txt  \n",
            "  inflating: /content/dataset/labels/val/augmented_id_card_template2_females_72.txt  \n",
            "  inflating: /content/dataset/labels/val/augmented_id_card_template2_females_73.txt  \n",
            "  inflating: /content/dataset/labels/val/augmented_id_card_template2_females_74.txt  \n",
            "  inflating: /content/dataset/labels/val/augmented_id_card_template2_females_75.txt  \n",
            "  inflating: /content/dataset/labels/val/augmented_id_card_template2_females_76.txt  \n",
            "  inflating: /content/dataset/labels/val/augmented_id_card_template2_females_77.txt  \n",
            "  inflating: /content/dataset/labels/val/augmented_id_card_template2_females_78.txt  \n",
            "  inflating: /content/dataset/labels/val/augmented_id_card_template2_females_79.txt  \n",
            "  inflating: /content/dataset/labels/val/augmented_id_card_template2_females_80.txt  \n",
            "  inflating: /content/dataset/labels/val/augmented_id_card_template2_females_81.txt  \n",
            "  inflating: /content/dataset/labels/val/augmented_id_card_template2_females_98.txt  \n",
            "  inflating: /content/dataset/labels/val/augmented_id_card_template2_females_99.txt  \n",
            "  inflating: /content/dataset/labels/val/augmented_id_card_template2_males_64.txt  \n",
            "  inflating: /content/dataset/labels/val/augmented_id_card_template2_males_65.txt  \n",
            "  inflating: /content/dataset/labels/val/augmented_id_card_template2_males_66.txt  \n",
            "  inflating: /content/dataset/labels/val/augmented_id_card_template2_males_67.txt  \n",
            "  inflating: /content/dataset/labels/val/augmented_id_card_template2_males_68.txt  \n",
            "  inflating: /content/dataset/labels/val/augmented_id_card_template2_males_69.txt  \n",
            "  inflating: /content/dataset/labels/val/augmented_id_card_template2_males_70.txt  \n",
            "  inflating: /content/dataset/labels/val/augmented_id_card_template2_males_71.txt  \n",
            "  inflating: /content/dataset/labels/val/augmented_id_card_template2_males_72.txt  \n",
            "  inflating: /content/dataset/labels/val/augmented_id_card_template2_males_73.txt  \n",
            "  inflating: /content/dataset/labels/val/augmented_id_card_template2_males_74.txt  \n",
            "  inflating: /content/dataset/labels/val/augmented_id_card_template2_males_75.txt  \n",
            "  inflating: /content/dataset/labels/val/augmented_id_card_template2_males_76.txt  \n",
            "  inflating: /content/dataset/labels/val/augmented_id_card_template2_males_77.txt  \n",
            "  inflating: /content/dataset/labels/val/augmented_id_card_template2_males_78.txt  \n",
            "  inflating: /content/dataset/labels/val/augmented_id_card_template2_males_79.txt  \n",
            "  inflating: /content/dataset/labels/val/augmented_id_card_template2_males_80.txt  \n",
            "  inflating: /content/dataset/labels/val/augmented_id_card_template2_males_81.txt  \n",
            "  inflating: /content/dataset/labels/val/augmented_id_card_template2_males_98.txt  \n",
            "  inflating: /content/dataset/labels/val/augmented_id_card_template2_males_99.txt  \n",
            "  inflating: /content/dataset/labels/val/id_card_template2_females_64.txt  \n",
            "  inflating: /content/dataset/labels/val/id_card_template2_females_65.txt  \n",
            "  inflating: /content/dataset/labels/val/id_card_template2_females_66.txt  \n",
            "  inflating: /content/dataset/labels/val/id_card_template2_females_67.txt  \n",
            "  inflating: /content/dataset/labels/val/id_card_template2_females_68.txt  \n",
            "  inflating: /content/dataset/labels/val/id_card_template2_females_69.txt  \n",
            "  inflating: /content/dataset/labels/val/id_card_template2_females_70.txt  \n",
            "  inflating: /content/dataset/labels/val/id_card_template2_females_71.txt  \n",
            "  inflating: /content/dataset/labels/val/id_card_template2_females_72.txt  \n",
            "  inflating: /content/dataset/labels/val/id_card_template2_females_73.txt  \n",
            "  inflating: /content/dataset/labels/val/id_card_template2_females_74.txt  \n",
            "  inflating: /content/dataset/labels/val/id_card_template2_females_75.txt  \n",
            "  inflating: /content/dataset/labels/val/id_card_template2_females_76.txt  \n",
            "  inflating: /content/dataset/labels/val/id_card_template2_females_77.txt  \n",
            "  inflating: /content/dataset/labels/val/id_card_template2_females_78.txt  \n",
            "  inflating: /content/dataset/labels/val/id_card_template2_females_79.txt  \n",
            "  inflating: /content/dataset/labels/val/id_card_template2_females_80.txt  \n",
            "  inflating: /content/dataset/labels/val/id_card_template2_females_81.txt  \n",
            "  inflating: /content/dataset/labels/val/id_card_template2_females_98.txt  \n",
            "  inflating: /content/dataset/labels/val/id_card_template2_females_99.txt  \n",
            "  inflating: /content/dataset/labels/val/id_card_template2_males_64.txt  \n",
            "  inflating: /content/dataset/labels/val/id_card_template2_males_65.txt  \n",
            "  inflating: /content/dataset/labels/val/id_card_template2_males_66.txt  \n",
            "  inflating: /content/dataset/labels/val/id_card_template2_males_67.txt  \n",
            "  inflating: /content/dataset/labels/val/id_card_template2_males_68.txt  \n",
            "  inflating: /content/dataset/labels/val/id_card_template2_males_69.txt  \n",
            "  inflating: /content/dataset/labels/val/id_card_template2_males_70.txt  \n",
            "  inflating: /content/dataset/labels/val/id_card_template2_males_71.txt  \n",
            "  inflating: /content/dataset/labels/val/id_card_template2_males_72.txt  \n",
            "  inflating: /content/dataset/labels/val/id_card_template2_males_73.txt  \n",
            "  inflating: /content/dataset/labels/val/id_card_template2_males_74.txt  \n",
            "  inflating: /content/dataset/labels/val/id_card_template2_males_75.txt  \n",
            "  inflating: /content/dataset/labels/val/id_card_template2_males_76.txt  \n",
            "  inflating: /content/dataset/labels/val/id_card_template2_males_77.txt  \n",
            "  inflating: /content/dataset/labels/val/id_card_template2_males_78.txt  \n",
            "  inflating: /content/dataset/labels/val/id_card_template2_males_79.txt  \n",
            "  inflating: /content/dataset/labels/val/id_card_template2_males_80.txt  \n",
            "  inflating: /content/dataset/labels/val/id_card_template2_males_81.txt  \n",
            "  inflating: /content/dataset/labels/val/id_card_template2_males_98.txt  \n",
            "  inflating: /content/dataset/labels/val/id_card_template2_males_99.txt  \n"
          ]
        }
      ]
    },
    {
      "cell_type": "code",
      "source": [
        "# Verify the dataset structure\n",
        "dataset_path = \"/content/dataset\"\n",
        "print(\"Dataset structure:\")\n",
        "\n",
        "# Function to print directory structure\n",
        "def print_directory_structure(path, indent=\"\"):\n",
        "    if os.path.isdir(path):\n",
        "        print(f\"{indent}{os.path.basename(path)}/\")\n",
        "        indent += \"    \"\n",
        "        for item in os.listdir(path):\n",
        "            item_path = os.path.join(path, item)\n",
        "            print_directory_structure(item_path, indent)\n",
        "    else:\n",
        "        print(f\"{indent}{os.path.basename(path)}\")\n",
        "\n",
        "# Print the structure\n",
        "print_directory_structure(dataset_path)"
      ],
      "metadata": {
        "colab": {
          "base_uri": "https://localhost:8080/"
        },
        "id": "oBlgUwZX9Rl-",
        "outputId": "c9eef6d9-dea8-41cb-f792-893a7a4d1a30"
      },
      "execution_count": 11,
      "outputs": [
        {
          "output_type": "stream",
          "name": "stdout",
          "text": [
            "Dataset structure:\n",
            "dataset/\n",
            "    data.yaml\n",
            "    labels/\n",
            "        train/\n",
            "            augmented_id_card_template2_males_32.txt\n",
            "            augmented_id_card_template2_males_38.txt\n",
            "            augmented_id_card_template2_females_5.txt\n",
            "            augmented_id_card_template2_males_16.txt\n",
            "            id_card_template2_females_53.txt\n",
            "            augmented_id_card_template2_females_23.txt\n",
            "            augmented_id_card_template2_females_27.txt\n",
            "            augmented_id_card_template2_females_44.txt\n",
            "            id_card_template2_females_63.txt\n",
            "            augmented_id_card_template2_males_27.txt\n",
            "            augmented_id_card_template2_females_96.txt\n",
            "            id_card_template2_males_11.txt\n",
            "            augmented_id_card_template2_males_21.txt\n",
            "            augmented_id_card_template2_males_55.txt\n",
            "            id_card_template2_males_12.txt\n",
            "            id_card_template2_females_91.txt\n",
            "            id_card_template2_females_57.txt\n",
            "            id_card_template2_females_26.txt\n",
            "            id_card_template2_males_55.txt\n",
            "            augmented_id_card_template2_males_15.txt\n",
            "            augmented_id_card_template2_females_22.txt\n",
            "            id_card_template2_males_91.txt\n",
            "            augmented_id_card_template2_males_61.txt\n",
            "            id_card_template2_females_12.txt\n",
            "            id_card_template2_females_95.txt\n",
            "            augmented_id_card_template2_females_28.txt\n",
            "            augmented_id_card_template2_males_43.txt\n",
            "            id_card_template2_males_59.txt\n",
            "            id_card_template2_males_97.txt\n",
            "            augmented_id_card_template2_males_46.txt\n",
            "            augmented_id_card_template2_males_34.txt\n",
            "            augmented_id_card_template2_males_24.txt\n",
            "            augmented_id_card_template2_females_59.txt\n",
            "            id_card_template2_females_45.txt\n",
            "            id_card_template2_females_96.txt\n",
            "            augmented_id_card_template2_females_16.txt\n",
            "            id_card_template2_females_97.txt\n",
            "            augmented_id_card_template2_males_13.txt\n",
            "            id_card_template2_males_45.txt\n",
            "            id_card_template2_females_20.txt\n",
            "            augmented_id_card_template2_males_35.txt\n",
            "            augmented_id_card_template2_females_34.txt\n",
            "            augmented_id_card_template2_males_59.txt\n",
            "            augmented_id_card_template2_males_5.txt\n",
            "            augmented_id_card_template2_males_54.txt\n",
            "            augmented_id_card_template2_females_17.txt\n",
            "            augmented_id_card_template2_males_91.txt\n",
            "            augmented_id_card_template2_males_36.txt\n",
            "            augmented_id_card_template2_females_45.txt\n",
            "            id_card_template2_males_93.txt\n",
            "            id_card_template2_males_7.txt\n",
            "            id_card_template2_males_9.txt\n",
            "            id_card_template2_females_62.txt\n",
            "            augmented_id_card_template2_females_11.txt\n",
            "            augmented_id_card_template2_females_37.txt\n",
            "            id_card_template2_males_10.txt\n",
            "            id_card_template2_males_13.txt\n",
            "            augmented_id_card_template2_males_4.txt\n",
            "            id_card_template2_females_8.txt\n",
            "            id_card_template2_males_21.txt\n",
            "            id_card_template2_males_31.txt\n",
            "            augmented_id_card_template2_females_91.txt\n",
            "            id_card_template2_females_17.txt\n",
            "            id_card_template2_females_22.txt\n",
            "            id_card_template2_females_39.txt\n",
            "            id_card_template2_males_3.txt\n",
            "            id_card_template2_males_32.txt\n",
            "            id_card_template2_males_95.txt\n",
            "            id_card_template2_females_33.txt\n",
            "            id_card_template2_females_27.txt\n",
            "            id_card_template2_males_26.txt\n",
            "            id_card_template2_males_46.txt\n",
            "            augmented_id_card_template2_males_11.txt\n",
            "            id_card_template2_males_27.txt\n",
            "            id_card_template2_males_40.txt\n",
            "            augmented_id_card_template2_males_41.txt\n",
            "            augmented_id_card_template2_females_51.txt\n",
            "            id_card_template2_females_35.txt\n",
            "            augmented_id_card_template2_males_96.txt\n",
            "            id_card_template2_females_23.txt\n",
            "            id_card_template2_males_50.txt\n",
            "            id_card_template2_males_29.txt\n",
            "            id_card_template2_males_51.txt\n",
            "            augmented_id_card_template2_females_35.txt\n",
            "            id_card_template2_males_2.txt\n",
            "            id_card_template2_females_1.txt\n",
            "            id_card_template2_females_15.txt\n",
            "            augmented_id_card_template2_females_9.txt\n",
            "            id_card_template2_males_39.txt\n",
            "            augmented_id_card_template2_females_19.txt\n",
            "            id_card_template2_males_19.txt\n",
            "            id_card_template2_males_38.txt\n",
            "            augmented_id_card_template2_females_13.txt\n",
            "            id_card_template2_females_3.txt\n",
            "            augmented_id_card_template2_females_54.txt\n",
            "            augmented_id_card_template2_females_20.txt\n",
            "            id_card_template2_males_34.txt\n",
            "            augmented_id_card_template2_males_42.txt\n",
            "            id_card_template2_males_37.txt\n",
            "            id_card_template2_females_5.txt\n",
            "            augmented_id_card_template2_females_92.txt\n",
            "            id_card_template2_males_49.txt\n",
            "            id_card_template2_females_7.txt\n",
            "            augmented_id_card_template2_males_29.txt\n",
            "            augmented_id_card_template2_females_95.txt\n",
            "            augmented_id_card_template2_females_63.txt\n",
            "            augmented_id_card_template2_males_28.txt\n",
            "            augmented_id_card_template2_females_30.txt\n",
            "            id_card_template2_males_48.txt\n",
            "            id_card_template2_females_52.txt\n",
            "            augmented_id_card_template2_males_31.txt\n",
            "            augmented_id_card_template2_females_31.txt\n",
            "            id_card_template2_males_15.txt\n",
            "            id_card_template2_males_36.txt\n",
            "            augmented_id_card_template2_males_10.txt\n",
            "            augmented_id_card_template2_males_52.txt\n",
            "            augmented_id_card_template2_males_23.txt\n",
            "            augmented_id_card_template2_females_50.txt\n",
            "            id_card_template2_females_38.txt\n",
            "            id_card_template2_females_58.txt\n",
            "            id_card_template2_females_51.txt\n",
            "            augmented_id_card_template2_males_53.txt\n",
            "            augmented_id_card_template2_males_97.txt\n",
            "            augmented_id_card_template2_females_10.txt\n",
            "            augmented_id_card_template2_females_53.txt\n",
            "            augmented_id_card_template2_males_33.txt\n",
            "            id_card_template2_females_50.txt\n",
            "            augmented_id_card_template2_females_46.txt\n",
            "            id_card_template2_females_31.txt\n",
            "            augmented_id_card_template2_females_18.txt\n",
            "            augmented_id_card_template2_females_32.txt\n",
            "            augmented_id_card_template2_males_58.txt\n",
            "            augmented_id_card_template2_males_1.txt\n",
            "            id_card_template2_males_61.txt\n",
            "            augmented_id_card_template2_males_45.txt\n",
            "            id_card_template2_females_29.txt\n",
            "            id_card_template2_females_46.txt\n",
            "            id_card_template2_females_28.txt\n",
            "            augmented_id_card_template2_females_38.txt\n",
            "            augmented_id_card_template2_females_4.txt\n",
            "            id_card_template2_males_52.txt\n",
            "            augmented_id_card_template2_males_37.txt\n",
            "            id_card_template2_males_18.txt\n",
            "            augmented_id_card_template2_females_1.txt\n",
            "            augmented_id_card_template2_females_26.txt\n",
            "            id_card_template2_females_2.txt\n",
            "            augmented_id_card_template2_females_43.txt\n",
            "            augmented_id_card_template2_females_61.txt\n",
            "            id_card_template2_females_43.txt\n",
            "            id_card_template2_females_32.txt\n",
            "            id_card_template2_males_8.txt\n",
            "            augmented_id_card_template2_females_14.txt\n",
            "            id_card_template2_females_14.txt\n",
            "            id_card_template2_females_6.txt\n",
            "            id_card_template2_females_19.txt\n",
            "            id_card_template2_females_13.txt\n",
            "            augmented_id_card_template2_females_7.txt\n",
            "            augmented_id_card_template2_males_14.txt\n",
            "            id_card_template2_females_37.txt\n",
            "            id_card_template2_females_56.txt\n",
            "            id_card_template2_females_18.txt\n",
            "            id_card_template2_females_92.txt\n",
            "            augmented_id_card_template2_females_93.txt\n",
            "            id_card_template2_females_40.txt\n",
            "            id_card_template2_females_60.txt\n",
            "            augmented_id_card_template2_females_12.txt\n",
            "            id_card_template2_males_14.txt\n",
            "            id_card_template2_males_96.txt\n",
            "            id_card_template2_males_53.txt\n",
            "            id_card_template2_females_54.txt\n",
            "            augmented_id_card_template2_females_47.txt\n",
            "            augmented_id_card_template2_males_57.txt\n",
            "            id_card_template2_males_58.txt\n",
            "            id_card_template2_males_24.txt\n",
            "            augmented_id_card_template2_males_20.txt\n",
            "            augmented_id_card_template2_males_9.txt\n",
            "            augmented_id_card_template2_females_41.txt\n",
            "            augmented_id_card_template2_males_8.txt\n",
            "            augmented_id_card_template2_females_8.txt\n",
            "            id_card_template2_males_1.txt\n",
            "            id_card_template2_males_20.txt\n",
            "            augmented_id_card_template2_males_2.txt\n",
            "            augmented_id_card_template2_females_36.txt\n",
            "            id_card_template2_females_49.txt\n",
            "            augmented_id_card_template2_males_95.txt\n",
            "            augmented_id_card_template2_females_48.txt\n",
            "            id_card_template2_males_6.txt\n",
            "            augmented_id_card_template2_males_62.txt\n",
            "            id_card_template2_males_43.txt\n",
            "            augmented_id_card_template2_females_6.txt\n",
            "            augmented_id_card_template2_females_94.txt\n",
            "            id_card_template2_males_90.txt\n",
            "            augmented_id_card_template2_females_24.txt\n",
            "            id_card_template2_females_44.txt\n",
            "            augmented_id_card_template2_males_93.txt\n",
            "            id_card_template2_males_16.txt\n",
            "            augmented_id_card_template2_females_40.txt\n",
            "            id_card_template2_females_47.txt\n",
            "            augmented_id_card_template2_females_21.txt\n",
            "            augmented_id_card_template2_males_51.txt\n",
            "            augmented_id_card_template2_females_15.txt\n",
            "            augmented_id_card_template2_males_25.txt\n",
            "            id_card_template2_males_63.txt\n",
            "            id_card_template2_males_56.txt\n",
            "            augmented_id_card_template2_females_52.txt\n",
            "            augmented_id_card_template2_males_63.txt\n",
            "            augmented_id_card_template2_males_56.txt\n",
            "            augmented_id_card_template2_males_6.txt\n",
            "            id_card_template2_males_44.txt\n",
            "            id_card_template2_females_34.txt\n",
            "            augmented_id_card_template2_males_30.txt\n",
            "            id_card_template2_males_60.txt\n",
            "            id_card_template2_males_17.txt\n",
            "            id_card_template2_females_36.txt\n",
            "            augmented_id_card_template2_males_40.txt\n",
            "            augmented_id_card_template2_females_2.txt\n",
            "            augmented_id_card_template2_females_60.txt\n",
            "            id_card_template2_males_4.txt\n",
            "            augmented_id_card_template2_females_29.txt\n",
            "            augmented_id_card_template2_females_42.txt\n",
            "            augmented_id_card_template2_males_12.txt\n",
            "            augmented_id_card_template2_females_56.txt\n",
            "            augmented_id_card_template2_males_17.txt\n",
            "            id_card_template2_females_4.txt\n",
            "            id_card_template2_females_41.txt\n",
            "            augmented_id_card_template2_males_47.txt\n",
            "            id_card_template2_males_30.txt\n",
            "            augmented_id_card_template2_males_50.txt\n",
            "            id_card_template2_males_47.txt\n",
            "            id_card_template2_males_23.txt\n",
            "            id_card_template2_females_48.txt\n",
            "            augmented_id_card_template2_females_3.txt\n",
            "            id_card_template2_females_93.txt\n",
            "            augmented_id_card_template2_males_26.txt\n",
            "            id_card_template2_males_35.txt\n",
            "            id_card_template2_females_94.txt\n",
            "            augmented_id_card_template2_females_39.txt\n",
            "            augmented_id_card_template2_males_7.txt\n",
            "            augmented_id_card_template2_males_39.txt\n",
            "            id_card_template2_females_42.txt\n",
            "            id_card_template2_males_62.txt\n",
            "            augmented_id_card_template2_females_97.txt\n",
            "            augmented_id_card_template2_males_44.txt\n",
            "            id_card_template2_females_25.txt\n",
            "            augmented_id_card_template2_females_57.txt\n",
            "            id_card_template2_females_21.txt\n",
            "            id_card_template2_females_9.txt\n",
            "            id_card_template2_males_57.txt\n",
            "            augmented_id_card_template2_females_33.txt\n",
            "            id_card_template2_females_24.txt\n",
            "            id_card_template2_males_41.txt\n",
            "            id_card_template2_females_11.txt\n",
            "            id_card_template2_males_22.txt\n",
            "            id_card_template2_males_94.txt\n",
            "            id_card_template2_females_16.txt\n",
            "            id_card_template2_males_33.txt\n",
            "            augmented_id_card_template2_males_48.txt\n",
            "            augmented_id_card_template2_males_94.txt\n",
            "            id_card_template2_males_25.txt\n",
            "            id_card_template2_males_28.txt\n",
            "            augmented_id_card_template2_females_62.txt\n",
            "            augmented_id_card_template2_males_60.txt\n",
            "            id_card_template2_males_92.txt\n",
            "            id_card_template2_females_30.txt\n",
            "            augmented_id_card_template2_males_3.txt\n",
            "            id_card_template2_females_55.txt\n",
            "            id_card_template2_females_10.txt\n",
            "            id_card_template2_males_54.txt\n",
            "            augmented_id_card_template2_females_25.txt\n",
            "            id_card_template2_males_5.txt\n",
            "            augmented_id_card_template2_males_49.txt\n",
            "            augmented_id_card_template2_females_55.txt\n",
            "            id_card_template2_males_42.txt\n",
            "            augmented_id_card_template2_males_19.txt\n",
            "            id_card_template2_females_59.txt\n",
            "            id_card_template2_females_61.txt\n",
            "            augmented_id_card_template2_males_18.txt\n",
            "            augmented_id_card_template2_females_49.txt\n",
            "            augmented_id_card_template2_males_92.txt\n",
            "            augmented_id_card_template2_males_22.txt\n",
            "            augmented_id_card_template2_females_58.txt\n",
            "        val/\n",
            "            augmented_id_card_template2_males_66.txt\n",
            "            augmented_id_card_template2_females_79.txt\n",
            "            id_card_template2_females_78.txt\n",
            "            augmented_id_card_template2_males_64.txt\n",
            "            id_card_template2_males_74.txt\n",
            "            augmented_id_card_template2_males_70.txt\n",
            "            id_card_template2_males_76.txt\n",
            "            id_card_template2_males_73.txt\n",
            "            id_card_template2_males_99.txt\n",
            "            augmented_id_card_template2_females_78.txt\n",
            "            augmented_id_card_template2_males_65.txt\n",
            "            augmented_id_card_template2_females_64.txt\n",
            "            augmented_id_card_template2_males_79.txt\n",
            "            augmented_id_card_template2_females_72.txt\n",
            "            augmented_id_card_template2_females_65.txt\n",
            "            id_card_template2_females_66.txt\n",
            "            id_card_template2_females_64.txt\n",
            "            augmented_id_card_template2_males_81.txt\n",
            "            id_card_template2_females_65.txt\n",
            "            augmented_id_card_template2_females_80.txt\n",
            "            id_card_template2_females_79.txt\n",
            "            augmented_id_card_template2_females_76.txt\n",
            "            augmented_id_card_template2_females_71.txt\n",
            "            augmented_id_card_template2_females_68.txt\n",
            "            id_card_template2_females_77.txt\n",
            "            augmented_id_card_template2_females_75.txt\n",
            "            augmented_id_card_template2_males_67.txt\n",
            "            augmented_id_card_template2_females_67.txt\n",
            "            augmented_id_card_template2_males_68.txt\n",
            "            augmented_id_card_template2_females_99.txt\n",
            "            id_card_template2_females_67.txt\n",
            "            augmented_id_card_template2_males_77.txt\n",
            "            id_card_template2_males_67.txt\n",
            "            id_card_template2_males_75.txt\n",
            "            id_card_template2_males_66.txt\n",
            "            augmented_id_card_template2_males_98.txt\n",
            "            id_card_template2_males_64.txt\n",
            "            id_card_template2_females_74.txt\n",
            "            id_card_template2_males_80.txt\n",
            "            id_card_template2_males_79.txt\n",
            "            id_card_template2_females_69.txt\n",
            "            id_card_template2_females_81.txt\n",
            "            id_card_template2_males_81.txt\n",
            "            id_card_template2_females_71.txt\n",
            "            augmented_id_card_template2_females_74.txt\n",
            "            id_card_template2_males_71.txt\n",
            "            augmented_id_card_template2_males_71.txt\n",
            "            augmented_id_card_template2_females_73.txt\n",
            "            id_card_template2_females_70.txt\n",
            "            id_card_template2_females_73.txt\n",
            "            augmented_id_card_template2_females_77.txt\n",
            "            id_card_template2_males_98.txt\n",
            "            augmented_id_card_template2_females_66.txt\n",
            "            augmented_id_card_template2_males_74.txt\n",
            "            augmented_id_card_template2_females_70.txt\n",
            "            augmented_id_card_template2_males_75.txt\n",
            "            id_card_template2_males_68.txt\n",
            "            augmented_id_card_template2_females_69.txt\n",
            "            id_card_template2_females_99.txt\n",
            "            augmented_id_card_template2_males_99.txt\n",
            "            id_card_template2_females_80.txt\n",
            "            id_card_template2_males_78.txt\n",
            "            id_card_template2_males_72.txt\n",
            "            augmented_id_card_template2_females_98.txt\n",
            "            id_card_template2_females_68.txt\n",
            "            id_card_template2_males_69.txt\n",
            "            augmented_id_card_template2_males_69.txt\n",
            "            augmented_id_card_template2_males_78.txt\n",
            "            id_card_template2_females_98.txt\n",
            "            augmented_id_card_template2_females_81.txt\n",
            "            id_card_template2_females_76.txt\n",
            "            id_card_template2_males_70.txt\n",
            "            augmented_id_card_template2_males_72.txt\n",
            "            id_card_template2_females_75.txt\n",
            "            augmented_id_card_template2_males_80.txt\n",
            "            id_card_template2_females_72.txt\n",
            "            id_card_template2_males_65.txt\n",
            "            id_card_template2_males_77.txt\n",
            "            augmented_id_card_template2_males_76.txt\n",
            "            augmented_id_card_template2_males_73.txt\n",
            "        test/\n",
            "            augmented_id_card_template2_males_89.txt\n",
            "            id_card_template2_females_83.txt\n",
            "            id_card_template2_females_89.txt\n",
            "            id_card_template2_males_83.txt\n",
            "            augmented_id_card_template2_females_88.txt\n",
            "            augmented_id_card_template2_females_99.txt\n",
            "            id_card_template2_males_85.txt\n",
            "            augmented_id_card_template2_females_86.txt\n",
            "            id_card_template2_males_89.txt\n",
            "            augmented_id_card_template2_males_85.txt\n",
            "            augmented_id_card_template2_males_88.txt\n",
            "            id_card_template2_females_86.txt\n",
            "            augmented_id_card_template2_males_100.txt\n",
            "            id_card_template2_males_84.txt\n",
            "            augmented_id_card_template2_females_83.txt\n",
            "            augmented_id_card_template2_females_85.txt\n",
            "            augmented_id_card_template2_females_82.txt\n",
            "            id_card_template2_females_84.txt\n",
            "            augmented_id_card_template2_males_84.txt\n",
            "            id_card_template2_males_88.txt\n",
            "            augmented_id_card_template2_females_100.txt\n",
            "            augmented_id_card_template2_males_86.txt\n",
            "            augmented_id_card_template2_females_84.txt\n",
            "            augmented_id_card_template2_females_87.txt\n",
            "            id_card_template2_females_85.txt\n",
            "            id_card_template2_males_86.txt\n",
            "            id_card_template2_females_88.txt\n",
            "            id_card_template2_females_90.txt\n",
            "            augmented_id_card_template2_males_87.txt\n",
            "            id_card_template2_females_87.txt\n",
            "            augmented_id_card_template2_males_90.txt\n",
            "            id_card_template2_females_100.txt\n",
            "            augmented_id_card_template2_females_98.txt\n",
            "            id_card_template2_females_82.txt\n",
            "            id_card_template2_males_87.txt\n",
            "            augmented_id_card_template2_females_89.txt\n",
            "            augmented_id_card_template2_males_82.txt\n",
            "            id_card_template2_males_100.txt\n",
            "            augmented_id_card_template2_males_83.txt\n",
            "            id_card_template2_males_82.txt\n",
            "    classes.txt\n",
            "    images/\n",
            "        train/\n",
            "            id_card_template2_males_15.png\n",
            "            id_card_template2_males_19.png\n",
            "            id_card_template2_males_63.png\n",
            "            augmented_id_card_template2_females_20.png\n",
            "            id_card_template2_females_25.png\n",
            "            augmented_id_card_template2_females_32.png\n",
            "            id_card_template2_males_6.png\n",
            "            id_card_template2_females_56.png\n",
            "            id_card_template2_females_13.png\n",
            "            id_card_template2_males_24.png\n",
            "            augmented_id_card_template2_females_47.png\n",
            "            id_card_template2_females_43.png\n",
            "            id_card_template2_females_52.png\n",
            "            augmented_id_card_template2_females_50.png\n",
            "            id_card_template2_females_27.png\n",
            "            augmented_id_card_template2_males_95.png\n",
            "            id_card_template2_females_30.png\n",
            "            id_card_template2_males_23.png\n",
            "            id_card_template2_males_40.png\n",
            "            id_card_template2_males_53.png\n",
            "            id_card_template2_females_40.png\n",
            "            id_card_template2_males_92.png\n",
            "            augmented_id_card_template2_females_10.png\n",
            "            id_card_template2_females_63.png\n",
            "            id_card_template2_females_48.png\n",
            "            augmented_id_card_template2_females_34.png\n",
            "            id_card_template2_females_23.png\n",
            "            augmented_id_card_template2_males_43.png\n",
            "            id_card_template2_males_1.png\n",
            "            augmented_id_card_template2_males_10.png\n",
            "            augmented_id_card_template2_females_54.png\n",
            "            augmented_id_card_template2_males_11.png\n",
            "            augmented_id_card_template2_males_96.png\n",
            "            augmented_id_card_template2_males_36.png\n",
            "            id_card_template2_females_95.png\n",
            "            augmented_id_card_template2_males_23.png\n",
            "            augmented_id_card_template2_females_27.png\n",
            "            id_card_template2_males_4.png\n",
            "            augmented_id_card_template2_males_50.png\n",
            "            id_card_template2_males_55.png\n",
            "            id_card_template2_females_17.png\n",
            "            id_card_template2_males_30.png\n",
            "            augmented_id_card_template2_females_58.png\n",
            "            id_card_template2_females_19.png\n",
            "            augmented_id_card_template2_males_19.png\n",
            "            augmented_id_card_template2_males_2.png\n",
            "            augmented_id_card_template2_males_25.png\n",
            "            id_card_template2_males_33.png\n",
            "            augmented_id_card_template2_males_22.png\n",
            "            id_card_template2_males_52.png\n",
            "            id_card_template2_females_4.png\n",
            "            augmented_id_card_template2_females_13.png\n",
            "            id_card_template2_males_95.png\n",
            "            id_card_template2_females_32.png\n",
            "            id_card_template2_females_26.png\n",
            "            id_card_template2_males_91.png\n",
            "            id_card_template2_males_12.png\n",
            "            id_card_template2_males_58.png\n",
            "            augmented_id_card_template2_males_49.png\n",
            "            augmented_id_card_template2_females_7.png\n",
            "            augmented_id_card_template2_males_44.png\n",
            "            id_card_template2_females_59.png\n",
            "            id_card_template2_females_62.png\n",
            "            augmented_id_card_template2_males_52.png\n",
            "            id_card_template2_females_57.png\n",
            "            id_card_template2_males_31.png\n",
            "            id_card_template2_females_18.png\n",
            "            id_card_template2_males_5.png\n",
            "            augmented_id_card_template2_males_29.png\n",
            "            id_card_template2_females_47.png\n",
            "            augmented_id_card_template2_males_8.png\n",
            "            augmented_id_card_template2_females_49.png\n",
            "            id_card_template2_females_44.png\n",
            "            augmented_id_card_template2_females_91.png\n",
            "            augmented_id_card_template2_females_38.png\n",
            "            augmented_id_card_template2_females_23.png\n",
            "            id_card_template2_females_37.png\n",
            "            id_card_template2_males_35.png\n",
            "            augmented_id_card_template2_females_8.png\n",
            "            augmented_id_card_template2_males_97.png\n",
            "            augmented_id_card_template2_males_13.png\n",
            "            id_card_template2_males_14.png\n",
            "            augmented_id_card_template2_males_93.png\n",
            "            augmented_id_card_template2_females_48.png\n",
            "            augmented_id_card_template2_males_60.png\n",
            "            id_card_template2_males_54.png\n",
            "            augmented_id_card_template2_males_32.png\n",
            "            augmented_id_card_template2_males_20.png\n",
            "            augmented_id_card_template2_males_47.png\n",
            "            augmented_id_card_template2_males_30.png\n",
            "            id_card_template2_females_29.png\n",
            "            augmented_id_card_template2_males_57.png\n",
            "            augmented_id_card_template2_males_24.png\n",
            "            id_card_template2_females_96.png\n",
            "            augmented_id_card_template2_females_16.png\n",
            "            augmented_id_card_template2_males_92.png\n",
            "            id_card_template2_females_61.png\n",
            "            id_card_template2_females_5.png\n",
            "            id_card_template2_males_3.png\n",
            "            augmented_id_card_template2_males_40.png\n",
            "            id_card_template2_males_13.png\n",
            "            id_card_template2_males_32.png\n",
            "            id_card_template2_males_2.png\n",
            "            augmented_id_card_template2_males_34.png\n",
            "            augmented_id_card_template2_females_51.png\n",
            "            id_card_template2_males_49.png\n",
            "            augmented_id_card_template2_females_19.png\n",
            "            id_card_template2_males_34.png\n",
            "            augmented_id_card_template2_females_11.png\n",
            "            augmented_id_card_template2_males_7.png\n",
            "            id_card_template2_males_20.png\n",
            "            augmented_id_card_template2_females_31.png\n",
            "            augmented_id_card_template2_males_91.png\n",
            "            id_card_template2_males_57.png\n",
            "            augmented_id_card_template2_females_59.png\n",
            "            augmented_id_card_template2_females_9.png\n",
            "            augmented_id_card_template2_males_55.png\n",
            "            augmented_id_card_template2_females_96.png\n",
            "            augmented_id_card_template2_males_39.png\n",
            "            augmented_id_card_template2_males_61.png\n",
            "            augmented_id_card_template2_females_28.png\n",
            "            id_card_template2_females_6.png\n",
            "            id_card_template2_females_35.png\n",
            "            augmented_id_card_template2_males_53.png\n",
            "            augmented_id_card_template2_males_48.png\n",
            "            id_card_template2_males_22.png\n",
            "            augmented_id_card_template2_males_5.png\n",
            "            id_card_template2_females_33.png\n",
            "            augmented_id_card_template2_females_92.png\n",
            "            id_card_template2_males_10.png\n",
            "            augmented_id_card_template2_males_56.png\n",
            "            id_card_template2_females_42.png\n",
            "            id_card_template2_males_41.png\n",
            "            augmented_id_card_template2_females_44.png\n",
            "            augmented_id_card_template2_females_41.png\n",
            "            id_card_template2_females_94.png\n",
            "            id_card_template2_males_42.png\n",
            "            augmented_id_card_template2_males_63.png\n",
            "            augmented_id_card_template2_females_15.png\n",
            "            augmented_id_card_template2_males_21.png\n",
            "            augmented_id_card_template2_males_51.png\n",
            "            augmented_id_card_template2_females_18.png\n",
            "            augmented_id_card_template2_males_4.png\n",
            "            id_card_template2_females_36.png\n",
            "            id_card_template2_males_46.png\n",
            "            id_card_template2_females_8.png\n",
            "            id_card_template2_males_8.png\n",
            "            id_card_template2_females_41.png\n",
            "            augmented_id_card_template2_males_26.png\n",
            "            augmented_id_card_template2_males_33.png\n",
            "            id_card_template2_males_44.png\n",
            "            id_card_template2_males_48.png\n",
            "            id_card_template2_females_46.png\n",
            "            id_card_template2_females_31.png\n",
            "            id_card_template2_females_28.png\n",
            "            augmented_id_card_template2_males_58.png\n",
            "            augmented_id_card_template2_females_14.png\n",
            "            id_card_template2_females_51.png\n",
            "            augmented_id_card_template2_females_43.png\n",
            "            id_card_template2_males_37.png\n",
            "            augmented_id_card_template2_females_60.png\n",
            "            id_card_template2_females_39.png\n",
            "            id_card_template2_males_28.png\n",
            "            id_card_template2_females_45.png\n",
            "            id_card_template2_females_22.png\n",
            "            augmented_id_card_template2_males_12.png\n",
            "            id_card_template2_males_16.png\n",
            "            id_card_template2_females_54.png\n",
            "            augmented_id_card_template2_females_40.png\n",
            "            id_card_template2_females_11.png\n",
            "            augmented_id_card_template2_females_45.png\n",
            "            augmented_id_card_template2_females_6.png\n",
            "            augmented_id_card_template2_females_4.png\n",
            "            id_card_template2_males_97.png\n",
            "            augmented_id_card_template2_males_27.png\n",
            "            augmented_id_card_template2_females_2.png\n",
            "            id_card_template2_males_94.png\n",
            "            augmented_id_card_template2_females_30.png\n",
            "            id_card_template2_males_7.png\n",
            "            augmented_id_card_template2_females_3.png\n",
            "            id_card_template2_males_21.png\n",
            "            augmented_id_card_template2_females_56.png\n",
            "            augmented_id_card_template2_females_97.png\n",
            "            id_card_template2_females_1.png\n",
            "            augmented_id_card_template2_males_15.png\n",
            "            id_card_template2_females_9.png\n",
            "            augmented_id_card_template2_females_52.png\n",
            "            id_card_template2_males_36.png\n",
            "            id_card_template2_males_26.png\n",
            "            id_card_template2_females_49.png\n",
            "            id_card_template2_males_51.png\n",
            "            augmented_id_card_template2_males_94.png\n",
            "            id_card_template2_females_97.png\n",
            "            id_card_template2_females_58.png\n",
            "            id_card_template2_females_2.png\n",
            "            augmented_id_card_template2_females_22.png\n",
            "            id_card_template2_males_59.png\n",
            "            augmented_id_card_template2_females_53.png\n",
            "            id_card_template2_females_10.png\n",
            "            id_card_template2_males_61.png\n",
            "            augmented_id_card_template2_males_31.png\n",
            "            augmented_id_card_template2_females_24.png\n",
            "            augmented_id_card_template2_females_55.png\n",
            "            augmented_id_card_template2_males_18.png\n",
            "            augmented_id_card_template2_females_46.png\n",
            "            id_card_template2_males_60.png\n",
            "            id_card_template2_females_50.png\n",
            "            augmented_id_card_template2_males_16.png\n",
            "            id_card_template2_females_15.png\n",
            "            id_card_template2_males_50.png\n",
            "            augmented_id_card_template2_males_59.png\n",
            "            augmented_id_card_template2_females_29.png\n",
            "            augmented_id_card_template2_females_36.png\n",
            "            id_card_template2_females_16.png\n",
            "            augmented_id_card_template2_males_35.png\n",
            "            id_card_template2_females_53.png\n",
            "            augmented_id_card_template2_males_9.png\n",
            "            augmented_id_card_template2_females_42.png\n",
            "            id_card_template2_males_47.png\n",
            "            id_card_template2_females_7.png\n",
            "            augmented_id_card_template2_females_21.png\n",
            "            augmented_id_card_template2_males_1.png\n",
            "            id_card_template2_females_60.png\n",
            "            augmented_id_card_template2_males_37.png\n",
            "            augmented_id_card_template2_females_39.png\n",
            "            id_card_template2_females_91.png\n",
            "            id_card_template2_males_39.png\n",
            "            id_card_template2_males_18.png\n",
            "            augmented_id_card_template2_males_46.png\n",
            "            augmented_id_card_template2_females_37.png\n",
            "            augmented_id_card_template2_females_95.png\n",
            "            id_card_template2_males_29.png\n",
            "            id_card_template2_males_43.png\n",
            "            id_card_template2_females_12.png\n",
            "            id_card_template2_females_20.png\n",
            "            augmented_id_card_template2_females_5.png\n",
            "            augmented_id_card_template2_females_26.png\n",
            "            augmented_id_card_template2_males_14.png\n",
            "            id_card_template2_males_38.png\n",
            "            id_card_template2_males_9.png\n",
            "            augmented_id_card_template2_males_45.png\n",
            "            id_card_template2_females_24.png\n",
            "            id_card_template2_males_93.png\n",
            "            augmented_id_card_template2_females_17.png\n",
            "            id_card_template2_females_34.png\n",
            "            augmented_id_card_template2_females_33.png\n",
            "            augmented_id_card_template2_males_54.png\n",
            "            augmented_id_card_template2_males_38.png\n",
            "            id_card_template2_females_21.png\n",
            "            id_card_template2_females_93.png\n",
            "            id_card_template2_females_55.png\n",
            "            id_card_template2_females_38.png\n",
            "            augmented_id_card_template2_females_1.png\n",
            "            augmented_id_card_template2_females_94.png\n",
            "            augmented_id_card_template2_males_41.png\n",
            "            id_card_template2_males_17.png\n",
            "            augmented_id_card_template2_females_63.png\n",
            "            augmented_id_card_template2_males_17.png\n",
            "            id_card_template2_females_14.png\n",
            "            id_card_template2_males_96.png\n",
            "            id_card_template2_males_11.png\n",
            "            augmented_id_card_template2_males_3.png\n",
            "            augmented_id_card_template2_females_61.png\n",
            "            id_card_template2_males_45.png\n",
            "            id_card_template2_females_92.png\n",
            "            id_card_template2_females_3.png\n",
            "            augmented_id_card_template2_females_62.png\n",
            "            augmented_id_card_template2_females_12.png\n",
            "            augmented_id_card_template2_females_25.png\n",
            "            id_card_template2_males_25.png\n",
            "            id_card_template2_males_62.png\n",
            "            id_card_template2_males_27.png\n",
            "            augmented_id_card_template2_females_35.png\n",
            "            augmented_id_card_template2_females_93.png\n",
            "            augmented_id_card_template2_females_57.png\n",
            "            augmented_id_card_template2_males_42.png\n",
            "            id_card_template2_males_56.png\n",
            "            augmented_id_card_template2_males_6.png\n",
            "            augmented_id_card_template2_males_62.png\n",
            "            augmented_id_card_template2_males_28.png\n",
            "        val/\n",
            "            id_card_template2_females_81.png\n",
            "            augmented_id_card_template2_females_70.png\n",
            "            id_card_template2_females_75.png\n",
            "            id_card_template2_males_66.png\n",
            "            id_card_template2_females_67.png\n",
            "            augmented_id_card_template2_females_81.png\n",
            "            id_card_template2_males_74.png\n",
            "            id_card_template2_females_66.png\n",
            "            augmented_id_card_template2_males_72.png\n",
            "            augmented_id_card_template2_females_73.png\n",
            "            id_card_template2_males_68.png\n",
            "            augmented_id_card_template2_females_99.png\n",
            "            id_card_template2_males_77.png\n",
            "            id_card_template2_females_74.png\n",
            "            id_card_template2_males_75.png\n",
            "            id_card_template2_females_79.png\n",
            "            augmented_id_card_template2_males_69.png\n",
            "            augmented_id_card_template2_females_98.png\n",
            "            id_card_template2_males_65.png\n",
            "            id_card_template2_females_64.png\n",
            "            augmented_id_card_template2_males_65.png\n",
            "            id_card_template2_females_80.png\n",
            "            augmented_id_card_template2_males_98.png\n",
            "            augmented_id_card_template2_males_74.png\n",
            "            augmented_id_card_template2_males_80.png\n",
            "            id_card_template2_males_72.png\n",
            "            augmented_id_card_template2_females_65.png\n",
            "            augmented_id_card_template2_males_66.png\n",
            "            augmented_id_card_template2_males_78.png\n",
            "            augmented_id_card_template2_females_74.png\n",
            "            augmented_id_card_template2_females_72.png\n",
            "            augmented_id_card_template2_males_71.png\n",
            "            augmented_id_card_template2_males_70.png\n",
            "            id_card_template2_females_65.png\n",
            "            id_card_template2_males_81.png\n",
            "            augmented_id_card_template2_females_64.png\n",
            "            augmented_id_card_template2_females_71.png\n",
            "            id_card_template2_females_68.png\n",
            "            id_card_template2_females_78.png\n",
            "            id_card_template2_females_76.png\n",
            "            augmented_id_card_template2_males_75.png\n",
            "            augmented_id_card_template2_males_81.png\n",
            "            id_card_template2_males_69.png\n",
            "            id_card_template2_males_76.png\n",
            "            augmented_id_card_template2_males_76.png\n",
            "            augmented_id_card_template2_females_67.png\n",
            "            id_card_template2_females_71.png\n",
            "            augmented_id_card_template2_males_77.png\n",
            "            augmented_id_card_template2_females_80.png\n",
            "            augmented_id_card_template2_males_64.png\n",
            "            augmented_id_card_template2_females_78.png\n",
            "            augmented_id_card_template2_females_76.png\n",
            "            augmented_id_card_template2_females_75.png\n",
            "            id_card_template2_females_99.png\n",
            "            id_card_template2_males_67.png\n",
            "            augmented_id_card_template2_males_67.png\n",
            "            id_card_template2_females_77.png\n",
            "            id_card_template2_males_70.png\n",
            "            id_card_template2_females_98.png\n",
            "            id_card_template2_females_72.png\n",
            "            augmented_id_card_template2_females_66.png\n",
            "            augmented_id_card_template2_males_68.png\n",
            "            augmented_id_card_template2_males_79.png\n",
            "            augmented_id_card_template2_males_99.png\n",
            "            augmented_id_card_template2_females_69.png\n",
            "            id_card_template2_females_70.png\n",
            "            id_card_template2_females_73.png\n",
            "            augmented_id_card_template2_females_77.png\n",
            "            augmented_id_card_template2_females_68.png\n",
            "            id_card_template2_males_79.png\n",
            "            id_card_template2_males_98.png\n",
            "            id_card_template2_males_73.png\n",
            "            id_card_template2_females_69.png\n",
            "            augmented_id_card_template2_males_73.png\n",
            "            augmented_id_card_template2_females_79.png\n",
            "            id_card_template2_males_99.png\n",
            "            id_card_template2_males_64.png\n",
            "            id_card_template2_males_80.png\n",
            "            id_card_template2_males_71.png\n",
            "            id_card_template2_males_78.png\n",
            "        test/\n",
            "            augmented_id_card_template2_females_82.png\n",
            "            id_card_template2_males_85.png\n",
            "            augmented_id_card_template2_females_100.png\n",
            "            augmented_id_card_template2_females_87.png\n",
            "            augmented_id_card_template2_females_86.png\n",
            "            id_card_template2_males_82.png\n",
            "            augmented_id_card_template2_females_84.png\n",
            "            augmented_id_card_template2_males_83.png\n",
            "            id_card_template2_males_89.png\n",
            "            augmented_id_card_template2_males_90.png\n",
            "            augmented_id_card_template2_females_88.png\n",
            "            id_card_template2_females_88.png\n",
            "            id_card_template2_females_85.png\n",
            "            augmented_id_card_template2_males_82.png\n",
            "            id_card_template2_males_86.png\n",
            "            augmented_id_card_template2_females_83.png\n",
            "            id_card_template2_females_87.png\n",
            "            id_card_template2_males_88.png\n",
            "            id_card_template2_males_100.png\n",
            "            augmented_id_card_template2_males_87.png\n",
            "            id_card_template2_males_83.png\n",
            "            id_card_template2_females_83.png\n",
            "            id_card_template2_females_89.png\n",
            "            id_card_template2_females_84.png\n",
            "            augmented_id_card_template2_males_88.png\n",
            "            id_card_template2_females_86.png\n",
            "            augmented_id_card_template2_males_84.png\n",
            "            augmented_id_card_template2_females_89.png\n",
            "            id_card_template2_females_100.png\n",
            "            id_card_template2_males_84.png\n",
            "            id_card_template2_males_87.png\n",
            "            augmented_id_card_template2_females_85.png\n",
            "            augmented_id_card_template2_males_89.png\n",
            "            augmented_id_card_template2_males_85.png\n",
            "            augmented_id_card_template2_males_100.png\n",
            "            id_card_template2_females_82.png\n",
            "            id_card_template2_males_90.png\n",
            "            id_card_template2_females_90.png\n",
            "            augmented_id_card_template2_females_90.png\n",
            "            augmented_id_card_template2_males_86.png\n"
          ]
        }
      ]
    },
    {
      "cell_type": "markdown",
      "source": [
        "# =============================================\n",
        "# 3. Load and Inspect the YOLO Model\n",
        "# =============================================\n"
      ],
      "metadata": {
        "id": "QDTluBpI9T3m"
      }
    },
    {
      "cell_type": "code",
      "source": [
        "# Load a pre-trained YOLO model (e.g., YOLOv8n)\n",
        "model = YOLO('yolov8n.pt')  # You can use 'yolov8s', 'yolov8m', etc."
      ],
      "metadata": {
        "colab": {
          "base_uri": "https://localhost:8080/"
        },
        "id": "s8kurZDh9U8u",
        "outputId": "cbb0549d-8310-4f40-a336-9fefc3b44cfa"
      },
      "execution_count": 12,
      "outputs": [
        {
          "output_type": "stream",
          "name": "stdout",
          "text": [
            "Downloading https://github.com/ultralytics/assets/releases/download/v8.3.0/yolov8n.pt to 'yolov8n.pt'...\n"
          ]
        },
        {
          "output_type": "stream",
          "name": "stderr",
          "text": [
            "100%|██████████| 6.25M/6.25M [00:00<00:00, 95.1MB/s]\n"
          ]
        }
      ]
    },
    {
      "cell_type": "code",
      "source": [
        "# Inspect the model architecture\n",
        "print(model)"
      ],
      "metadata": {
        "colab": {
          "base_uri": "https://localhost:8080/"
        },
        "id": "jYNM89ci9YKF",
        "outputId": "d0a09e06-d20b-412b-8ce7-f1e35fbc8fe0"
      },
      "execution_count": 13,
      "outputs": [
        {
          "output_type": "stream",
          "name": "stdout",
          "text": [
            "YOLO(\n",
            "  (model): DetectionModel(\n",
            "    (model): Sequential(\n",
            "      (0): Conv(\n",
            "        (conv): Conv2d(3, 16, kernel_size=(3, 3), stride=(2, 2), padding=(1, 1), bias=False)\n",
            "        (bn): BatchNorm2d(16, eps=0.001, momentum=0.03, affine=True, track_running_stats=True)\n",
            "        (act): SiLU(inplace=True)\n",
            "      )\n",
            "      (1): Conv(\n",
            "        (conv): Conv2d(16, 32, kernel_size=(3, 3), stride=(2, 2), padding=(1, 1), bias=False)\n",
            "        (bn): BatchNorm2d(32, eps=0.001, momentum=0.03, affine=True, track_running_stats=True)\n",
            "        (act): SiLU(inplace=True)\n",
            "      )\n",
            "      (2): C2f(\n",
            "        (cv1): Conv(\n",
            "          (conv): Conv2d(32, 32, kernel_size=(1, 1), stride=(1, 1), bias=False)\n",
            "          (bn): BatchNorm2d(32, eps=0.001, momentum=0.03, affine=True, track_running_stats=True)\n",
            "          (act): SiLU(inplace=True)\n",
            "        )\n",
            "        (cv2): Conv(\n",
            "          (conv): Conv2d(48, 32, kernel_size=(1, 1), stride=(1, 1), bias=False)\n",
            "          (bn): BatchNorm2d(32, eps=0.001, momentum=0.03, affine=True, track_running_stats=True)\n",
            "          (act): SiLU(inplace=True)\n",
            "        )\n",
            "        (m): ModuleList(\n",
            "          (0): Bottleneck(\n",
            "            (cv1): Conv(\n",
            "              (conv): Conv2d(16, 16, kernel_size=(3, 3), stride=(1, 1), padding=(1, 1), bias=False)\n",
            "              (bn): BatchNorm2d(16, eps=0.001, momentum=0.03, affine=True, track_running_stats=True)\n",
            "              (act): SiLU(inplace=True)\n",
            "            )\n",
            "            (cv2): Conv(\n",
            "              (conv): Conv2d(16, 16, kernel_size=(3, 3), stride=(1, 1), padding=(1, 1), bias=False)\n",
            "              (bn): BatchNorm2d(16, eps=0.001, momentum=0.03, affine=True, track_running_stats=True)\n",
            "              (act): SiLU(inplace=True)\n",
            "            )\n",
            "          )\n",
            "        )\n",
            "      )\n",
            "      (3): Conv(\n",
            "        (conv): Conv2d(32, 64, kernel_size=(3, 3), stride=(2, 2), padding=(1, 1), bias=False)\n",
            "        (bn): BatchNorm2d(64, eps=0.001, momentum=0.03, affine=True, track_running_stats=True)\n",
            "        (act): SiLU(inplace=True)\n",
            "      )\n",
            "      (4): C2f(\n",
            "        (cv1): Conv(\n",
            "          (conv): Conv2d(64, 64, kernel_size=(1, 1), stride=(1, 1), bias=False)\n",
            "          (bn): BatchNorm2d(64, eps=0.001, momentum=0.03, affine=True, track_running_stats=True)\n",
            "          (act): SiLU(inplace=True)\n",
            "        )\n",
            "        (cv2): Conv(\n",
            "          (conv): Conv2d(128, 64, kernel_size=(1, 1), stride=(1, 1), bias=False)\n",
            "          (bn): BatchNorm2d(64, eps=0.001, momentum=0.03, affine=True, track_running_stats=True)\n",
            "          (act): SiLU(inplace=True)\n",
            "        )\n",
            "        (m): ModuleList(\n",
            "          (0-1): 2 x Bottleneck(\n",
            "            (cv1): Conv(\n",
            "              (conv): Conv2d(32, 32, kernel_size=(3, 3), stride=(1, 1), padding=(1, 1), bias=False)\n",
            "              (bn): BatchNorm2d(32, eps=0.001, momentum=0.03, affine=True, track_running_stats=True)\n",
            "              (act): SiLU(inplace=True)\n",
            "            )\n",
            "            (cv2): Conv(\n",
            "              (conv): Conv2d(32, 32, kernel_size=(3, 3), stride=(1, 1), padding=(1, 1), bias=False)\n",
            "              (bn): BatchNorm2d(32, eps=0.001, momentum=0.03, affine=True, track_running_stats=True)\n",
            "              (act): SiLU(inplace=True)\n",
            "            )\n",
            "          )\n",
            "        )\n",
            "      )\n",
            "      (5): Conv(\n",
            "        (conv): Conv2d(64, 128, kernel_size=(3, 3), stride=(2, 2), padding=(1, 1), bias=False)\n",
            "        (bn): BatchNorm2d(128, eps=0.001, momentum=0.03, affine=True, track_running_stats=True)\n",
            "        (act): SiLU(inplace=True)\n",
            "      )\n",
            "      (6): C2f(\n",
            "        (cv1): Conv(\n",
            "          (conv): Conv2d(128, 128, kernel_size=(1, 1), stride=(1, 1), bias=False)\n",
            "          (bn): BatchNorm2d(128, eps=0.001, momentum=0.03, affine=True, track_running_stats=True)\n",
            "          (act): SiLU(inplace=True)\n",
            "        )\n",
            "        (cv2): Conv(\n",
            "          (conv): Conv2d(256, 128, kernel_size=(1, 1), stride=(1, 1), bias=False)\n",
            "          (bn): BatchNorm2d(128, eps=0.001, momentum=0.03, affine=True, track_running_stats=True)\n",
            "          (act): SiLU(inplace=True)\n",
            "        )\n",
            "        (m): ModuleList(\n",
            "          (0-1): 2 x Bottleneck(\n",
            "            (cv1): Conv(\n",
            "              (conv): Conv2d(64, 64, kernel_size=(3, 3), stride=(1, 1), padding=(1, 1), bias=False)\n",
            "              (bn): BatchNorm2d(64, eps=0.001, momentum=0.03, affine=True, track_running_stats=True)\n",
            "              (act): SiLU(inplace=True)\n",
            "            )\n",
            "            (cv2): Conv(\n",
            "              (conv): Conv2d(64, 64, kernel_size=(3, 3), stride=(1, 1), padding=(1, 1), bias=False)\n",
            "              (bn): BatchNorm2d(64, eps=0.001, momentum=0.03, affine=True, track_running_stats=True)\n",
            "              (act): SiLU(inplace=True)\n",
            "            )\n",
            "          )\n",
            "        )\n",
            "      )\n",
            "      (7): Conv(\n",
            "        (conv): Conv2d(128, 256, kernel_size=(3, 3), stride=(2, 2), padding=(1, 1), bias=False)\n",
            "        (bn): BatchNorm2d(256, eps=0.001, momentum=0.03, affine=True, track_running_stats=True)\n",
            "        (act): SiLU(inplace=True)\n",
            "      )\n",
            "      (8): C2f(\n",
            "        (cv1): Conv(\n",
            "          (conv): Conv2d(256, 256, kernel_size=(1, 1), stride=(1, 1), bias=False)\n",
            "          (bn): BatchNorm2d(256, eps=0.001, momentum=0.03, affine=True, track_running_stats=True)\n",
            "          (act): SiLU(inplace=True)\n",
            "        )\n",
            "        (cv2): Conv(\n",
            "          (conv): Conv2d(384, 256, kernel_size=(1, 1), stride=(1, 1), bias=False)\n",
            "          (bn): BatchNorm2d(256, eps=0.001, momentum=0.03, affine=True, track_running_stats=True)\n",
            "          (act): SiLU(inplace=True)\n",
            "        )\n",
            "        (m): ModuleList(\n",
            "          (0): Bottleneck(\n",
            "            (cv1): Conv(\n",
            "              (conv): Conv2d(128, 128, kernel_size=(3, 3), stride=(1, 1), padding=(1, 1), bias=False)\n",
            "              (bn): BatchNorm2d(128, eps=0.001, momentum=0.03, affine=True, track_running_stats=True)\n",
            "              (act): SiLU(inplace=True)\n",
            "            )\n",
            "            (cv2): Conv(\n",
            "              (conv): Conv2d(128, 128, kernel_size=(3, 3), stride=(1, 1), padding=(1, 1), bias=False)\n",
            "              (bn): BatchNorm2d(128, eps=0.001, momentum=0.03, affine=True, track_running_stats=True)\n",
            "              (act): SiLU(inplace=True)\n",
            "            )\n",
            "          )\n",
            "        )\n",
            "      )\n",
            "      (9): SPPF(\n",
            "        (cv1): Conv(\n",
            "          (conv): Conv2d(256, 128, kernel_size=(1, 1), stride=(1, 1), bias=False)\n",
            "          (bn): BatchNorm2d(128, eps=0.001, momentum=0.03, affine=True, track_running_stats=True)\n",
            "          (act): SiLU(inplace=True)\n",
            "        )\n",
            "        (cv2): Conv(\n",
            "          (conv): Conv2d(512, 256, kernel_size=(1, 1), stride=(1, 1), bias=False)\n",
            "          (bn): BatchNorm2d(256, eps=0.001, momentum=0.03, affine=True, track_running_stats=True)\n",
            "          (act): SiLU(inplace=True)\n",
            "        )\n",
            "        (m): MaxPool2d(kernel_size=5, stride=1, padding=2, dilation=1, ceil_mode=False)\n",
            "      )\n",
            "      (10): Upsample(scale_factor=2.0, mode='nearest')\n",
            "      (11): Concat()\n",
            "      (12): C2f(\n",
            "        (cv1): Conv(\n",
            "          (conv): Conv2d(384, 128, kernel_size=(1, 1), stride=(1, 1), bias=False)\n",
            "          (bn): BatchNorm2d(128, eps=0.001, momentum=0.03, affine=True, track_running_stats=True)\n",
            "          (act): SiLU(inplace=True)\n",
            "        )\n",
            "        (cv2): Conv(\n",
            "          (conv): Conv2d(192, 128, kernel_size=(1, 1), stride=(1, 1), bias=False)\n",
            "          (bn): BatchNorm2d(128, eps=0.001, momentum=0.03, affine=True, track_running_stats=True)\n",
            "          (act): SiLU(inplace=True)\n",
            "        )\n",
            "        (m): ModuleList(\n",
            "          (0): Bottleneck(\n",
            "            (cv1): Conv(\n",
            "              (conv): Conv2d(64, 64, kernel_size=(3, 3), stride=(1, 1), padding=(1, 1), bias=False)\n",
            "              (bn): BatchNorm2d(64, eps=0.001, momentum=0.03, affine=True, track_running_stats=True)\n",
            "              (act): SiLU(inplace=True)\n",
            "            )\n",
            "            (cv2): Conv(\n",
            "              (conv): Conv2d(64, 64, kernel_size=(3, 3), stride=(1, 1), padding=(1, 1), bias=False)\n",
            "              (bn): BatchNorm2d(64, eps=0.001, momentum=0.03, affine=True, track_running_stats=True)\n",
            "              (act): SiLU(inplace=True)\n",
            "            )\n",
            "          )\n",
            "        )\n",
            "      )\n",
            "      (13): Upsample(scale_factor=2.0, mode='nearest')\n",
            "      (14): Concat()\n",
            "      (15): C2f(\n",
            "        (cv1): Conv(\n",
            "          (conv): Conv2d(192, 64, kernel_size=(1, 1), stride=(1, 1), bias=False)\n",
            "          (bn): BatchNorm2d(64, eps=0.001, momentum=0.03, affine=True, track_running_stats=True)\n",
            "          (act): SiLU(inplace=True)\n",
            "        )\n",
            "        (cv2): Conv(\n",
            "          (conv): Conv2d(96, 64, kernel_size=(1, 1), stride=(1, 1), bias=False)\n",
            "          (bn): BatchNorm2d(64, eps=0.001, momentum=0.03, affine=True, track_running_stats=True)\n",
            "          (act): SiLU(inplace=True)\n",
            "        )\n",
            "        (m): ModuleList(\n",
            "          (0): Bottleneck(\n",
            "            (cv1): Conv(\n",
            "              (conv): Conv2d(32, 32, kernel_size=(3, 3), stride=(1, 1), padding=(1, 1), bias=False)\n",
            "              (bn): BatchNorm2d(32, eps=0.001, momentum=0.03, affine=True, track_running_stats=True)\n",
            "              (act): SiLU(inplace=True)\n",
            "            )\n",
            "            (cv2): Conv(\n",
            "              (conv): Conv2d(32, 32, kernel_size=(3, 3), stride=(1, 1), padding=(1, 1), bias=False)\n",
            "              (bn): BatchNorm2d(32, eps=0.001, momentum=0.03, affine=True, track_running_stats=True)\n",
            "              (act): SiLU(inplace=True)\n",
            "            )\n",
            "          )\n",
            "        )\n",
            "      )\n",
            "      (16): Conv(\n",
            "        (conv): Conv2d(64, 64, kernel_size=(3, 3), stride=(2, 2), padding=(1, 1), bias=False)\n",
            "        (bn): BatchNorm2d(64, eps=0.001, momentum=0.03, affine=True, track_running_stats=True)\n",
            "        (act): SiLU(inplace=True)\n",
            "      )\n",
            "      (17): Concat()\n",
            "      (18): C2f(\n",
            "        (cv1): Conv(\n",
            "          (conv): Conv2d(192, 128, kernel_size=(1, 1), stride=(1, 1), bias=False)\n",
            "          (bn): BatchNorm2d(128, eps=0.001, momentum=0.03, affine=True, track_running_stats=True)\n",
            "          (act): SiLU(inplace=True)\n",
            "        )\n",
            "        (cv2): Conv(\n",
            "          (conv): Conv2d(192, 128, kernel_size=(1, 1), stride=(1, 1), bias=False)\n",
            "          (bn): BatchNorm2d(128, eps=0.001, momentum=0.03, affine=True, track_running_stats=True)\n",
            "          (act): SiLU(inplace=True)\n",
            "        )\n",
            "        (m): ModuleList(\n",
            "          (0): Bottleneck(\n",
            "            (cv1): Conv(\n",
            "              (conv): Conv2d(64, 64, kernel_size=(3, 3), stride=(1, 1), padding=(1, 1), bias=False)\n",
            "              (bn): BatchNorm2d(64, eps=0.001, momentum=0.03, affine=True, track_running_stats=True)\n",
            "              (act): SiLU(inplace=True)\n",
            "            )\n",
            "            (cv2): Conv(\n",
            "              (conv): Conv2d(64, 64, kernel_size=(3, 3), stride=(1, 1), padding=(1, 1), bias=False)\n",
            "              (bn): BatchNorm2d(64, eps=0.001, momentum=0.03, affine=True, track_running_stats=True)\n",
            "              (act): SiLU(inplace=True)\n",
            "            )\n",
            "          )\n",
            "        )\n",
            "      )\n",
            "      (19): Conv(\n",
            "        (conv): Conv2d(128, 128, kernel_size=(3, 3), stride=(2, 2), padding=(1, 1), bias=False)\n",
            "        (bn): BatchNorm2d(128, eps=0.001, momentum=0.03, affine=True, track_running_stats=True)\n",
            "        (act): SiLU(inplace=True)\n",
            "      )\n",
            "      (20): Concat()\n",
            "      (21): C2f(\n",
            "        (cv1): Conv(\n",
            "          (conv): Conv2d(384, 256, kernel_size=(1, 1), stride=(1, 1), bias=False)\n",
            "          (bn): BatchNorm2d(256, eps=0.001, momentum=0.03, affine=True, track_running_stats=True)\n",
            "          (act): SiLU(inplace=True)\n",
            "        )\n",
            "        (cv2): Conv(\n",
            "          (conv): Conv2d(384, 256, kernel_size=(1, 1), stride=(1, 1), bias=False)\n",
            "          (bn): BatchNorm2d(256, eps=0.001, momentum=0.03, affine=True, track_running_stats=True)\n",
            "          (act): SiLU(inplace=True)\n",
            "        )\n",
            "        (m): ModuleList(\n",
            "          (0): Bottleneck(\n",
            "            (cv1): Conv(\n",
            "              (conv): Conv2d(128, 128, kernel_size=(3, 3), stride=(1, 1), padding=(1, 1), bias=False)\n",
            "              (bn): BatchNorm2d(128, eps=0.001, momentum=0.03, affine=True, track_running_stats=True)\n",
            "              (act): SiLU(inplace=True)\n",
            "            )\n",
            "            (cv2): Conv(\n",
            "              (conv): Conv2d(128, 128, kernel_size=(3, 3), stride=(1, 1), padding=(1, 1), bias=False)\n",
            "              (bn): BatchNorm2d(128, eps=0.001, momentum=0.03, affine=True, track_running_stats=True)\n",
            "              (act): SiLU(inplace=True)\n",
            "            )\n",
            "          )\n",
            "        )\n",
            "      )\n",
            "      (22): Detect(\n",
            "        (cv2): ModuleList(\n",
            "          (0): Sequential(\n",
            "            (0): Conv(\n",
            "              (conv): Conv2d(64, 64, kernel_size=(3, 3), stride=(1, 1), padding=(1, 1), bias=False)\n",
            "              (bn): BatchNorm2d(64, eps=0.001, momentum=0.03, affine=True, track_running_stats=True)\n",
            "              (act): SiLU(inplace=True)\n",
            "            )\n",
            "            (1): Conv(\n",
            "              (conv): Conv2d(64, 64, kernel_size=(3, 3), stride=(1, 1), padding=(1, 1), bias=False)\n",
            "              (bn): BatchNorm2d(64, eps=0.001, momentum=0.03, affine=True, track_running_stats=True)\n",
            "              (act): SiLU(inplace=True)\n",
            "            )\n",
            "            (2): Conv2d(64, 64, kernel_size=(1, 1), stride=(1, 1))\n",
            "          )\n",
            "          (1): Sequential(\n",
            "            (0): Conv(\n",
            "              (conv): Conv2d(128, 64, kernel_size=(3, 3), stride=(1, 1), padding=(1, 1), bias=False)\n",
            "              (bn): BatchNorm2d(64, eps=0.001, momentum=0.03, affine=True, track_running_stats=True)\n",
            "              (act): SiLU(inplace=True)\n",
            "            )\n",
            "            (1): Conv(\n",
            "              (conv): Conv2d(64, 64, kernel_size=(3, 3), stride=(1, 1), padding=(1, 1), bias=False)\n",
            "              (bn): BatchNorm2d(64, eps=0.001, momentum=0.03, affine=True, track_running_stats=True)\n",
            "              (act): SiLU(inplace=True)\n",
            "            )\n",
            "            (2): Conv2d(64, 64, kernel_size=(1, 1), stride=(1, 1))\n",
            "          )\n",
            "          (2): Sequential(\n",
            "            (0): Conv(\n",
            "              (conv): Conv2d(256, 64, kernel_size=(3, 3), stride=(1, 1), padding=(1, 1), bias=False)\n",
            "              (bn): BatchNorm2d(64, eps=0.001, momentum=0.03, affine=True, track_running_stats=True)\n",
            "              (act): SiLU(inplace=True)\n",
            "            )\n",
            "            (1): Conv(\n",
            "              (conv): Conv2d(64, 64, kernel_size=(3, 3), stride=(1, 1), padding=(1, 1), bias=False)\n",
            "              (bn): BatchNorm2d(64, eps=0.001, momentum=0.03, affine=True, track_running_stats=True)\n",
            "              (act): SiLU(inplace=True)\n",
            "            )\n",
            "            (2): Conv2d(64, 64, kernel_size=(1, 1), stride=(1, 1))\n",
            "          )\n",
            "        )\n",
            "        (cv3): ModuleList(\n",
            "          (0): Sequential(\n",
            "            (0): Conv(\n",
            "              (conv): Conv2d(64, 80, kernel_size=(3, 3), stride=(1, 1), padding=(1, 1), bias=False)\n",
            "              (bn): BatchNorm2d(80, eps=0.001, momentum=0.03, affine=True, track_running_stats=True)\n",
            "              (act): SiLU(inplace=True)\n",
            "            )\n",
            "            (1): Conv(\n",
            "              (conv): Conv2d(80, 80, kernel_size=(3, 3), stride=(1, 1), padding=(1, 1), bias=False)\n",
            "              (bn): BatchNorm2d(80, eps=0.001, momentum=0.03, affine=True, track_running_stats=True)\n",
            "              (act): SiLU(inplace=True)\n",
            "            )\n",
            "            (2): Conv2d(80, 80, kernel_size=(1, 1), stride=(1, 1))\n",
            "          )\n",
            "          (1): Sequential(\n",
            "            (0): Conv(\n",
            "              (conv): Conv2d(128, 80, kernel_size=(3, 3), stride=(1, 1), padding=(1, 1), bias=False)\n",
            "              (bn): BatchNorm2d(80, eps=0.001, momentum=0.03, affine=True, track_running_stats=True)\n",
            "              (act): SiLU(inplace=True)\n",
            "            )\n",
            "            (1): Conv(\n",
            "              (conv): Conv2d(80, 80, kernel_size=(3, 3), stride=(1, 1), padding=(1, 1), bias=False)\n",
            "              (bn): BatchNorm2d(80, eps=0.001, momentum=0.03, affine=True, track_running_stats=True)\n",
            "              (act): SiLU(inplace=True)\n",
            "            )\n",
            "            (2): Conv2d(80, 80, kernel_size=(1, 1), stride=(1, 1))\n",
            "          )\n",
            "          (2): Sequential(\n",
            "            (0): Conv(\n",
            "              (conv): Conv2d(256, 80, kernel_size=(3, 3), stride=(1, 1), padding=(1, 1), bias=False)\n",
            "              (bn): BatchNorm2d(80, eps=0.001, momentum=0.03, affine=True, track_running_stats=True)\n",
            "              (act): SiLU(inplace=True)\n",
            "            )\n",
            "            (1): Conv(\n",
            "              (conv): Conv2d(80, 80, kernel_size=(3, 3), stride=(1, 1), padding=(1, 1), bias=False)\n",
            "              (bn): BatchNorm2d(80, eps=0.001, momentum=0.03, affine=True, track_running_stats=True)\n",
            "              (act): SiLU(inplace=True)\n",
            "            )\n",
            "            (2): Conv2d(80, 80, kernel_size=(1, 1), stride=(1, 1))\n",
            "          )\n",
            "        )\n",
            "        (dfl): DFL(\n",
            "          (conv): Conv2d(16, 1, kernel_size=(1, 1), stride=(1, 1), bias=False)\n",
            "        )\n",
            "      )\n",
            "    )\n",
            "  )\n",
            ")\n"
          ]
        }
      ]
    },
    {
      "cell_type": "markdown",
      "source": [
        "# =============================================\n",
        "# 4. Train the Model\n",
        "# ============================================="
      ],
      "metadata": {
        "id": "kAs8Ly969dff"
      }
    },
    {
      "cell_type": "code",
      "source": [
        "# Define training parameters\n",
        "epochs = 50\n",
        "imgsz = 640\n",
        "batch = 16\n",
        "data_yaml = \"/content/dataset/data.yaml\""
      ],
      "metadata": {
        "id": "w6MAXOLW9czE"
      },
      "execution_count": 14,
      "outputs": []
    },
    {
      "cell_type": "code",
      "source": [
        "# Start training\n",
        "results = model.train(data=data_yaml, epochs=epochs, imgsz=imgsz, batch=batch)"
      ],
      "metadata": {
        "colab": {
          "base_uri": "https://localhost:8080/"
        },
        "id": "sVKHehr09i3K",
        "outputId": "4ec22bc9-124b-4c6d-ec8f-5b292f00c945"
      },
      "execution_count": 15,
      "outputs": [
        {
          "metadata": {
            "tags": null
          },
          "name": "stdout",
          "output_type": "stream",
          "text": [
            "Ultralytics 8.3.89 🚀 Python-3.11.11 torch-2.5.1+cu124 CPU (Intel Xeon 2.20GHz)\n",
            "\u001b[34m\u001b[1mengine/trainer: \u001b[0mtask=detect, mode=train, model=yolov8n.pt, data=/content/dataset/data.yaml, epochs=50, time=None, patience=100, batch=16, imgsz=640, save=True, save_period=-1, cache=False, device=None, workers=8, project=None, name=train, exist_ok=False, pretrained=True, optimizer=auto, verbose=True, seed=0, deterministic=True, single_cls=False, rect=False, cos_lr=False, close_mosaic=10, resume=False, amp=True, fraction=1.0, profile=False, freeze=None, multi_scale=False, overlap_mask=True, mask_ratio=4, dropout=0.0, val=True, split=val, save_json=False, save_hybrid=False, conf=None, iou=0.7, max_det=300, half=False, dnn=False, plots=True, source=None, vid_stride=1, stream_buffer=False, visualize=False, augment=False, agnostic_nms=False, classes=None, retina_masks=False, embed=None, show=False, save_frames=False, save_txt=False, save_conf=False, save_crop=False, show_labels=True, show_conf=True, show_boxes=True, line_width=None, format=torchscript, keras=False, optimize=False, int8=False, dynamic=False, simplify=True, opset=None, workspace=None, nms=False, lr0=0.01, lrf=0.01, momentum=0.937, weight_decay=0.0005, warmup_epochs=3.0, warmup_momentum=0.8, warmup_bias_lr=0.1, box=7.5, cls=0.5, dfl=1.5, pose=12.0, kobj=1.0, nbs=64, hsv_h=0.015, hsv_s=0.7, hsv_v=0.4, degrees=0.0, translate=0.1, scale=0.5, shear=0.0, perspective=0.0, flipud=0.0, fliplr=0.5, bgr=0.0, mosaic=1.0, mixup=0.0, copy_paste=0.0, copy_paste_mode=flip, auto_augment=randaugment, erasing=0.4, crop_fraction=1.0, cfg=None, tracker=botsort.yaml, save_dir=runs/detect/train\n",
            "Downloading https://ultralytics.com/assets/Arial.ttf to '/root/.config/Ultralytics/Arial.ttf'...\n"
          ]
        },
        {
          "metadata": {
            "tags": null
          },
          "name": "stderr",
          "output_type": "stream",
          "text": [
            "100%|██████████| 755k/755k [00:00<00:00, 17.1MB/s]\n"
          ]
        },
        {
          "metadata": {
            "tags": null
          },
          "name": "stdout",
          "output_type": "stream",
          "text": [
            "Overriding model.yaml nc=80 with nc=17\n",
            "\n",
            "                   from  n    params  module                                       arguments                     \n",
            "  0                  -1  1       464  ultralytics.nn.modules.conv.Conv             [3, 16, 3, 2]                 \n",
            "  1                  -1  1      4672  ultralytics.nn.modules.conv.Conv             [16, 32, 3, 2]                \n",
            "  2                  -1  1      7360  ultralytics.nn.modules.block.C2f             [32, 32, 1, True]             \n",
            "  3                  -1  1     18560  ultralytics.nn.modules.conv.Conv             [32, 64, 3, 2]                \n",
            "  4                  -1  2     49664  ultralytics.nn.modules.block.C2f             [64, 64, 2, True]             \n",
            "  5                  -1  1     73984  ultralytics.nn.modules.conv.Conv             [64, 128, 3, 2]               \n",
            "  6                  -1  2    197632  ultralytics.nn.modules.block.C2f             [128, 128, 2, True]           \n",
            "  7                  -1  1    295424  ultralytics.nn.modules.conv.Conv             [128, 256, 3, 2]              \n",
            "  8                  -1  1    460288  ultralytics.nn.modules.block.C2f             [256, 256, 1, True]           \n",
            "  9                  -1  1    164608  ultralytics.nn.modules.block.SPPF            [256, 256, 5]                 \n",
            " 10                  -1  1         0  torch.nn.modules.upsampling.Upsample         [None, 2, 'nearest']          \n",
            " 11             [-1, 6]  1         0  ultralytics.nn.modules.conv.Concat           [1]                           \n",
            " 12                  -1  1    148224  ultralytics.nn.modules.block.C2f             [384, 128, 1]                 \n",
            " 13                  -1  1         0  torch.nn.modules.upsampling.Upsample         [None, 2, 'nearest']          \n",
            " 14             [-1, 4]  1         0  ultralytics.nn.modules.conv.Concat           [1]                           \n",
            " 15                  -1  1     37248  ultralytics.nn.modules.block.C2f             [192, 64, 1]                  \n",
            " 16                  -1  1     36992  ultralytics.nn.modules.conv.Conv             [64, 64, 3, 2]                \n",
            " 17            [-1, 12]  1         0  ultralytics.nn.modules.conv.Concat           [1]                           \n",
            " 18                  -1  1    123648  ultralytics.nn.modules.block.C2f             [192, 128, 1]                 \n",
            " 19                  -1  1    147712  ultralytics.nn.modules.conv.Conv             [128, 128, 3, 2]              \n",
            " 20             [-1, 9]  1         0  ultralytics.nn.modules.conv.Concat           [1]                           \n",
            " 21                  -1  1    493056  ultralytics.nn.modules.block.C2f             [384, 256, 1]                 \n",
            " 22        [15, 18, 21]  1    754627  ultralytics.nn.modules.head.Detect           [17, [64, 128, 256]]          \n",
            "Model summary: 129 layers, 3,014,163 parameters, 3,014,147 gradients, 8.2 GFLOPs\n",
            "\n",
            "Transferred 319/355 items from pretrained weights\n",
            "\u001b[34m\u001b[1mTensorBoard: \u001b[0mStart with 'tensorboard --logdir runs/detect/train', view at http://localhost:6006/\n",
            "Freezing layer 'model.22.dfl.conv.weight'\n"
          ]
        },
        {
          "metadata": {
            "tags": null
          },
          "name": "stderr",
          "output_type": "stream",
          "text": [
            "\u001b[34m\u001b[1mtrain: \u001b[0mScanning /content/dataset/labels/train... 280 images, 0 backgrounds, 111 corrupt: 100%|██████████| 280/280 [00:00<00:00, 423.79it/s]"
          ]
        },
        {
          "metadata": {
            "tags": null
          },
          "name": "stdout",
          "output_type": "stream",
          "text": [
            "\u001b[34m\u001b[1mtrain: \u001b[0mWARNING ⚠️ /content/dataset/images/train/augmented_id_card_template2_females_1.png: ignoring corrupt image/label: non-normalized or out of bounds coordinates [     1.0327]\n",
            "\u001b[34m\u001b[1mtrain: \u001b[0mWARNING ⚠️ /content/dataset/images/train/augmented_id_card_template2_females_10.png: ignoring corrupt image/label: non-normalized or out of bounds coordinates [     1.0327]\n",
            "\u001b[34m\u001b[1mtrain: \u001b[0mWARNING ⚠️ /content/dataset/images/train/augmented_id_card_template2_females_11.png: ignoring corrupt image/label: non-normalized or out of bounds coordinates [     1.0327]\n",
            "\u001b[34m\u001b[1mtrain: \u001b[0mWARNING ⚠️ /content/dataset/images/train/augmented_id_card_template2_females_12.png: ignoring corrupt image/label: non-normalized or out of bounds coordinates [     1.0327]\n",
            "\u001b[34m\u001b[1mtrain: \u001b[0mWARNING ⚠️ /content/dataset/images/train/augmented_id_card_template2_females_13.png: ignoring corrupt image/label: non-normalized or out of bounds coordinates [     1.0327]\n",
            "\u001b[34m\u001b[1mtrain: \u001b[0mWARNING ⚠️ /content/dataset/images/train/augmented_id_card_template2_females_14.png: ignoring corrupt image/label: non-normalized or out of bounds coordinates [     1.0327]\n",
            "\u001b[34m\u001b[1mtrain: \u001b[0mWARNING ⚠️ /content/dataset/images/train/augmented_id_card_template2_females_15.png: ignoring corrupt image/label: non-normalized or out of bounds coordinates [     1.0327]\n",
            "\u001b[34m\u001b[1mtrain: \u001b[0mWARNING ⚠️ /content/dataset/images/train/augmented_id_card_template2_females_16.png: ignoring corrupt image/label: non-normalized or out of bounds coordinates [     1.0327]\n",
            "\u001b[34m\u001b[1mtrain: \u001b[0mWARNING ⚠️ /content/dataset/images/train/augmented_id_card_template2_females_17.png: ignoring corrupt image/label: non-normalized or out of bounds coordinates [     1.0327]\n",
            "\u001b[34m\u001b[1mtrain: \u001b[0mWARNING ⚠️ /content/dataset/images/train/augmented_id_card_template2_females_18.png: ignoring corrupt image/label: non-normalized or out of bounds coordinates [     1.0327]\n",
            "\u001b[34m\u001b[1mtrain: \u001b[0mWARNING ⚠️ /content/dataset/images/train/augmented_id_card_template2_females_19.png: ignoring corrupt image/label: non-normalized or out of bounds coordinates [     1.0327]\n",
            "\u001b[34m\u001b[1mtrain: \u001b[0mWARNING ⚠️ /content/dataset/images/train/augmented_id_card_template2_females_2.png: ignoring corrupt image/label: non-normalized or out of bounds coordinates [     1.0327]\n",
            "\u001b[34m\u001b[1mtrain: \u001b[0mWARNING ⚠️ /content/dataset/images/train/augmented_id_card_template2_females_20.png: ignoring corrupt image/label: non-normalized or out of bounds coordinates [     1.0327]\n",
            "\u001b[34m\u001b[1mtrain: \u001b[0mWARNING ⚠️ /content/dataset/images/train/augmented_id_card_template2_females_21.png: ignoring corrupt image/label: non-normalized or out of bounds coordinates [     1.0327]\n",
            "\u001b[34m\u001b[1mtrain: \u001b[0mWARNING ⚠️ /content/dataset/images/train/augmented_id_card_template2_females_22.png: ignoring corrupt image/label: non-normalized or out of bounds coordinates [     1.0327]\n",
            "\u001b[34m\u001b[1mtrain: \u001b[0mWARNING ⚠️ /content/dataset/images/train/augmented_id_card_template2_females_23.png: ignoring corrupt image/label: non-normalized or out of bounds coordinates [     1.0327]\n",
            "\u001b[34m\u001b[1mtrain: \u001b[0mWARNING ⚠️ /content/dataset/images/train/augmented_id_card_template2_females_24.png: ignoring corrupt image/label: non-normalized or out of bounds coordinates [     1.0327]\n",
            "\u001b[34m\u001b[1mtrain: \u001b[0mWARNING ⚠️ /content/dataset/images/train/augmented_id_card_template2_females_25.png: ignoring corrupt image/label: non-normalized or out of bounds coordinates [     1.0327]\n",
            "\u001b[34m\u001b[1mtrain: \u001b[0mWARNING ⚠️ /content/dataset/images/train/augmented_id_card_template2_females_26.png: ignoring corrupt image/label: non-normalized or out of bounds coordinates [     1.0327]\n",
            "\u001b[34m\u001b[1mtrain: \u001b[0mWARNING ⚠️ /content/dataset/images/train/augmented_id_card_template2_females_27.png: ignoring corrupt image/label: non-normalized or out of bounds coordinates [     1.0327]\n",
            "\u001b[34m\u001b[1mtrain: \u001b[0mWARNING ⚠️ /content/dataset/images/train/augmented_id_card_template2_females_28.png: ignoring corrupt image/label: non-normalized or out of bounds coordinates [     1.0327]\n",
            "\u001b[34m\u001b[1mtrain: \u001b[0mWARNING ⚠️ /content/dataset/images/train/augmented_id_card_template2_females_29.png: ignoring corrupt image/label: non-normalized or out of bounds coordinates [     1.0327]\n",
            "\u001b[34m\u001b[1mtrain: \u001b[0mWARNING ⚠️ /content/dataset/images/train/augmented_id_card_template2_females_3.png: ignoring corrupt image/label: non-normalized or out of bounds coordinates [     1.0327]\n",
            "\u001b[34m\u001b[1mtrain: \u001b[0mWARNING ⚠️ /content/dataset/images/train/augmented_id_card_template2_females_30.png: ignoring corrupt image/label: non-normalized or out of bounds coordinates [     1.0327]\n",
            "\u001b[34m\u001b[1mtrain: \u001b[0mWARNING ⚠️ /content/dataset/images/train/augmented_id_card_template2_females_31.png: ignoring corrupt image/label: non-normalized or out of bounds coordinates [     1.0327]\n",
            "\u001b[34m\u001b[1mtrain: \u001b[0mWARNING ⚠️ /content/dataset/images/train/augmented_id_card_template2_females_32.png: ignoring corrupt image/label: non-normalized or out of bounds coordinates [     1.0327]\n",
            "\u001b[34m\u001b[1mtrain: \u001b[0mWARNING ⚠️ /content/dataset/images/train/augmented_id_card_template2_females_33.png: ignoring corrupt image/label: non-normalized or out of bounds coordinates [     1.0327]\n",
            "\u001b[34m\u001b[1mtrain: \u001b[0mWARNING ⚠️ /content/dataset/images/train/augmented_id_card_template2_females_34.png: ignoring corrupt image/label: non-normalized or out of bounds coordinates [     1.0327]\n",
            "\u001b[34m\u001b[1mtrain: \u001b[0mWARNING ⚠️ /content/dataset/images/train/augmented_id_card_template2_females_35.png: ignoring corrupt image/label: non-normalized or out of bounds coordinates [     1.0327]\n",
            "\u001b[34m\u001b[1mtrain: \u001b[0mWARNING ⚠️ /content/dataset/images/train/augmented_id_card_template2_females_36.png: ignoring corrupt image/label: non-normalized or out of bounds coordinates [     1.0327]\n",
            "\u001b[34m\u001b[1mtrain: \u001b[0mWARNING ⚠️ /content/dataset/images/train/augmented_id_card_template2_females_37.png: ignoring corrupt image/label: non-normalized or out of bounds coordinates [     1.0327]\n",
            "\u001b[34m\u001b[1mtrain: \u001b[0mWARNING ⚠️ /content/dataset/images/train/augmented_id_card_template2_females_38.png: ignoring corrupt image/label: non-normalized or out of bounds coordinates [     1.0327]\n",
            "\u001b[34m\u001b[1mtrain: \u001b[0mWARNING ⚠️ /content/dataset/images/train/augmented_id_card_template2_females_39.png: ignoring corrupt image/label: non-normalized or out of bounds coordinates [     1.0327]\n",
            "\u001b[34m\u001b[1mtrain: \u001b[0mWARNING ⚠️ /content/dataset/images/train/augmented_id_card_template2_females_4.png: ignoring corrupt image/label: non-normalized or out of bounds coordinates [     1.0327]\n",
            "\u001b[34m\u001b[1mtrain: \u001b[0mWARNING ⚠️ /content/dataset/images/train/augmented_id_card_template2_females_40.png: ignoring corrupt image/label: non-normalized or out of bounds coordinates [     1.0327]\n",
            "\u001b[34m\u001b[1mtrain: \u001b[0mWARNING ⚠️ /content/dataset/images/train/augmented_id_card_template2_females_41.png: ignoring corrupt image/label: non-normalized or out of bounds coordinates [     1.0327]\n",
            "\u001b[34m\u001b[1mtrain: \u001b[0mWARNING ⚠️ /content/dataset/images/train/augmented_id_card_template2_females_42.png: ignoring corrupt image/label: non-normalized or out of bounds coordinates [     1.0327]\n",
            "\u001b[34m\u001b[1mtrain: \u001b[0mWARNING ⚠️ /content/dataset/images/train/augmented_id_card_template2_females_43.png: ignoring corrupt image/label: non-normalized or out of bounds coordinates [     1.0327]\n",
            "\u001b[34m\u001b[1mtrain: \u001b[0mWARNING ⚠️ /content/dataset/images/train/augmented_id_card_template2_females_44.png: ignoring corrupt image/label: non-normalized or out of bounds coordinates [     1.0327]\n",
            "\u001b[34m\u001b[1mtrain: \u001b[0mWARNING ⚠️ /content/dataset/images/train/augmented_id_card_template2_females_45.png: ignoring corrupt image/label: non-normalized or out of bounds coordinates [     1.0327]\n",
            "\u001b[34m\u001b[1mtrain: \u001b[0mWARNING ⚠️ /content/dataset/images/train/augmented_id_card_template2_females_46.png: ignoring corrupt image/label: non-normalized or out of bounds coordinates [     1.0327]\n",
            "\u001b[34m\u001b[1mtrain: \u001b[0mWARNING ⚠️ /content/dataset/images/train/augmented_id_card_template2_females_47.png: ignoring corrupt image/label: non-normalized or out of bounds coordinates [     1.0327]\n",
            "\u001b[34m\u001b[1mtrain: \u001b[0mWARNING ⚠️ /content/dataset/images/train/augmented_id_card_template2_females_48.png: ignoring corrupt image/label: non-normalized or out of bounds coordinates [     1.0327]\n",
            "\u001b[34m\u001b[1mtrain: \u001b[0mWARNING ⚠️ /content/dataset/images/train/augmented_id_card_template2_females_49.png: ignoring corrupt image/label: non-normalized or out of bounds coordinates [     1.0327]\n",
            "\u001b[34m\u001b[1mtrain: \u001b[0mWARNING ⚠️ /content/dataset/images/train/augmented_id_card_template2_females_5.png: ignoring corrupt image/label: non-normalized or out of bounds coordinates [     1.0327]\n",
            "\u001b[34m\u001b[1mtrain: \u001b[0mWARNING ⚠️ /content/dataset/images/train/augmented_id_card_template2_females_50.png: ignoring corrupt image/label: non-normalized or out of bounds coordinates [     1.0327]\n",
            "\u001b[34m\u001b[1mtrain: \u001b[0mWARNING ⚠️ /content/dataset/images/train/augmented_id_card_template2_females_51.png: ignoring corrupt image/label: non-normalized or out of bounds coordinates [     1.0327]\n",
            "\u001b[34m\u001b[1mtrain: \u001b[0mWARNING ⚠️ /content/dataset/images/train/augmented_id_card_template2_females_52.png: ignoring corrupt image/label: non-normalized or out of bounds coordinates [     1.0327]\n",
            "\u001b[34m\u001b[1mtrain: \u001b[0mWARNING ⚠️ /content/dataset/images/train/augmented_id_card_template2_females_53.png: ignoring corrupt image/label: non-normalized or out of bounds coordinates [     1.0327]\n",
            "\u001b[34m\u001b[1mtrain: \u001b[0mWARNING ⚠️ /content/dataset/images/train/augmented_id_card_template2_females_54.png: ignoring corrupt image/label: non-normalized or out of bounds coordinates [     1.0327]\n",
            "\u001b[34m\u001b[1mtrain: \u001b[0mWARNING ⚠️ /content/dataset/images/train/augmented_id_card_template2_females_55.png: ignoring corrupt image/label: non-normalized or out of bounds coordinates [     1.0327]\n",
            "\u001b[34m\u001b[1mtrain: \u001b[0mWARNING ⚠️ /content/dataset/images/train/augmented_id_card_template2_females_56.png: ignoring corrupt image/label: non-normalized or out of bounds coordinates [     1.0327]\n",
            "\u001b[34m\u001b[1mtrain: \u001b[0mWARNING ⚠️ /content/dataset/images/train/augmented_id_card_template2_females_57.png: ignoring corrupt image/label: non-normalized or out of bounds coordinates [     1.0327]\n",
            "\u001b[34m\u001b[1mtrain: \u001b[0mWARNING ⚠️ /content/dataset/images/train/augmented_id_card_template2_females_58.png: ignoring corrupt image/label: non-normalized or out of bounds coordinates [     1.0327]\n",
            "\u001b[34m\u001b[1mtrain: \u001b[0mWARNING ⚠️ /content/dataset/images/train/augmented_id_card_template2_females_59.png: ignoring corrupt image/label: non-normalized or out of bounds coordinates [     1.0327]\n",
            "\u001b[34m\u001b[1mtrain: \u001b[0mWARNING ⚠️ /content/dataset/images/train/augmented_id_card_template2_females_6.png: ignoring corrupt image/label: non-normalized or out of bounds coordinates [     1.0327]\n",
            "\u001b[34m\u001b[1mtrain: \u001b[0mWARNING ⚠️ /content/dataset/images/train/augmented_id_card_template2_females_60.png: ignoring corrupt image/label: non-normalized or out of bounds coordinates [     1.0327]\n",
            "\u001b[34m\u001b[1mtrain: \u001b[0mWARNING ⚠️ /content/dataset/images/train/augmented_id_card_template2_females_61.png: ignoring corrupt image/label: non-normalized or out of bounds coordinates [     1.0327]\n",
            "\u001b[34m\u001b[1mtrain: \u001b[0mWARNING ⚠️ /content/dataset/images/train/augmented_id_card_template2_females_62.png: ignoring corrupt image/label: non-normalized or out of bounds coordinates [     1.0327]\n",
            "\u001b[34m\u001b[1mtrain: \u001b[0mWARNING ⚠️ /content/dataset/images/train/augmented_id_card_template2_females_63.png: ignoring corrupt image/label: non-normalized or out of bounds coordinates [     1.0327]\n",
            "\u001b[34m\u001b[1mtrain: \u001b[0mWARNING ⚠️ /content/dataset/images/train/augmented_id_card_template2_females_7.png: ignoring corrupt image/label: non-normalized or out of bounds coordinates [     1.0327]\n",
            "\u001b[34m\u001b[1mtrain: \u001b[0mWARNING ⚠️ /content/dataset/images/train/augmented_id_card_template2_females_8.png: ignoring corrupt image/label: non-normalized or out of bounds coordinates [     1.0327]\n",
            "\u001b[34m\u001b[1mtrain: \u001b[0mWARNING ⚠️ /content/dataset/images/train/augmented_id_card_template2_females_9.png: ignoring corrupt image/label: non-normalized or out of bounds coordinates [     1.0327]\n",
            "\u001b[34m\u001b[1mtrain: \u001b[0mWARNING ⚠️ /content/dataset/images/train/augmented_id_card_template2_females_91.png: ignoring corrupt image/label: non-normalized or out of bounds coordinates [     1.0327]\n",
            "\u001b[34m\u001b[1mtrain: \u001b[0mWARNING ⚠️ /content/dataset/images/train/augmented_id_card_template2_females_92.png: ignoring corrupt image/label: non-normalized or out of bounds coordinates [     1.0327]\n",
            "\u001b[34m\u001b[1mtrain: \u001b[0mWARNING ⚠️ /content/dataset/images/train/augmented_id_card_template2_females_93.png: ignoring corrupt image/label: non-normalized or out of bounds coordinates [     1.0327]\n",
            "\u001b[34m\u001b[1mtrain: \u001b[0mWARNING ⚠️ /content/dataset/images/train/augmented_id_card_template2_females_94.png: ignoring corrupt image/label: non-normalized or out of bounds coordinates [     1.0327]\n",
            "\u001b[34m\u001b[1mtrain: \u001b[0mWARNING ⚠️ /content/dataset/images/train/augmented_id_card_template2_females_95.png: ignoring corrupt image/label: non-normalized or out of bounds coordinates [     1.0327]\n",
            "\u001b[34m\u001b[1mtrain: \u001b[0mWARNING ⚠️ /content/dataset/images/train/augmented_id_card_template2_females_96.png: ignoring corrupt image/label: non-normalized or out of bounds coordinates [     1.0327]\n",
            "\u001b[34m\u001b[1mtrain: \u001b[0mWARNING ⚠️ /content/dataset/images/train/augmented_id_card_template2_females_97.png: ignoring corrupt image/label: non-normalized or out of bounds coordinates [     1.0327]\n",
            "\u001b[34m\u001b[1mtrain: \u001b[0mWARNING ⚠️ /content/dataset/images/train/augmented_id_card_template2_males_1.png: ignoring corrupt image/label: non-normalized or out of bounds coordinates [     1.0327]\n",
            "\u001b[34m\u001b[1mtrain: \u001b[0mWARNING ⚠️ /content/dataset/images/train/augmented_id_card_template2_males_10.png: ignoring corrupt image/label: non-normalized or out of bounds coordinates [     1.0327]\n",
            "\u001b[34m\u001b[1mtrain: \u001b[0mWARNING ⚠️ /content/dataset/images/train/augmented_id_card_template2_males_11.png: ignoring corrupt image/label: non-normalized or out of bounds coordinates [     1.0327]\n",
            "\u001b[34m\u001b[1mtrain: \u001b[0mWARNING ⚠️ /content/dataset/images/train/augmented_id_card_template2_males_12.png: ignoring corrupt image/label: non-normalized or out of bounds coordinates [     1.0327]\n",
            "\u001b[34m\u001b[1mtrain: \u001b[0mWARNING ⚠️ /content/dataset/images/train/augmented_id_card_template2_males_13.png: ignoring corrupt image/label: non-normalized or out of bounds coordinates [     1.0327]\n",
            "\u001b[34m\u001b[1mtrain: \u001b[0mWARNING ⚠️ /content/dataset/images/train/augmented_id_card_template2_males_14.png: ignoring corrupt image/label: non-normalized or out of bounds coordinates [     1.0327]\n",
            "\u001b[34m\u001b[1mtrain: \u001b[0mWARNING ⚠️ /content/dataset/images/train/augmented_id_card_template2_males_15.png: ignoring corrupt image/label: non-normalized or out of bounds coordinates [     1.0327]\n",
            "\u001b[34m\u001b[1mtrain: \u001b[0mWARNING ⚠️ /content/dataset/images/train/augmented_id_card_template2_males_16.png: ignoring corrupt image/label: non-normalized or out of bounds coordinates [     1.0327]\n",
            "\u001b[34m\u001b[1mtrain: \u001b[0mWARNING ⚠️ /content/dataset/images/train/augmented_id_card_template2_males_17.png: ignoring corrupt image/label: non-normalized or out of bounds coordinates [     1.0327]\n",
            "\u001b[34m\u001b[1mtrain: \u001b[0mWARNING ⚠️ /content/dataset/images/train/augmented_id_card_template2_males_18.png: ignoring corrupt image/label: non-normalized or out of bounds coordinates [     1.0327]\n",
            "\u001b[34m\u001b[1mtrain: \u001b[0mWARNING ⚠️ /content/dataset/images/train/augmented_id_card_template2_males_19.png: ignoring corrupt image/label: non-normalized or out of bounds coordinates [     1.0327]\n",
            "\u001b[34m\u001b[1mtrain: \u001b[0mWARNING ⚠️ /content/dataset/images/train/augmented_id_card_template2_males_2.png: ignoring corrupt image/label: non-normalized or out of bounds coordinates [     1.0327]\n",
            "\u001b[34m\u001b[1mtrain: \u001b[0mWARNING ⚠️ /content/dataset/images/train/augmented_id_card_template2_males_20.png: ignoring corrupt image/label: non-normalized or out of bounds coordinates [     1.0327]\n",
            "\u001b[34m\u001b[1mtrain: \u001b[0mWARNING ⚠️ /content/dataset/images/train/augmented_id_card_template2_males_21.png: ignoring corrupt image/label: non-normalized or out of bounds coordinates [     1.0327]\n",
            "\u001b[34m\u001b[1mtrain: \u001b[0mWARNING ⚠️ /content/dataset/images/train/augmented_id_card_template2_males_22.png: ignoring corrupt image/label: non-normalized or out of bounds coordinates [     1.0327]\n",
            "\u001b[34m\u001b[1mtrain: \u001b[0mWARNING ⚠️ /content/dataset/images/train/augmented_id_card_template2_males_23.png: ignoring corrupt image/label: non-normalized or out of bounds coordinates [     1.0327]\n",
            "\u001b[34m\u001b[1mtrain: \u001b[0mWARNING ⚠️ /content/dataset/images/train/augmented_id_card_template2_males_24.png: ignoring corrupt image/label: non-normalized or out of bounds coordinates [     1.0327]\n",
            "\u001b[34m\u001b[1mtrain: \u001b[0mWARNING ⚠️ /content/dataset/images/train/augmented_id_card_template2_males_25.png: ignoring corrupt image/label: non-normalized or out of bounds coordinates [     1.0327]\n",
            "\u001b[34m\u001b[1mtrain: \u001b[0mWARNING ⚠️ /content/dataset/images/train/augmented_id_card_template2_males_26.png: ignoring corrupt image/label: non-normalized or out of bounds coordinates [     1.0327]\n",
            "\u001b[34m\u001b[1mtrain: \u001b[0mWARNING ⚠️ /content/dataset/images/train/augmented_id_card_template2_males_27.png: ignoring corrupt image/label: non-normalized or out of bounds coordinates [     1.0327]\n",
            "\u001b[34m\u001b[1mtrain: \u001b[0mWARNING ⚠️ /content/dataset/images/train/augmented_id_card_template2_males_28.png: ignoring corrupt image/label: non-normalized or out of bounds coordinates [     1.0327]\n",
            "\u001b[34m\u001b[1mtrain: \u001b[0mWARNING ⚠️ /content/dataset/images/train/augmented_id_card_template2_males_29.png: ignoring corrupt image/label: non-normalized or out of bounds coordinates [     1.0327]\n",
            "\u001b[34m\u001b[1mtrain: \u001b[0mWARNING ⚠️ /content/dataset/images/train/augmented_id_card_template2_males_3.png: ignoring corrupt image/label: non-normalized or out of bounds coordinates [     1.0327]\n",
            "\u001b[34m\u001b[1mtrain: \u001b[0mWARNING ⚠️ /content/dataset/images/train/augmented_id_card_template2_males_30.png: ignoring corrupt image/label: non-normalized or out of bounds coordinates [     1.0327]\n",
            "\u001b[34m\u001b[1mtrain: \u001b[0mWARNING ⚠️ /content/dataset/images/train/augmented_id_card_template2_males_31.png: ignoring corrupt image/label: non-normalized or out of bounds coordinates [     1.0327]\n",
            "\u001b[34m\u001b[1mtrain: \u001b[0mWARNING ⚠️ /content/dataset/images/train/augmented_id_card_template2_males_32.png: ignoring corrupt image/label: non-normalized or out of bounds coordinates [     1.0327]\n",
            "\u001b[34m\u001b[1mtrain: \u001b[0mWARNING ⚠️ /content/dataset/images/train/augmented_id_card_template2_males_33.png: ignoring corrupt image/label: non-normalized or out of bounds coordinates [     1.0327]\n",
            "\u001b[34m\u001b[1mtrain: \u001b[0mWARNING ⚠️ /content/dataset/images/train/augmented_id_card_template2_males_34.png: ignoring corrupt image/label: non-normalized or out of bounds coordinates [     1.0327]\n",
            "\u001b[34m\u001b[1mtrain: \u001b[0mWARNING ⚠️ /content/dataset/images/train/augmented_id_card_template2_males_35.png: ignoring corrupt image/label: non-normalized or out of bounds coordinates [     1.0327]\n",
            "\u001b[34m\u001b[1mtrain: \u001b[0mWARNING ⚠️ /content/dataset/images/train/augmented_id_card_template2_males_36.png: ignoring corrupt image/label: non-normalized or out of bounds coordinates [     1.0327]\n",
            "\u001b[34m\u001b[1mtrain: \u001b[0mWARNING ⚠️ /content/dataset/images/train/augmented_id_card_template2_males_37.png: ignoring corrupt image/label: non-normalized or out of bounds coordinates [     1.0327]\n",
            "\u001b[34m\u001b[1mtrain: \u001b[0mWARNING ⚠️ /content/dataset/images/train/augmented_id_card_template2_males_38.png: ignoring corrupt image/label: non-normalized or out of bounds coordinates [     1.0327]\n",
            "\u001b[34m\u001b[1mtrain: \u001b[0mWARNING ⚠️ /content/dataset/images/train/augmented_id_card_template2_males_39.png: ignoring corrupt image/label: non-normalized or out of bounds coordinates [     1.0327]\n",
            "\u001b[34m\u001b[1mtrain: \u001b[0mWARNING ⚠️ /content/dataset/images/train/augmented_id_card_template2_males_4.png: ignoring corrupt image/label: non-normalized or out of bounds coordinates [     1.0327]\n",
            "\u001b[34m\u001b[1mtrain: \u001b[0mWARNING ⚠️ /content/dataset/images/train/augmented_id_card_template2_males_40.png: ignoring corrupt image/label: non-normalized or out of bounds coordinates [     1.0327]\n",
            "\u001b[34m\u001b[1mtrain: \u001b[0mWARNING ⚠️ /content/dataset/images/train/augmented_id_card_template2_males_41.png: ignoring corrupt image/label: non-normalized or out of bounds coordinates [     1.0327]\n",
            "\u001b[34m\u001b[1mtrain: \u001b[0mWARNING ⚠️ /content/dataset/images/train/augmented_id_card_template2_males_42.png: ignoring corrupt image/label: non-normalized or out of bounds coordinates [     1.0327]\n",
            "\u001b[34m\u001b[1mtrain: \u001b[0mWARNING ⚠️ /content/dataset/images/train/augmented_id_card_template2_males_43.png: ignoring corrupt image/label: non-normalized or out of bounds coordinates [     1.0327]\n",
            "\u001b[34m\u001b[1mtrain: \u001b[0mWARNING ⚠️ /content/dataset/images/train/augmented_id_card_template2_males_44.png: ignoring corrupt image/label: non-normalized or out of bounds coordinates [     1.0327]\n",
            "\u001b[34m\u001b[1mtrain: \u001b[0mWARNING ⚠️ /content/dataset/images/train/augmented_id_card_template2_males_45.png: ignoring corrupt image/label: non-normalized or out of bounds coordinates [     1.0327]\n",
            "\u001b[34m\u001b[1mtrain: \u001b[0mWARNING ⚠️ /content/dataset/images/train/augmented_id_card_template2_males_46.png: ignoring corrupt image/label: non-normalized or out of bounds coordinates [     1.0327]\n",
            "\u001b[34m\u001b[1mtrain: \u001b[0mNew cache created: /content/dataset/labels/train.cache\n"
          ]
        },
        {
          "metadata": {
            "tags": null
          },
          "name": "stderr",
          "output_type": "stream",
          "text": [
            "\n"
          ]
        },
        {
          "metadata": {
            "tags": null
          },
          "name": "stdout",
          "output_type": "stream",
          "text": [
            "\u001b[34m\u001b[1malbumentations: \u001b[0mBlur(p=0.01, blur_limit=(3, 7)), MedianBlur(p=0.01, blur_limit=(3, 7)), ToGray(p=0.01, num_output_channels=3, method='weighted_average'), CLAHE(p=0.01, clip_limit=(1.0, 4.0), tile_grid_size=(8, 8))\n"
          ]
        },
        {
          "metadata": {
            "tags": null
          },
          "name": "stderr",
          "output_type": "stream",
          "text": [
            "\u001b[34m\u001b[1mval: \u001b[0mScanning /content/dataset/labels/val... 80 images, 0 backgrounds, 20 corrupt: 100%|██████████| 80/80 [00:00<00:00, 545.86it/s]"
          ]
        },
        {
          "metadata": {
            "tags": null
          },
          "name": "stdout",
          "output_type": "stream",
          "text": [
            "\u001b[34m\u001b[1mval: \u001b[0mWARNING ⚠️ /content/dataset/images/val/augmented_id_card_template2_females_64.png: ignoring corrupt image/label: non-normalized or out of bounds coordinates [     1.0327]\n",
            "\u001b[34m\u001b[1mval: \u001b[0mWARNING ⚠️ /content/dataset/images/val/augmented_id_card_template2_females_65.png: ignoring corrupt image/label: non-normalized or out of bounds coordinates [     1.0327]\n",
            "\u001b[34m\u001b[1mval: \u001b[0mWARNING ⚠️ /content/dataset/images/val/augmented_id_card_template2_females_66.png: ignoring corrupt image/label: non-normalized or out of bounds coordinates [     1.0327]\n",
            "\u001b[34m\u001b[1mval: \u001b[0mWARNING ⚠️ /content/dataset/images/val/augmented_id_card_template2_females_67.png: ignoring corrupt image/label: non-normalized or out of bounds coordinates [     1.0327]\n",
            "\u001b[34m\u001b[1mval: \u001b[0mWARNING ⚠️ /content/dataset/images/val/augmented_id_card_template2_females_68.png: ignoring corrupt image/label: non-normalized or out of bounds coordinates [     1.0327]\n",
            "\u001b[34m\u001b[1mval: \u001b[0mWARNING ⚠️ /content/dataset/images/val/augmented_id_card_template2_females_69.png: ignoring corrupt image/label: non-normalized or out of bounds coordinates [     1.0327]\n",
            "\u001b[34m\u001b[1mval: \u001b[0mWARNING ⚠️ /content/dataset/images/val/augmented_id_card_template2_females_70.png: ignoring corrupt image/label: non-normalized or out of bounds coordinates [     1.0327]\n",
            "\u001b[34m\u001b[1mval: \u001b[0mWARNING ⚠️ /content/dataset/images/val/augmented_id_card_template2_females_71.png: ignoring corrupt image/label: non-normalized or out of bounds coordinates [     1.0327]\n",
            "\u001b[34m\u001b[1mval: \u001b[0mWARNING ⚠️ /content/dataset/images/val/augmented_id_card_template2_females_72.png: ignoring corrupt image/label: non-normalized or out of bounds coordinates [     1.0327]\n",
            "\u001b[34m\u001b[1mval: \u001b[0mWARNING ⚠️ /content/dataset/images/val/augmented_id_card_template2_females_73.png: ignoring corrupt image/label: non-normalized or out of bounds coordinates [     1.0327]\n",
            "\u001b[34m\u001b[1mval: \u001b[0mWARNING ⚠️ /content/dataset/images/val/augmented_id_card_template2_females_74.png: ignoring corrupt image/label: non-normalized or out of bounds coordinates [     1.0327]\n",
            "\u001b[34m\u001b[1mval: \u001b[0mWARNING ⚠️ /content/dataset/images/val/augmented_id_card_template2_females_75.png: ignoring corrupt image/label: non-normalized or out of bounds coordinates [     1.0327]\n",
            "\u001b[34m\u001b[1mval: \u001b[0mWARNING ⚠️ /content/dataset/images/val/augmented_id_card_template2_females_76.png: ignoring corrupt image/label: non-normalized or out of bounds coordinates [     1.0327]\n",
            "\u001b[34m\u001b[1mval: \u001b[0mWARNING ⚠️ /content/dataset/images/val/augmented_id_card_template2_females_77.png: ignoring corrupt image/label: non-normalized or out of bounds coordinates [     1.0327]\n",
            "\u001b[34m\u001b[1mval: \u001b[0mWARNING ⚠️ /content/dataset/images/val/augmented_id_card_template2_females_78.png: ignoring corrupt image/label: non-normalized or out of bounds coordinates [     1.0327]\n",
            "\u001b[34m\u001b[1mval: \u001b[0mWARNING ⚠️ /content/dataset/images/val/augmented_id_card_template2_females_79.png: ignoring corrupt image/label: non-normalized or out of bounds coordinates [     1.0327]\n",
            "\u001b[34m\u001b[1mval: \u001b[0mWARNING ⚠️ /content/dataset/images/val/augmented_id_card_template2_females_80.png: ignoring corrupt image/label: non-normalized or out of bounds coordinates [     1.0327]\n",
            "\u001b[34m\u001b[1mval: \u001b[0mWARNING ⚠️ /content/dataset/images/val/augmented_id_card_template2_females_81.png: ignoring corrupt image/label: non-normalized or out of bounds coordinates [     1.0327]\n",
            "\u001b[34m\u001b[1mval: \u001b[0mWARNING ⚠️ /content/dataset/images/val/augmented_id_card_template2_females_98.png: ignoring corrupt image/label: non-normalized or out of bounds coordinates [     1.0327]\n",
            "\u001b[34m\u001b[1mval: \u001b[0mWARNING ⚠️ /content/dataset/images/val/augmented_id_card_template2_females_99.png: ignoring corrupt image/label: non-normalized or out of bounds coordinates [     1.0327]\n",
            "\u001b[34m\u001b[1mval: \u001b[0mNew cache created: /content/dataset/labels/val.cache\n"
          ]
        },
        {
          "metadata": {
            "tags": null
          },
          "name": "stderr",
          "output_type": "stream",
          "text": [
            "\n"
          ]
        },
        {
          "metadata": {
            "tags": null
          },
          "name": "stdout",
          "output_type": "stream",
          "text": [
            "Plotting labels to runs/detect/train/labels.jpg... \n",
            "\u001b[34m\u001b[1moptimizer:\u001b[0m 'optimizer=auto' found, ignoring 'lr0=0.01' and 'momentum=0.937' and determining best 'optimizer', 'lr0' and 'momentum' automatically... \n",
            "\u001b[34m\u001b[1moptimizer:\u001b[0m AdamW(lr=0.000476, momentum=0.9) with parameter groups 57 weight(decay=0.0), 64 weight(decay=0.0005), 63 bias(decay=0.0)\n",
            "\u001b[34m\u001b[1mTensorBoard: \u001b[0mmodel graph visualization added ✅\n",
            "Image sizes 640 train, 640 val\n",
            "Using 0 dataloader workers\n",
            "Logging results to \u001b[1mruns/detect/train\u001b[0m\n",
            "Starting training for 50 epochs...\n",
            "\n",
            "      Epoch    GPU_mem   box_loss   cls_loss   dfl_loss  Instances       Size\n"
          ]
        },
        {
          "metadata": {
            "tags": null
          },
          "name": "stderr",
          "output_type": "stream",
          "text": [
            "       1/50         0G      1.754      4.391      1.486        303        640: 100%|██████████| 11/11 [03:01<00:00, 16.51s/it]\n",
            "                 Class     Images  Instances      Box(P          R      mAP50  mAP50-95): 100%|██████████| 2/2 [00:20<00:00, 10.10s/it]"
          ]
        },
        {
          "metadata": {
            "tags": null
          },
          "name": "stdout",
          "output_type": "stream",
          "text": [
            "                   all         60       1020          0          0          0          0\n"
          ]
        },
        {
          "metadata": {
            "tags": null
          },
          "name": "stderr",
          "output_type": "stream",
          "text": [
            "\n"
          ]
        },
        {
          "metadata": {
            "tags": null
          },
          "name": "stdout",
          "output_type": "stream",
          "text": [
            "\n",
            "      Epoch    GPU_mem   box_loss   cls_loss   dfl_loss  Instances       Size\n"
          ]
        },
        {
          "metadata": {
            "tags": null
          },
          "name": "stderr",
          "output_type": "stream",
          "text": [
            "       2/50         0G      1.448      4.086      1.322        357        640: 100%|██████████| 11/11 [02:38<00:00, 14.38s/it]\n",
            "                 Class     Images  Instances      Box(P          R      mAP50  mAP50-95): 100%|██████████| 2/2 [00:19<00:00,  9.98s/it]"
          ]
        },
        {
          "metadata": {
            "tags": null
          },
          "name": "stdout",
          "output_type": "stream",
          "text": [
            "                   all         60       1020      0.167      0.157      0.166      0.122\n"
          ]
        },
        {
          "metadata": {
            "tags": null
          },
          "name": "stderr",
          "output_type": "stream",
          "text": [
            "\n"
          ]
        },
        {
          "metadata": {
            "tags": null
          },
          "name": "stdout",
          "output_type": "stream",
          "text": [
            "\n",
            "      Epoch    GPU_mem   box_loss   cls_loss   dfl_loss  Instances       Size\n"
          ]
        },
        {
          "metadata": {
            "tags": null
          },
          "name": "stderr",
          "output_type": "stream",
          "text": [
            "       3/50         0G      1.283      3.659      1.237        283        640: 100%|██████████| 11/11 [02:36<00:00, 14.27s/it]\n",
            "                 Class     Images  Instances      Box(P          R      mAP50  mAP50-95): 100%|██████████| 2/2 [00:23<00:00, 11.88s/it]"
          ]
        },
        {
          "metadata": {
            "tags": null
          },
          "name": "stdout",
          "output_type": "stream",
          "text": [
            "                   all         60       1020     0.0328      0.183      0.157       0.13\n"
          ]
        },
        {
          "metadata": {
            "tags": null
          },
          "name": "stderr",
          "output_type": "stream",
          "text": [
            "\n"
          ]
        },
        {
          "metadata": {
            "tags": null
          },
          "name": "stdout",
          "output_type": "stream",
          "text": [
            "\n",
            "      Epoch    GPU_mem   box_loss   cls_loss   dfl_loss  Instances       Size\n"
          ]
        },
        {
          "output_type": "stream",
          "name": "stderr",
          "text": [
            "       4/50         0G      1.145      2.951      1.165        277        640: 100%|██████████| 11/11 [02:40<00:00, 14.62s/it]\n",
            "                 Class     Images  Instances      Box(P          R      mAP50  mAP50-95): 100%|██████████| 2/2 [00:20<00:00, 10.09s/it]"
          ]
        },
        {
          "output_type": "stream",
          "name": "stdout",
          "text": [
            "                   all         60       1020     0.0945      0.447      0.366      0.285\n"
          ]
        },
        {
          "output_type": "stream",
          "name": "stderr",
          "text": [
            "\n"
          ]
        },
        {
          "output_type": "stream",
          "name": "stdout",
          "text": [
            "\n",
            "      Epoch    GPU_mem   box_loss   cls_loss   dfl_loss  Instances       Size\n"
          ]
        },
        {
          "output_type": "stream",
          "name": "stderr",
          "text": [
            "       5/50         0G      1.078       2.35      1.094        237        640: 100%|██████████| 11/11 [02:39<00:00, 14.48s/it]\n",
            "                 Class     Images  Instances      Box(P          R      mAP50  mAP50-95): 100%|██████████| 2/2 [00:19<00:00,  9.58s/it]"
          ]
        },
        {
          "output_type": "stream",
          "name": "stdout",
          "text": [
            "                   all         60       1020      0.715      0.659      0.601      0.448\n"
          ]
        },
        {
          "output_type": "stream",
          "name": "stderr",
          "text": [
            "\n"
          ]
        },
        {
          "output_type": "stream",
          "name": "stdout",
          "text": [
            "\n",
            "      Epoch    GPU_mem   box_loss   cls_loss   dfl_loss  Instances       Size\n"
          ]
        },
        {
          "output_type": "stream",
          "name": "stderr",
          "text": [
            "       6/50         0G     0.9876      1.905      1.041        325        640: 100%|██████████| 11/11 [02:39<00:00, 14.51s/it]\n",
            "                 Class     Images  Instances      Box(P          R      mAP50  mAP50-95): 100%|██████████| 2/2 [00:19<00:00,  9.76s/it]"
          ]
        },
        {
          "output_type": "stream",
          "name": "stdout",
          "text": [
            "                   all         60       1020       0.89      0.432      0.762      0.603\n"
          ]
        },
        {
          "output_type": "stream",
          "name": "stderr",
          "text": [
            "\n"
          ]
        },
        {
          "output_type": "stream",
          "name": "stdout",
          "text": [
            "\n",
            "      Epoch    GPU_mem   box_loss   cls_loss   dfl_loss  Instances       Size\n"
          ]
        },
        {
          "output_type": "stream",
          "name": "stderr",
          "text": [
            "       7/50         0G     0.8987      1.448      1.015        253        640: 100%|██████████| 11/11 [02:41<00:00, 14.73s/it]\n",
            "                 Class     Images  Instances      Box(P          R      mAP50  mAP50-95): 100%|██████████| 2/2 [00:20<00:00, 10.04s/it]"
          ]
        },
        {
          "output_type": "stream",
          "name": "stdout",
          "text": [
            "                   all         60       1020      0.872      0.501      0.868      0.675\n"
          ]
        },
        {
          "output_type": "stream",
          "name": "stderr",
          "text": [
            "\n"
          ]
        },
        {
          "output_type": "stream",
          "name": "stdout",
          "text": [
            "\n",
            "      Epoch    GPU_mem   box_loss   cls_loss   dfl_loss  Instances       Size\n"
          ]
        },
        {
          "output_type": "stream",
          "name": "stderr",
          "text": [
            "       8/50         0G     0.8726      1.199      1.005        257        640: 100%|██████████| 11/11 [02:38<00:00, 14.37s/it]\n",
            "                 Class     Images  Instances      Box(P          R      mAP50  mAP50-95): 100%|██████████| 2/2 [00:20<00:00, 10.44s/it]"
          ]
        },
        {
          "output_type": "stream",
          "name": "stdout",
          "text": [
            "                   all         60       1020      0.949      0.722      0.939      0.726\n"
          ]
        },
        {
          "output_type": "stream",
          "name": "stderr",
          "text": [
            "\n"
          ]
        },
        {
          "output_type": "stream",
          "name": "stdout",
          "text": [
            "\n",
            "      Epoch    GPU_mem   box_loss   cls_loss   dfl_loss  Instances       Size\n"
          ]
        },
        {
          "output_type": "stream",
          "name": "stderr",
          "text": [
            "       9/50         0G     0.7943      1.052     0.9787        324        640: 100%|██████████| 11/11 [02:37<00:00, 14.31s/it]\n",
            "                 Class     Images  Instances      Box(P          R      mAP50  mAP50-95): 100%|██████████| 2/2 [00:20<00:00, 10.47s/it]"
          ]
        },
        {
          "output_type": "stream",
          "name": "stdout",
          "text": [
            "                   all         60       1020      0.929       0.87      0.961      0.768\n"
          ]
        },
        {
          "output_type": "stream",
          "name": "stderr",
          "text": [
            "\n"
          ]
        },
        {
          "output_type": "stream",
          "name": "stdout",
          "text": [
            "\n",
            "      Epoch    GPU_mem   box_loss   cls_loss   dfl_loss  Instances       Size\n"
          ]
        },
        {
          "output_type": "stream",
          "name": "stderr",
          "text": [
            "      10/50         0G     0.7388     0.9183       0.97        277        640: 100%|██████████| 11/11 [02:40<00:00, 14.57s/it]\n",
            "                 Class     Images  Instances      Box(P          R      mAP50  mAP50-95): 100%|██████████| 2/2 [00:19<00:00,  9.81s/it]"
          ]
        },
        {
          "output_type": "stream",
          "name": "stdout",
          "text": [
            "                   all         60       1020      0.938      0.989      0.991       0.78\n"
          ]
        },
        {
          "output_type": "stream",
          "name": "stderr",
          "text": [
            "\n"
          ]
        },
        {
          "output_type": "stream",
          "name": "stdout",
          "text": [
            "\n",
            "      Epoch    GPU_mem   box_loss   cls_loss   dfl_loss  Instances       Size\n"
          ]
        },
        {
          "output_type": "stream",
          "name": "stderr",
          "text": [
            "      11/50         0G     0.7315     0.8509     0.9644        288        640: 100%|██████████| 11/11 [02:38<00:00, 14.40s/it]\n",
            "                 Class     Images  Instances      Box(P          R      mAP50  mAP50-95): 100%|██████████| 2/2 [00:20<00:00, 10.21s/it]"
          ]
        },
        {
          "output_type": "stream",
          "name": "stdout",
          "text": [
            "                   all         60       1020      0.976      0.988      0.994      0.801\n"
          ]
        },
        {
          "output_type": "stream",
          "name": "stderr",
          "text": [
            "\n"
          ]
        },
        {
          "output_type": "stream",
          "name": "stdout",
          "text": [
            "\n",
            "      Epoch    GPU_mem   box_loss   cls_loss   dfl_loss  Instances       Size\n"
          ]
        },
        {
          "output_type": "stream",
          "name": "stderr",
          "text": [
            "      12/50         0G     0.7115     0.8343     0.9484        335        640: 100%|██████████| 11/11 [02:40<00:00, 14.61s/it]\n",
            "                 Class     Images  Instances      Box(P          R      mAP50  mAP50-95): 100%|██████████| 2/2 [00:20<00:00, 10.11s/it]"
          ]
        },
        {
          "output_type": "stream",
          "name": "stdout",
          "text": [
            "                   all         60       1020      0.954      0.981      0.993      0.825\n"
          ]
        },
        {
          "output_type": "stream",
          "name": "stderr",
          "text": [
            "\n"
          ]
        },
        {
          "output_type": "stream",
          "name": "stdout",
          "text": [
            "\n",
            "      Epoch    GPU_mem   box_loss   cls_loss   dfl_loss  Instances       Size\n"
          ]
        },
        {
          "output_type": "stream",
          "name": "stderr",
          "text": [
            "      13/50         0G     0.6719     0.7839     0.9349        344        640: 100%|██████████| 11/11 [02:40<00:00, 14.62s/it]\n",
            "                 Class     Images  Instances      Box(P          R      mAP50  mAP50-95): 100%|██████████| 2/2 [00:20<00:00, 10.19s/it]"
          ]
        },
        {
          "output_type": "stream",
          "name": "stdout",
          "text": [
            "                   all         60       1020      0.968      0.992      0.993      0.852\n"
          ]
        },
        {
          "output_type": "stream",
          "name": "stderr",
          "text": [
            "\n"
          ]
        },
        {
          "output_type": "stream",
          "name": "stdout",
          "text": [
            "\n",
            "      Epoch    GPU_mem   box_loss   cls_loss   dfl_loss  Instances       Size\n"
          ]
        },
        {
          "output_type": "stream",
          "name": "stderr",
          "text": [
            "      14/50         0G     0.6389     0.7472     0.9335        238        640: 100%|██████████| 11/11 [02:37<00:00, 14.31s/it]\n",
            "                 Class     Images  Instances      Box(P          R      mAP50  mAP50-95): 100%|██████████| 2/2 [00:20<00:00, 10.00s/it]"
          ]
        },
        {
          "output_type": "stream",
          "name": "stdout",
          "text": [
            "                   all         60       1020      0.983      0.998      0.995      0.864\n"
          ]
        },
        {
          "output_type": "stream",
          "name": "stderr",
          "text": [
            "\n"
          ]
        },
        {
          "output_type": "stream",
          "name": "stdout",
          "text": [
            "\n",
            "      Epoch    GPU_mem   box_loss   cls_loss   dfl_loss  Instances       Size\n"
          ]
        },
        {
          "output_type": "stream",
          "name": "stderr",
          "text": [
            "      15/50         0G     0.6138     0.7075     0.9247        235        640: 100%|██████████| 11/11 [02:38<00:00, 14.39s/it]\n",
            "                 Class     Images  Instances      Box(P          R      mAP50  mAP50-95): 100%|██████████| 2/2 [00:20<00:00, 10.21s/it]"
          ]
        },
        {
          "output_type": "stream",
          "name": "stdout",
          "text": [
            "                   all         60       1020      0.989      0.998      0.995      0.878\n"
          ]
        },
        {
          "output_type": "stream",
          "name": "stderr",
          "text": [
            "\n"
          ]
        },
        {
          "output_type": "stream",
          "name": "stdout",
          "text": [
            "\n",
            "      Epoch    GPU_mem   box_loss   cls_loss   dfl_loss  Instances       Size\n"
          ]
        },
        {
          "output_type": "stream",
          "name": "stderr",
          "text": [
            "      16/50         0G     0.5819     0.6869     0.9165        292        640: 100%|██████████| 11/11 [02:44<00:00, 14.94s/it]\n",
            "                 Class     Images  Instances      Box(P          R      mAP50  mAP50-95): 100%|██████████| 2/2 [00:19<00:00,  9.67s/it]"
          ]
        },
        {
          "output_type": "stream",
          "name": "stdout",
          "text": [
            "                   all         60       1020       0.99          1      0.995      0.886\n"
          ]
        },
        {
          "output_type": "stream",
          "name": "stderr",
          "text": [
            "\n"
          ]
        },
        {
          "output_type": "stream",
          "name": "stdout",
          "text": [
            "\n",
            "      Epoch    GPU_mem   box_loss   cls_loss   dfl_loss  Instances       Size\n"
          ]
        },
        {
          "output_type": "stream",
          "name": "stderr",
          "text": [
            "      17/50         0G     0.5663     0.6652     0.9131        299        640: 100%|██████████| 11/11 [02:39<00:00, 14.49s/it]\n",
            "                 Class     Images  Instances      Box(P          R      mAP50  mAP50-95): 100%|██████████| 2/2 [00:19<00:00,  9.99s/it]"
          ]
        },
        {
          "output_type": "stream",
          "name": "stdout",
          "text": [
            "                   all         60       1020      0.989      0.999      0.995      0.881\n"
          ]
        },
        {
          "output_type": "stream",
          "name": "stderr",
          "text": [
            "\n"
          ]
        },
        {
          "output_type": "stream",
          "name": "stdout",
          "text": [
            "\n",
            "      Epoch    GPU_mem   box_loss   cls_loss   dfl_loss  Instances       Size\n"
          ]
        },
        {
          "output_type": "stream",
          "name": "stderr",
          "text": [
            "      18/50         0G     0.5644     0.6615     0.9055        265        640: 100%|██████████| 11/11 [02:39<00:00, 14.51s/it]\n",
            "                 Class     Images  Instances      Box(P          R      mAP50  mAP50-95): 100%|██████████| 2/2 [00:19<00:00,  9.55s/it]"
          ]
        },
        {
          "output_type": "stream",
          "name": "stdout",
          "text": [
            "                   all         60       1020      0.983      0.998      0.995      0.891\n"
          ]
        },
        {
          "output_type": "stream",
          "name": "stderr",
          "text": [
            "\n"
          ]
        },
        {
          "output_type": "stream",
          "name": "stdout",
          "text": [
            "\n",
            "      Epoch    GPU_mem   box_loss   cls_loss   dfl_loss  Instances       Size\n"
          ]
        },
        {
          "output_type": "stream",
          "name": "stderr",
          "text": [
            "      19/50         0G     0.5475      0.634     0.9046        290        640: 100%|██████████| 11/11 [02:38<00:00, 14.43s/it]\n",
            "                 Class     Images  Instances      Box(P          R      mAP50  mAP50-95): 100%|██████████| 2/2 [00:19<00:00,  9.74s/it]"
          ]
        },
        {
          "output_type": "stream",
          "name": "stdout",
          "text": [
            "                   all         60       1020      0.991      0.999      0.995      0.902\n"
          ]
        },
        {
          "output_type": "stream",
          "name": "stderr",
          "text": [
            "\n"
          ]
        },
        {
          "output_type": "stream",
          "name": "stdout",
          "text": [
            "\n",
            "      Epoch    GPU_mem   box_loss   cls_loss   dfl_loss  Instances       Size\n"
          ]
        },
        {
          "output_type": "stream",
          "name": "stderr",
          "text": [
            "      20/50         0G     0.5367     0.6137     0.8994        280        640: 100%|██████████| 11/11 [02:39<00:00, 14.47s/it]\n",
            "                 Class     Images  Instances      Box(P          R      mAP50  mAP50-95): 100%|██████████| 2/2 [00:19<00:00,  9.62s/it]"
          ]
        },
        {
          "output_type": "stream",
          "name": "stdout",
          "text": [
            "                   all         60       1020      0.979      0.997      0.995      0.876\n"
          ]
        },
        {
          "output_type": "stream",
          "name": "stderr",
          "text": [
            "\n"
          ]
        },
        {
          "output_type": "stream",
          "name": "stdout",
          "text": [
            "\n",
            "      Epoch    GPU_mem   box_loss   cls_loss   dfl_loss  Instances       Size\n"
          ]
        },
        {
          "output_type": "stream",
          "name": "stderr",
          "text": [
            "      21/50         0G     0.5346       0.61     0.9044        418        640: 100%|██████████| 11/11 [02:38<00:00, 14.42s/it]\n",
            "                 Class     Images  Instances      Box(P          R      mAP50  mAP50-95): 100%|██████████| 2/2 [00:19<00:00,  9.90s/it]"
          ]
        },
        {
          "output_type": "stream",
          "name": "stdout",
          "text": [
            "                   all         60       1020      0.989      0.997      0.995      0.901\n"
          ]
        },
        {
          "output_type": "stream",
          "name": "stderr",
          "text": [
            "\n"
          ]
        },
        {
          "output_type": "stream",
          "name": "stdout",
          "text": [
            "\n",
            "      Epoch    GPU_mem   box_loss   cls_loss   dfl_loss  Instances       Size\n"
          ]
        },
        {
          "output_type": "stream",
          "name": "stderr",
          "text": [
            "      22/50         0G     0.5066     0.5879     0.8924        297        640: 100%|██████████| 11/11 [02:39<00:00, 14.51s/it]\n",
            "                 Class     Images  Instances      Box(P          R      mAP50  mAP50-95): 100%|██████████| 2/2 [00:20<00:00, 10.04s/it]"
          ]
        },
        {
          "output_type": "stream",
          "name": "stdout",
          "text": [
            "                   all         60       1020      0.985      0.997      0.995      0.883\n"
          ]
        },
        {
          "output_type": "stream",
          "name": "stderr",
          "text": [
            "\n"
          ]
        },
        {
          "output_type": "stream",
          "name": "stdout",
          "text": [
            "\n",
            "      Epoch    GPU_mem   box_loss   cls_loss   dfl_loss  Instances       Size\n"
          ]
        },
        {
          "output_type": "stream",
          "name": "stderr",
          "text": [
            "      23/50         0G     0.5025     0.5865      0.894        343        640: 100%|██████████| 11/11 [02:38<00:00, 14.37s/it]\n",
            "                 Class     Images  Instances      Box(P          R      mAP50  mAP50-95): 100%|██████████| 2/2 [00:19<00:00,  9.81s/it]"
          ]
        },
        {
          "output_type": "stream",
          "name": "stdout",
          "text": [
            "                   all         60       1020      0.993      0.998      0.995      0.912\n"
          ]
        },
        {
          "output_type": "stream",
          "name": "stderr",
          "text": [
            "\n"
          ]
        },
        {
          "output_type": "stream",
          "name": "stdout",
          "text": [
            "\n",
            "      Epoch    GPU_mem   box_loss   cls_loss   dfl_loss  Instances       Size\n"
          ]
        },
        {
          "output_type": "stream",
          "name": "stderr",
          "text": [
            "      24/50         0G     0.5253     0.5796     0.8911        250        640: 100%|██████████| 11/11 [02:40<00:00, 14.63s/it]\n",
            "                 Class     Images  Instances      Box(P          R      mAP50  mAP50-95): 100%|██████████| 2/2 [00:19<00:00,  9.90s/it]"
          ]
        },
        {
          "output_type": "stream",
          "name": "stdout",
          "text": [
            "                   all         60       1020      0.993      0.997      0.995       0.91\n"
          ]
        },
        {
          "output_type": "stream",
          "name": "stderr",
          "text": [
            "\n"
          ]
        },
        {
          "output_type": "stream",
          "name": "stdout",
          "text": [
            "\n",
            "      Epoch    GPU_mem   box_loss   cls_loss   dfl_loss  Instances       Size\n"
          ]
        },
        {
          "output_type": "stream",
          "name": "stderr",
          "text": [
            "      25/50         0G     0.4954     0.5698     0.8967        218        640: 100%|██████████| 11/11 [02:38<00:00, 14.39s/it]\n",
            "                 Class     Images  Instances      Box(P          R      mAP50  mAP50-95): 100%|██████████| 2/2 [00:20<00:00, 10.16s/it]"
          ]
        },
        {
          "output_type": "stream",
          "name": "stdout",
          "text": [
            "                   all         60       1020      0.995          1      0.995      0.917\n"
          ]
        },
        {
          "output_type": "stream",
          "name": "stderr",
          "text": [
            "\n"
          ]
        },
        {
          "output_type": "stream",
          "name": "stdout",
          "text": [
            "\n",
            "      Epoch    GPU_mem   box_loss   cls_loss   dfl_loss  Instances       Size\n"
          ]
        },
        {
          "output_type": "stream",
          "name": "stderr",
          "text": [
            "      26/50         0G     0.4872     0.5587     0.8896        335        640: 100%|██████████| 11/11 [02:42<00:00, 14.77s/it]\n",
            "                 Class     Images  Instances      Box(P          R      mAP50  mAP50-95): 100%|██████████| 2/2 [00:19<00:00,  9.58s/it]"
          ]
        },
        {
          "output_type": "stream",
          "name": "stdout",
          "text": [
            "                   all         60       1020      0.994      0.998      0.995      0.914\n"
          ]
        },
        {
          "output_type": "stream",
          "name": "stderr",
          "text": [
            "\n"
          ]
        },
        {
          "output_type": "stream",
          "name": "stdout",
          "text": [
            "\n",
            "      Epoch    GPU_mem   box_loss   cls_loss   dfl_loss  Instances       Size\n"
          ]
        },
        {
          "output_type": "stream",
          "name": "stderr",
          "text": [
            "      27/50         0G     0.4783     0.5522     0.8885        234        640: 100%|██████████| 11/11 [02:37<00:00, 14.31s/it]\n",
            "                 Class     Images  Instances      Box(P          R      mAP50  mAP50-95): 100%|██████████| 2/2 [00:20<00:00, 10.18s/it]"
          ]
        },
        {
          "output_type": "stream",
          "name": "stdout",
          "text": [
            "                   all         60       1020      0.992          1      0.995      0.913\n"
          ]
        },
        {
          "output_type": "stream",
          "name": "stderr",
          "text": [
            "\n"
          ]
        },
        {
          "output_type": "stream",
          "name": "stdout",
          "text": [
            "\n",
            "      Epoch    GPU_mem   box_loss   cls_loss   dfl_loss  Instances       Size\n"
          ]
        },
        {
          "output_type": "stream",
          "name": "stderr",
          "text": [
            "      28/50         0G     0.4852     0.5576     0.8849        221        640: 100%|██████████| 11/11 [02:39<00:00, 14.48s/it]\n",
            "                 Class     Images  Instances      Box(P          R      mAP50  mAP50-95): 100%|██████████| 2/2 [00:18<00:00,  9.46s/it]"
          ]
        },
        {
          "output_type": "stream",
          "name": "stdout",
          "text": [
            "                   all         60       1020      0.991      0.998      0.994      0.901\n"
          ]
        },
        {
          "output_type": "stream",
          "name": "stderr",
          "text": [
            "\n"
          ]
        },
        {
          "output_type": "stream",
          "name": "stdout",
          "text": [
            "\n",
            "      Epoch    GPU_mem   box_loss   cls_loss   dfl_loss  Instances       Size\n"
          ]
        },
        {
          "output_type": "stream",
          "name": "stderr",
          "text": [
            "      29/50         0G     0.4802     0.5564     0.8851        238        640: 100%|██████████| 11/11 [02:37<00:00, 14.30s/it]\n",
            "                 Class     Images  Instances      Box(P          R      mAP50  mAP50-95): 100%|██████████| 2/2 [00:19<00:00,  9.80s/it]"
          ]
        },
        {
          "output_type": "stream",
          "name": "stdout",
          "text": [
            "                   all         60       1020      0.993          1      0.995      0.931\n"
          ]
        },
        {
          "output_type": "stream",
          "name": "stderr",
          "text": [
            "\n"
          ]
        },
        {
          "output_type": "stream",
          "name": "stdout",
          "text": [
            "\n",
            "      Epoch    GPU_mem   box_loss   cls_loss   dfl_loss  Instances       Size\n"
          ]
        },
        {
          "output_type": "stream",
          "name": "stderr",
          "text": [
            "      30/50         0G     0.5035     0.5508     0.8801        232        640: 100%|██████████| 11/11 [02:37<00:00, 14.29s/it]\n",
            "                 Class     Images  Instances      Box(P          R      mAP50  mAP50-95): 100%|██████████| 2/2 [00:19<00:00,  9.93s/it]"
          ]
        },
        {
          "output_type": "stream",
          "name": "stdout",
          "text": [
            "                   all         60       1020      0.993          1      0.995      0.922\n"
          ]
        },
        {
          "output_type": "stream",
          "name": "stderr",
          "text": [
            "\n"
          ]
        },
        {
          "output_type": "stream",
          "name": "stdout",
          "text": [
            "\n",
            "      Epoch    GPU_mem   box_loss   cls_loss   dfl_loss  Instances       Size\n"
          ]
        },
        {
          "output_type": "stream",
          "name": "stderr",
          "text": [
            "      31/50         0G      0.501     0.5477      0.879        342        640: 100%|██████████| 11/11 [02:38<00:00, 14.43s/it]\n",
            "                 Class     Images  Instances      Box(P          R      mAP50  mAP50-95): 100%|██████████| 2/2 [00:20<00:00, 10.02s/it]"
          ]
        },
        {
          "output_type": "stream",
          "name": "stdout",
          "text": [
            "                   all         60       1020      0.994      0.999      0.995      0.893\n"
          ]
        },
        {
          "output_type": "stream",
          "name": "stderr",
          "text": [
            "\n"
          ]
        },
        {
          "output_type": "stream",
          "name": "stdout",
          "text": [
            "\n",
            "      Epoch    GPU_mem   box_loss   cls_loss   dfl_loss  Instances       Size\n"
          ]
        },
        {
          "output_type": "stream",
          "name": "stderr",
          "text": [
            "      32/50         0G     0.4842       0.53     0.8803        289        640: 100%|██████████| 11/11 [02:38<00:00, 14.41s/it]\n",
            "                 Class     Images  Instances      Box(P          R      mAP50  mAP50-95): 100%|██████████| 2/2 [00:19<00:00,  9.87s/it]"
          ]
        },
        {
          "output_type": "stream",
          "name": "stdout",
          "text": [
            "                   all         60       1020      0.994          1      0.995      0.917\n"
          ]
        },
        {
          "output_type": "stream",
          "name": "stderr",
          "text": [
            "\n"
          ]
        },
        {
          "output_type": "stream",
          "name": "stdout",
          "text": [
            "\n",
            "      Epoch    GPU_mem   box_loss   cls_loss   dfl_loss  Instances       Size\n"
          ]
        },
        {
          "output_type": "stream",
          "name": "stderr",
          "text": [
            "      33/50         0G     0.4862     0.5333      0.884        344        640: 100%|██████████| 11/11 [02:38<00:00, 14.37s/it]\n",
            "                 Class     Images  Instances      Box(P          R      mAP50  mAP50-95): 100%|██████████| 2/2 [00:20<00:00, 10.03s/it]"
          ]
        },
        {
          "output_type": "stream",
          "name": "stdout",
          "text": [
            "                   all         60       1020      0.993          1      0.995      0.909\n"
          ]
        },
        {
          "output_type": "stream",
          "name": "stderr",
          "text": [
            "\n"
          ]
        },
        {
          "output_type": "stream",
          "name": "stdout",
          "text": [
            "\n",
            "      Epoch    GPU_mem   box_loss   cls_loss   dfl_loss  Instances       Size\n"
          ]
        },
        {
          "output_type": "stream",
          "name": "stderr",
          "text": [
            "      34/50         0G     0.4613     0.5223     0.8817        321        640: 100%|██████████| 11/11 [02:41<00:00, 14.72s/it]\n",
            "                 Class     Images  Instances      Box(P          R      mAP50  mAP50-95): 100%|██████████| 2/2 [00:20<00:00, 10.05s/it]"
          ]
        },
        {
          "output_type": "stream",
          "name": "stdout",
          "text": [
            "                   all         60       1020      0.994      0.999      0.995      0.924\n"
          ]
        },
        {
          "output_type": "stream",
          "name": "stderr",
          "text": [
            "\n"
          ]
        },
        {
          "output_type": "stream",
          "name": "stdout",
          "text": [
            "\n",
            "      Epoch    GPU_mem   box_loss   cls_loss   dfl_loss  Instances       Size\n"
          ]
        },
        {
          "output_type": "stream",
          "name": "stderr",
          "text": [
            "      35/50         0G     0.4479     0.5205     0.8738        255        640: 100%|██████████| 11/11 [02:43<00:00, 14.86s/it]\n",
            "                 Class     Images  Instances      Box(P          R      mAP50  mAP50-95): 100%|██████████| 2/2 [00:19<00:00,  9.69s/it]"
          ]
        },
        {
          "output_type": "stream",
          "name": "stdout",
          "text": [
            "                   all         60       1020      0.996          1      0.995      0.931\n"
          ]
        },
        {
          "output_type": "stream",
          "name": "stderr",
          "text": [
            "\n"
          ]
        },
        {
          "output_type": "stream",
          "name": "stdout",
          "text": [
            "\n",
            "      Epoch    GPU_mem   box_loss   cls_loss   dfl_loss  Instances       Size\n"
          ]
        },
        {
          "output_type": "stream",
          "name": "stderr",
          "text": [
            "      36/50         0G     0.4378     0.5108     0.8776        320        640: 100%|██████████| 11/11 [02:41<00:00, 14.64s/it]\n",
            "                 Class     Images  Instances      Box(P          R      mAP50  mAP50-95): 100%|██████████| 2/2 [00:18<00:00,  9.45s/it]"
          ]
        },
        {
          "output_type": "stream",
          "name": "stdout",
          "text": [
            "                   all         60       1020      0.996          1      0.995      0.933\n"
          ]
        },
        {
          "output_type": "stream",
          "name": "stderr",
          "text": [
            "\n"
          ]
        },
        {
          "output_type": "stream",
          "name": "stdout",
          "text": [
            "\n",
            "      Epoch    GPU_mem   box_loss   cls_loss   dfl_loss  Instances       Size\n"
          ]
        },
        {
          "output_type": "stream",
          "name": "stderr",
          "text": [
            "      37/50         0G     0.4441     0.5183     0.8727        315        640: 100%|██████████| 11/11 [02:39<00:00, 14.50s/it]\n",
            "                 Class     Images  Instances      Box(P          R      mAP50  mAP50-95): 100%|██████████| 2/2 [00:19<00:00,  9.87s/it]"
          ]
        },
        {
          "output_type": "stream",
          "name": "stdout",
          "text": [
            "                   all         60       1020      0.995          1      0.995       0.93\n"
          ]
        },
        {
          "output_type": "stream",
          "name": "stderr",
          "text": [
            "\n"
          ]
        },
        {
          "output_type": "stream",
          "name": "stdout",
          "text": [
            "\n",
            "      Epoch    GPU_mem   box_loss   cls_loss   dfl_loss  Instances       Size\n"
          ]
        },
        {
          "output_type": "stream",
          "name": "stderr",
          "text": [
            "      38/50         0G     0.4421     0.5173     0.8757        296        640: 100%|██████████| 11/11 [02:39<00:00, 14.52s/it]\n",
            "                 Class     Images  Instances      Box(P          R      mAP50  mAP50-95): 100%|██████████| 2/2 [00:18<00:00,  9.49s/it]"
          ]
        },
        {
          "output_type": "stream",
          "name": "stdout",
          "text": [
            "                   all         60       1020      0.995          1      0.995      0.935\n"
          ]
        },
        {
          "output_type": "stream",
          "name": "stderr",
          "text": [
            "\n"
          ]
        },
        {
          "output_type": "stream",
          "name": "stdout",
          "text": [
            "\n",
            "      Epoch    GPU_mem   box_loss   cls_loss   dfl_loss  Instances       Size\n"
          ]
        },
        {
          "output_type": "stream",
          "name": "stderr",
          "text": [
            "      39/50         0G     0.4333     0.5079     0.8708        310        640: 100%|██████████| 11/11 [02:39<00:00, 14.52s/it]\n",
            "                 Class     Images  Instances      Box(P          R      mAP50  mAP50-95): 100%|██████████| 2/2 [00:19<00:00,  9.90s/it]"
          ]
        },
        {
          "output_type": "stream",
          "name": "stdout",
          "text": [
            "                   all         60       1020      0.995          1      0.995      0.936\n"
          ]
        },
        {
          "output_type": "stream",
          "name": "stderr",
          "text": [
            "\n"
          ]
        },
        {
          "output_type": "stream",
          "name": "stdout",
          "text": [
            "\n",
            "      Epoch    GPU_mem   box_loss   cls_loss   dfl_loss  Instances       Size\n"
          ]
        },
        {
          "output_type": "stream",
          "name": "stderr",
          "text": [
            "      40/50         0G     0.4217     0.5062     0.8653        346        640: 100%|██████████| 11/11 [02:38<00:00, 14.39s/it]\n",
            "                 Class     Images  Instances      Box(P          R      mAP50  mAP50-95): 100%|██████████| 2/2 [00:19<00:00,  9.54s/it]"
          ]
        },
        {
          "output_type": "stream",
          "name": "stdout",
          "text": [
            "                   all         60       1020      0.995          1      0.995      0.941\n"
          ]
        },
        {
          "output_type": "stream",
          "name": "stderr",
          "text": [
            "\n"
          ]
        },
        {
          "output_type": "stream",
          "name": "stdout",
          "text": [
            "Closing dataloader mosaic\n",
            "\u001b[34m\u001b[1malbumentations: \u001b[0mBlur(p=0.01, blur_limit=(3, 7)), MedianBlur(p=0.01, blur_limit=(3, 7)), ToGray(p=0.01, num_output_channels=3, method='weighted_average'), CLAHE(p=0.01, clip_limit=(1.0, 4.0), tile_grid_size=(8, 8))\n",
            "\n",
            "      Epoch    GPU_mem   box_loss   cls_loss   dfl_loss  Instances       Size\n"
          ]
        },
        {
          "output_type": "stream",
          "name": "stderr",
          "text": [
            "      41/50         0G     0.4317     0.5535     0.8681        153        640: 100%|██████████| 11/11 [02:28<00:00, 13.53s/it]\n",
            "                 Class     Images  Instances      Box(P          R      mAP50  mAP50-95): 100%|██████████| 2/2 [00:20<00:00, 10.28s/it]"
          ]
        },
        {
          "output_type": "stream",
          "name": "stdout",
          "text": [
            "                   all         60       1020      0.992          1      0.995      0.933\n"
          ]
        },
        {
          "output_type": "stream",
          "name": "stderr",
          "text": [
            "\n"
          ]
        },
        {
          "output_type": "stream",
          "name": "stdout",
          "text": [
            "\n",
            "      Epoch    GPU_mem   box_loss   cls_loss   dfl_loss  Instances       Size\n"
          ]
        },
        {
          "output_type": "stream",
          "name": "stderr",
          "text": [
            "      42/50         0G     0.4217       0.52      0.859        152        640: 100%|██████████| 11/11 [02:33<00:00, 13.91s/it]\n",
            "                 Class     Images  Instances      Box(P          R      mAP50  mAP50-95): 100%|██████████| 2/2 [00:19<00:00,  9.55s/it]"
          ]
        },
        {
          "output_type": "stream",
          "name": "stdout",
          "text": [
            "                   all         60       1020      0.989          1      0.995      0.933\n"
          ]
        },
        {
          "output_type": "stream",
          "name": "stderr",
          "text": [
            "\n"
          ]
        },
        {
          "output_type": "stream",
          "name": "stdout",
          "text": [
            "\n",
            "      Epoch    GPU_mem   box_loss   cls_loss   dfl_loss  Instances       Size\n"
          ]
        },
        {
          "output_type": "stream",
          "name": "stderr",
          "text": [
            "      43/50         0G     0.3793      0.485     0.8568        149        640: 100%|██████████| 11/11 [02:28<00:00, 13.47s/it]\n",
            "                 Class     Images  Instances      Box(P          R      mAP50  mAP50-95): 100%|██████████| 2/2 [00:20<00:00, 10.36s/it]"
          ]
        },
        {
          "output_type": "stream",
          "name": "stdout",
          "text": [
            "                   all         60       1020      0.992      0.999      0.995      0.938\n"
          ]
        },
        {
          "output_type": "stream",
          "name": "stderr",
          "text": [
            "\n"
          ]
        },
        {
          "output_type": "stream",
          "name": "stdout",
          "text": [
            "\n",
            "      Epoch    GPU_mem   box_loss   cls_loss   dfl_loss  Instances       Size\n"
          ]
        },
        {
          "output_type": "stream",
          "name": "stderr",
          "text": [
            "      44/50         0G     0.3839     0.4868     0.8645        149        640: 100%|██████████| 11/11 [02:28<00:00, 13.46s/it]\n",
            "                 Class     Images  Instances      Box(P          R      mAP50  mAP50-95): 100%|██████████| 2/2 [00:20<00:00, 10.33s/it]"
          ]
        },
        {
          "output_type": "stream",
          "name": "stdout",
          "text": [
            "                   all         60       1020      0.994          1      0.995      0.933\n"
          ]
        },
        {
          "output_type": "stream",
          "name": "stderr",
          "text": [
            "\n"
          ]
        },
        {
          "output_type": "stream",
          "name": "stdout",
          "text": [
            "\n",
            "      Epoch    GPU_mem   box_loss   cls_loss   dfl_loss  Instances       Size\n"
          ]
        },
        {
          "output_type": "stream",
          "name": "stderr",
          "text": [
            "      45/50         0G     0.3874     0.4847       0.85        151        640: 100%|██████████| 11/11 [02:31<00:00, 13.81s/it]\n",
            "                 Class     Images  Instances      Box(P          R      mAP50  mAP50-95): 100%|██████████| 2/2 [00:19<00:00,  9.98s/it]"
          ]
        },
        {
          "output_type": "stream",
          "name": "stdout",
          "text": [
            "                   all         60       1020      0.994          1      0.995      0.936\n"
          ]
        },
        {
          "output_type": "stream",
          "name": "stderr",
          "text": [
            "\n"
          ]
        },
        {
          "output_type": "stream",
          "name": "stdout",
          "text": [
            "\n",
            "      Epoch    GPU_mem   box_loss   cls_loss   dfl_loss  Instances       Size\n"
          ]
        },
        {
          "output_type": "stream",
          "name": "stderr",
          "text": [
            "      46/50         0G     0.3591     0.4562     0.8478        151        640: 100%|██████████| 11/11 [02:26<00:00, 13.36s/it]\n",
            "                 Class     Images  Instances      Box(P          R      mAP50  mAP50-95): 100%|██████████| 2/2 [00:21<00:00, 10.76s/it]"
          ]
        },
        {
          "output_type": "stream",
          "name": "stdout",
          "text": [
            "                   all         60       1020      0.993      0.998      0.995      0.938\n"
          ]
        },
        {
          "output_type": "stream",
          "name": "stderr",
          "text": [
            "\n"
          ]
        },
        {
          "output_type": "stream",
          "name": "stdout",
          "text": [
            "\n",
            "      Epoch    GPU_mem   box_loss   cls_loss   dfl_loss  Instances       Size\n"
          ]
        },
        {
          "output_type": "stream",
          "name": "stderr",
          "text": [
            "      47/50         0G     0.3504      0.451     0.8534        153        640: 100%|██████████| 11/11 [02:32<00:00, 13.84s/it]\n",
            "                 Class     Images  Instances      Box(P          R      mAP50  mAP50-95): 100%|██████████| 2/2 [00:20<00:00, 10.08s/it]"
          ]
        },
        {
          "output_type": "stream",
          "name": "stdout",
          "text": [
            "                   all         60       1020      0.995      0.998      0.995      0.935\n"
          ]
        },
        {
          "output_type": "stream",
          "name": "stderr",
          "text": [
            "\n"
          ]
        },
        {
          "output_type": "stream",
          "name": "stdout",
          "text": [
            "\n",
            "      Epoch    GPU_mem   box_loss   cls_loss   dfl_loss  Instances       Size\n"
          ]
        },
        {
          "output_type": "stream",
          "name": "stderr",
          "text": [
            "      48/50         0G     0.3645     0.4515     0.8409        153        640: 100%|██████████| 11/11 [02:28<00:00, 13.46s/it]\n",
            "                 Class     Images  Instances      Box(P          R      mAP50  mAP50-95): 100%|██████████| 2/2 [00:20<00:00, 10.01s/it]"
          ]
        },
        {
          "output_type": "stream",
          "name": "stdout",
          "text": [
            "                   all         60       1020      0.995          1      0.995      0.936\n"
          ]
        },
        {
          "output_type": "stream",
          "name": "stderr",
          "text": [
            "\n"
          ]
        },
        {
          "output_type": "stream",
          "name": "stdout",
          "text": [
            "\n",
            "      Epoch    GPU_mem   box_loss   cls_loss   dfl_loss  Instances       Size\n"
          ]
        },
        {
          "output_type": "stream",
          "name": "stderr",
          "text": [
            "      49/50         0G     0.3495     0.4451     0.8527        149        640: 100%|██████████| 11/11 [02:25<00:00, 13.23s/it]\n",
            "                 Class     Images  Instances      Box(P          R      mAP50  mAP50-95): 100%|██████████| 2/2 [00:19<00:00,  9.73s/it]"
          ]
        },
        {
          "output_type": "stream",
          "name": "stdout",
          "text": [
            "                   all         60       1020      0.996          1      0.995      0.937\n"
          ]
        },
        {
          "output_type": "stream",
          "name": "stderr",
          "text": [
            "\n"
          ]
        },
        {
          "output_type": "stream",
          "name": "stdout",
          "text": [
            "\n",
            "      Epoch    GPU_mem   box_loss   cls_loss   dfl_loss  Instances       Size\n"
          ]
        },
        {
          "output_type": "stream",
          "name": "stderr",
          "text": [
            "      50/50         0G     0.3385     0.4421     0.8466        149        640: 100%|██████████| 11/11 [02:30<00:00, 13.72s/it]\n",
            "                 Class     Images  Instances      Box(P          R      mAP50  mAP50-95): 100%|██████████| 2/2 [00:19<00:00,  9.83s/it]"
          ]
        },
        {
          "output_type": "stream",
          "name": "stdout",
          "text": [
            "                   all         60       1020      0.996          1      0.995       0.94\n"
          ]
        },
        {
          "output_type": "stream",
          "name": "stderr",
          "text": [
            "\n"
          ]
        },
        {
          "output_type": "stream",
          "name": "stdout",
          "text": [
            "\n",
            "50 epochs completed in 2.477 hours.\n",
            "Optimizer stripped from runs/detect/train/weights/last.pt, 6.3MB\n",
            "Optimizer stripped from runs/detect/train/weights/best.pt, 6.3MB\n",
            "\n",
            "Validating runs/detect/train/weights/best.pt...\n",
            "Ultralytics 8.3.89 🚀 Python-3.11.11 torch-2.5.1+cu124 CPU (Intel Xeon 2.20GHz)\n",
            "Model summary (fused): 72 layers, 3,008,963 parameters, 0 gradients, 8.1 GFLOPs\n"
          ]
        },
        {
          "output_type": "stream",
          "name": "stderr",
          "text": [
            "                 Class     Images  Instances      Box(P          R      mAP50  mAP50-95): 100%|██████████| 2/2 [00:17<00:00,  8.88s/it]\n"
          ]
        },
        {
          "output_type": "stream",
          "name": "stdout",
          "text": [
            "                   all         60       1020      0.995          1      0.995      0.941\n",
            "             FirstName         60         60      0.995          1      0.995      0.894\n",
            "              LastName         60         60      0.999          1      0.995      0.912\n",
            "       FirstNameArabic         60         60      0.997          1      0.995      0.862\n",
            "        LastNameArabic         60         60      0.994          1      0.995      0.833\n",
            "             BirthDate         60         60      0.996          1      0.995      0.884\n",
            "            BirthPlace         60         60      0.997          1      0.995      0.855\n",
            "      BirthPlaceArabic         60         60      0.997          1      0.995      0.928\n",
            "        ExpirationDate         60         60      0.994          1      0.995      0.959\n",
            "             CINNumber         60         60      0.994          1      0.995      0.994\n",
            "           MainPicture         60         60      0.993          1      0.995      0.995\n",
            "         SecondPicture         60         60      0.994          1      0.995      0.971\n",
            "               CardBox         60         60      0.994          1      0.995      0.995\n",
            "              CrownBox         60         60      0.993          1      0.995      0.995\n",
            " MoroccanTextSignature         60         60      0.994          1      0.995      0.995\n",
            "      DirectorFullName         60         60      0.993          1      0.995      0.963\n",
            "     DirectorSignature         60         60      0.993          1      0.995      0.995\n",
            "          MoroccanFlag         60         60      0.993          1      0.995      0.968\n",
            "Speed: 3.3ms preprocess, 221.8ms inference, 0.0ms loss, 1.4ms postprocess per image\n",
            "Results saved to \u001b[1mruns/detect/train\u001b[0m\n"
          ]
        }
      ]
    },
    {
      "cell_type": "markdown",
      "source": [
        "# =============================================\n",
        "# 5. Evaluate the Model\n",
        "# ============================================="
      ],
      "metadata": {
        "id": "YIyzSoMk9j0j"
      }
    },
    {
      "cell_type": "code",
      "source": [
        "# Validate the model on the validation set\n",
        "metrics = model.val()  # This will generate metrics like mAP, precision, recall, etc.\n",
        "print(metrics)"
      ],
      "metadata": {
        "id": "LyAXAmvP9jXJ",
        "outputId": "a4a5eef8-f099-433c-cb49-4166a520321a",
        "colab": {
          "base_uri": "https://localhost:8080/"
        }
      },
      "execution_count": 16,
      "outputs": [
        {
          "output_type": "stream",
          "name": "stdout",
          "text": [
            "Ultralytics 8.3.89 🚀 Python-3.11.11 torch-2.5.1+cu124 CPU (Intel Xeon 2.20GHz)\n",
            "Model summary (fused): 72 layers, 3,008,963 parameters, 0 gradients, 8.1 GFLOPs\n"
          ]
        },
        {
          "output_type": "stream",
          "name": "stderr",
          "text": [
            "\u001b[34m\u001b[1mval: \u001b[0mScanning /content/dataset/labels/val.cache... 80 images, 0 backgrounds, 20 corrupt: 100%|██████████| 80/80 [00:00<?, ?it/s]"
          ]
        },
        {
          "output_type": "stream",
          "name": "stdout",
          "text": [
            "\u001b[34m\u001b[1mval: \u001b[0mWARNING ⚠️ /content/dataset/images/val/augmented_id_card_template2_females_64.png: ignoring corrupt image/label: non-normalized or out of bounds coordinates [     1.0327]\n",
            "\u001b[34m\u001b[1mval: \u001b[0mWARNING ⚠️ /content/dataset/images/val/augmented_id_card_template2_females_65.png: ignoring corrupt image/label: non-normalized or out of bounds coordinates [     1.0327]\n",
            "\u001b[34m\u001b[1mval: \u001b[0mWARNING ⚠️ /content/dataset/images/val/augmented_id_card_template2_females_66.png: ignoring corrupt image/label: non-normalized or out of bounds coordinates [     1.0327]\n",
            "\u001b[34m\u001b[1mval: \u001b[0mWARNING ⚠️ /content/dataset/images/val/augmented_id_card_template2_females_67.png: ignoring corrupt image/label: non-normalized or out of bounds coordinates [     1.0327]\n",
            "\u001b[34m\u001b[1mval: \u001b[0mWARNING ⚠️ /content/dataset/images/val/augmented_id_card_template2_females_68.png: ignoring corrupt image/label: non-normalized or out of bounds coordinates [     1.0327]\n",
            "\u001b[34m\u001b[1mval: \u001b[0mWARNING ⚠️ /content/dataset/images/val/augmented_id_card_template2_females_69.png: ignoring corrupt image/label: non-normalized or out of bounds coordinates [     1.0327]\n",
            "\u001b[34m\u001b[1mval: \u001b[0mWARNING ⚠️ /content/dataset/images/val/augmented_id_card_template2_females_70.png: ignoring corrupt image/label: non-normalized or out of bounds coordinates [     1.0327]\n",
            "\u001b[34m\u001b[1mval: \u001b[0mWARNING ⚠️ /content/dataset/images/val/augmented_id_card_template2_females_71.png: ignoring corrupt image/label: non-normalized or out of bounds coordinates [     1.0327]\n",
            "\u001b[34m\u001b[1mval: \u001b[0mWARNING ⚠️ /content/dataset/images/val/augmented_id_card_template2_females_72.png: ignoring corrupt image/label: non-normalized or out of bounds coordinates [     1.0327]\n",
            "\u001b[34m\u001b[1mval: \u001b[0mWARNING ⚠️ /content/dataset/images/val/augmented_id_card_template2_females_73.png: ignoring corrupt image/label: non-normalized or out of bounds coordinates [     1.0327]\n",
            "\u001b[34m\u001b[1mval: \u001b[0mWARNING ⚠️ /content/dataset/images/val/augmented_id_card_template2_females_74.png: ignoring corrupt image/label: non-normalized or out of bounds coordinates [     1.0327]\n",
            "\u001b[34m\u001b[1mval: \u001b[0mWARNING ⚠️ /content/dataset/images/val/augmented_id_card_template2_females_75.png: ignoring corrupt image/label: non-normalized or out of bounds coordinates [     1.0327]\n",
            "\u001b[34m\u001b[1mval: \u001b[0mWARNING ⚠️ /content/dataset/images/val/augmented_id_card_template2_females_76.png: ignoring corrupt image/label: non-normalized or out of bounds coordinates [     1.0327]\n",
            "\u001b[34m\u001b[1mval: \u001b[0mWARNING ⚠️ /content/dataset/images/val/augmented_id_card_template2_females_77.png: ignoring corrupt image/label: non-normalized or out of bounds coordinates [     1.0327]\n",
            "\u001b[34m\u001b[1mval: \u001b[0mWARNING ⚠️ /content/dataset/images/val/augmented_id_card_template2_females_78.png: ignoring corrupt image/label: non-normalized or out of bounds coordinates [     1.0327]\n",
            "\u001b[34m\u001b[1mval: \u001b[0mWARNING ⚠️ /content/dataset/images/val/augmented_id_card_template2_females_79.png: ignoring corrupt image/label: non-normalized or out of bounds coordinates [     1.0327]\n",
            "\u001b[34m\u001b[1mval: \u001b[0mWARNING ⚠️ /content/dataset/images/val/augmented_id_card_template2_females_80.png: ignoring corrupt image/label: non-normalized or out of bounds coordinates [     1.0327]\n",
            "\u001b[34m\u001b[1mval: \u001b[0mWARNING ⚠️ /content/dataset/images/val/augmented_id_card_template2_females_81.png: ignoring corrupt image/label: non-normalized or out of bounds coordinates [     1.0327]\n",
            "\u001b[34m\u001b[1mval: \u001b[0mWARNING ⚠️ /content/dataset/images/val/augmented_id_card_template2_females_98.png: ignoring corrupt image/label: non-normalized or out of bounds coordinates [     1.0327]\n",
            "\u001b[34m\u001b[1mval: \u001b[0mWARNING ⚠️ /content/dataset/images/val/augmented_id_card_template2_females_99.png: ignoring corrupt image/label: non-normalized or out of bounds coordinates [     1.0327]\n"
          ]
        },
        {
          "output_type": "stream",
          "name": "stderr",
          "text": [
            "\n",
            "                 Class     Images  Instances      Box(P          R      mAP50  mAP50-95): 100%|██████████| 4/4 [00:18<00:00,  4.57s/it]\n"
          ]
        },
        {
          "output_type": "stream",
          "name": "stdout",
          "text": [
            "                   all         60       1020      0.995          1      0.995      0.939\n",
            "             FirstName         60         60      0.995          1      0.995      0.895\n",
            "              LastName         60         60      0.999          1      0.995      0.909\n",
            "       FirstNameArabic         60         60      0.996          1      0.995      0.862\n",
            "        LastNameArabic         60         60      0.995          1      0.995      0.833\n",
            "             BirthDate         60         60      0.996          1      0.995      0.877\n",
            "            BirthPlace         60         60      0.994          1      0.995      0.844\n",
            "      BirthPlaceArabic         60         60      0.998          1      0.995      0.934\n",
            "        ExpirationDate         60         60      0.994          1      0.995      0.959\n",
            "             CINNumber         60         60      0.994          1      0.995      0.985\n",
            "           MainPicture         60         60      0.993          1      0.995      0.983\n",
            "         SecondPicture         60         60      0.994          1      0.995      0.973\n",
            "               CardBox         60         60      0.994          1      0.995      0.995\n",
            "              CrownBox         60         60      0.993          1      0.995      0.995\n",
            " MoroccanTextSignature         60         60      0.994          1      0.995      0.995\n",
            "      DirectorFullName         60         60      0.994          1      0.995      0.963\n",
            "     DirectorSignature         60         60      0.993          1      0.995      0.995\n",
            "          MoroccanFlag         60         60      0.993          1      0.995      0.967\n",
            "Speed: 2.5ms preprocess, 192.2ms inference, 0.0ms loss, 1.3ms postprocess per image\n",
            "Results saved to \u001b[1mruns/detect/train2\u001b[0m\n",
            "ultralytics.utils.metrics.DetMetrics object with attributes:\n",
            "\n",
            "ap_class_index: array([ 0,  1,  2,  3,  4,  5,  6,  7,  8,  9, 10, 11, 12, 13, 14, 15, 16])\n",
            "box: ultralytics.utils.metrics.Metric object\n",
            "confusion_matrix: <ultralytics.utils.metrics.ConfusionMatrix object at 0x78ccf076b450>\n",
            "curves: ['Precision-Recall(B)', 'F1-Confidence(B)', 'Precision-Confidence(B)', 'Recall-Confidence(B)']\n",
            "curves_results: [[array([          0,    0.001001,    0.002002,    0.003003,    0.004004,    0.005005,    0.006006,    0.007007,    0.008008,    0.009009,     0.01001,    0.011011,    0.012012,    0.013013,    0.014014,    0.015015,    0.016016,    0.017017,    0.018018,    0.019019,     0.02002,    0.021021,    0.022022,    0.023023,\n",
            "          0.024024,    0.025025,    0.026026,    0.027027,    0.028028,    0.029029,     0.03003,    0.031031,    0.032032,    0.033033,    0.034034,    0.035035,    0.036036,    0.037037,    0.038038,    0.039039,     0.04004,    0.041041,    0.042042,    0.043043,    0.044044,    0.045045,    0.046046,    0.047047,\n",
            "          0.048048,    0.049049,     0.05005,    0.051051,    0.052052,    0.053053,    0.054054,    0.055055,    0.056056,    0.057057,    0.058058,    0.059059,     0.06006,    0.061061,    0.062062,    0.063063,    0.064064,    0.065065,    0.066066,    0.067067,    0.068068,    0.069069,     0.07007,    0.071071,\n",
            "          0.072072,    0.073073,    0.074074,    0.075075,    0.076076,    0.077077,    0.078078,    0.079079,     0.08008,    0.081081,    0.082082,    0.083083,    0.084084,    0.085085,    0.086086,    0.087087,    0.088088,    0.089089,     0.09009,    0.091091,    0.092092,    0.093093,    0.094094,    0.095095,\n",
            "          0.096096,    0.097097,    0.098098,    0.099099,      0.1001,      0.1011,      0.1021,      0.1031,      0.1041,     0.10511,     0.10611,     0.10711,     0.10811,     0.10911,     0.11011,     0.11111,     0.11211,     0.11311,     0.11411,     0.11512,     0.11612,     0.11712,     0.11812,     0.11912,\n",
            "           0.12012,     0.12112,     0.12212,     0.12312,     0.12412,     0.12513,     0.12613,     0.12713,     0.12813,     0.12913,     0.13013,     0.13113,     0.13213,     0.13313,     0.13413,     0.13514,     0.13614,     0.13714,     0.13814,     0.13914,     0.14014,     0.14114,     0.14214,     0.14314,\n",
            "           0.14414,     0.14515,     0.14615,     0.14715,     0.14815,     0.14915,     0.15015,     0.15115,     0.15215,     0.15315,     0.15415,     0.15516,     0.15616,     0.15716,     0.15816,     0.15916,     0.16016,     0.16116,     0.16216,     0.16316,     0.16416,     0.16517,     0.16617,     0.16717,\n",
            "           0.16817,     0.16917,     0.17017,     0.17117,     0.17217,     0.17317,     0.17417,     0.17518,     0.17618,     0.17718,     0.17818,     0.17918,     0.18018,     0.18118,     0.18218,     0.18318,     0.18418,     0.18519,     0.18619,     0.18719,     0.18819,     0.18919,     0.19019,     0.19119,\n",
            "           0.19219,     0.19319,     0.19419,      0.1952,      0.1962,      0.1972,      0.1982,      0.1992,      0.2002,      0.2012,      0.2022,      0.2032,      0.2042,     0.20521,     0.20621,     0.20721,     0.20821,     0.20921,     0.21021,     0.21121,     0.21221,     0.21321,     0.21421,     0.21522,\n",
            "           0.21622,     0.21722,     0.21822,     0.21922,     0.22022,     0.22122,     0.22222,     0.22322,     0.22422,     0.22523,     0.22623,     0.22723,     0.22823,     0.22923,     0.23023,     0.23123,     0.23223,     0.23323,     0.23423,     0.23524,     0.23624,     0.23724,     0.23824,     0.23924,\n",
            "           0.24024,     0.24124,     0.24224,     0.24324,     0.24424,     0.24525,     0.24625,     0.24725,     0.24825,     0.24925,     0.25025,     0.25125,     0.25225,     0.25325,     0.25425,     0.25526,     0.25626,     0.25726,     0.25826,     0.25926,     0.26026,     0.26126,     0.26226,     0.26326,\n",
            "           0.26426,     0.26527,     0.26627,     0.26727,     0.26827,     0.26927,     0.27027,     0.27127,     0.27227,     0.27327,     0.27427,     0.27528,     0.27628,     0.27728,     0.27828,     0.27928,     0.28028,     0.28128,     0.28228,     0.28328,     0.28428,     0.28529,     0.28629,     0.28729,\n",
            "           0.28829,     0.28929,     0.29029,     0.29129,     0.29229,     0.29329,     0.29429,      0.2953,      0.2963,      0.2973,      0.2983,      0.2993,      0.3003,      0.3013,      0.3023,      0.3033,      0.3043,     0.30531,     0.30631,     0.30731,     0.30831,     0.30931,     0.31031,     0.31131,\n",
            "           0.31231,     0.31331,     0.31431,     0.31532,     0.31632,     0.31732,     0.31832,     0.31932,     0.32032,     0.32132,     0.32232,     0.32332,     0.32432,     0.32533,     0.32633,     0.32733,     0.32833,     0.32933,     0.33033,     0.33133,     0.33233,     0.33333,     0.33433,     0.33534,\n",
            "           0.33634,     0.33734,     0.33834,     0.33934,     0.34034,     0.34134,     0.34234,     0.34334,     0.34434,     0.34535,     0.34635,     0.34735,     0.34835,     0.34935,     0.35035,     0.35135,     0.35235,     0.35335,     0.35435,     0.35536,     0.35636,     0.35736,     0.35836,     0.35936,\n",
            "           0.36036,     0.36136,     0.36236,     0.36336,     0.36436,     0.36537,     0.36637,     0.36737,     0.36837,     0.36937,     0.37037,     0.37137,     0.37237,     0.37337,     0.37437,     0.37538,     0.37638,     0.37738,     0.37838,     0.37938,     0.38038,     0.38138,     0.38238,     0.38338,\n",
            "           0.38438,     0.38539,     0.38639,     0.38739,     0.38839,     0.38939,     0.39039,     0.39139,     0.39239,     0.39339,     0.39439,      0.3954,      0.3964,      0.3974,      0.3984,      0.3994,      0.4004,      0.4014,      0.4024,      0.4034,      0.4044,     0.40541,     0.40641,     0.40741,\n",
            "           0.40841,     0.40941,     0.41041,     0.41141,     0.41241,     0.41341,     0.41441,     0.41542,     0.41642,     0.41742,     0.41842,     0.41942,     0.42042,     0.42142,     0.42242,     0.42342,     0.42442,     0.42543,     0.42643,     0.42743,     0.42843,     0.42943,     0.43043,     0.43143,\n",
            "           0.43243,     0.43343,     0.43443,     0.43544,     0.43644,     0.43744,     0.43844,     0.43944,     0.44044,     0.44144,     0.44244,     0.44344,     0.44444,     0.44545,     0.44645,     0.44745,     0.44845,     0.44945,     0.45045,     0.45145,     0.45245,     0.45345,     0.45445,     0.45546,\n",
            "           0.45646,     0.45746,     0.45846,     0.45946,     0.46046,     0.46146,     0.46246,     0.46346,     0.46446,     0.46547,     0.46647,     0.46747,     0.46847,     0.46947,     0.47047,     0.47147,     0.47247,     0.47347,     0.47447,     0.47548,     0.47648,     0.47748,     0.47848,     0.47948,\n",
            "           0.48048,     0.48148,     0.48248,     0.48348,     0.48448,     0.48549,     0.48649,     0.48749,     0.48849,     0.48949,     0.49049,     0.49149,     0.49249,     0.49349,     0.49449,      0.4955,      0.4965,      0.4975,      0.4985,      0.4995,      0.5005,      0.5015,      0.5025,      0.5035,\n",
            "            0.5045,     0.50551,     0.50651,     0.50751,     0.50851,     0.50951,     0.51051,     0.51151,     0.51251,     0.51351,     0.51451,     0.51552,     0.51652,     0.51752,     0.51852,     0.51952,     0.52052,     0.52152,     0.52252,     0.52352,     0.52452,     0.52553,     0.52653,     0.52753,\n",
            "           0.52853,     0.52953,     0.53053,     0.53153,     0.53253,     0.53353,     0.53453,     0.53554,     0.53654,     0.53754,     0.53854,     0.53954,     0.54054,     0.54154,     0.54254,     0.54354,     0.54454,     0.54555,     0.54655,     0.54755,     0.54855,     0.54955,     0.55055,     0.55155,\n",
            "           0.55255,     0.55355,     0.55455,     0.55556,     0.55656,     0.55756,     0.55856,     0.55956,     0.56056,     0.56156,     0.56256,     0.56356,     0.56456,     0.56557,     0.56657,     0.56757,     0.56857,     0.56957,     0.57057,     0.57157,     0.57257,     0.57357,     0.57457,     0.57558,\n",
            "           0.57658,     0.57758,     0.57858,     0.57958,     0.58058,     0.58158,     0.58258,     0.58358,     0.58458,     0.58559,     0.58659,     0.58759,     0.58859,     0.58959,     0.59059,     0.59159,     0.59259,     0.59359,     0.59459,      0.5956,      0.5966,      0.5976,      0.5986,      0.5996,\n",
            "            0.6006,      0.6016,      0.6026,      0.6036,      0.6046,     0.60561,     0.60661,     0.60761,     0.60861,     0.60961,     0.61061,     0.61161,     0.61261,     0.61361,     0.61461,     0.61562,     0.61662,     0.61762,     0.61862,     0.61962,     0.62062,     0.62162,     0.62262,     0.62362,\n",
            "           0.62462,     0.62563,     0.62663,     0.62763,     0.62863,     0.62963,     0.63063,     0.63163,     0.63263,     0.63363,     0.63463,     0.63564,     0.63664,     0.63764,     0.63864,     0.63964,     0.64064,     0.64164,     0.64264,     0.64364,     0.64464,     0.64565,     0.64665,     0.64765,\n",
            "           0.64865,     0.64965,     0.65065,     0.65165,     0.65265,     0.65365,     0.65465,     0.65566,     0.65666,     0.65766,     0.65866,     0.65966,     0.66066,     0.66166,     0.66266,     0.66366,     0.66466,     0.66567,     0.66667,     0.66767,     0.66867,     0.66967,     0.67067,     0.67167,\n",
            "           0.67267,     0.67367,     0.67467,     0.67568,     0.67668,     0.67768,     0.67868,     0.67968,     0.68068,     0.68168,     0.68268,     0.68368,     0.68468,     0.68569,     0.68669,     0.68769,     0.68869,     0.68969,     0.69069,     0.69169,     0.69269,     0.69369,     0.69469,      0.6957,\n",
            "            0.6967,      0.6977,      0.6987,      0.6997,      0.7007,      0.7017,      0.7027,      0.7037,      0.7047,     0.70571,     0.70671,     0.70771,     0.70871,     0.70971,     0.71071,     0.71171,     0.71271,     0.71371,     0.71471,     0.71572,     0.71672,     0.71772,     0.71872,     0.71972,\n",
            "           0.72072,     0.72172,     0.72272,     0.72372,     0.72472,     0.72573,     0.72673,     0.72773,     0.72873,     0.72973,     0.73073,     0.73173,     0.73273,     0.73373,     0.73473,     0.73574,     0.73674,     0.73774,     0.73874,     0.73974,     0.74074,     0.74174,     0.74274,     0.74374,\n",
            "           0.74474,     0.74575,     0.74675,     0.74775,     0.74875,     0.74975,     0.75075,     0.75175,     0.75275,     0.75375,     0.75475,     0.75576,     0.75676,     0.75776,     0.75876,     0.75976,     0.76076,     0.76176,     0.76276,     0.76376,     0.76476,     0.76577,     0.76677,     0.76777,\n",
            "           0.76877,     0.76977,     0.77077,     0.77177,     0.77277,     0.77377,     0.77477,     0.77578,     0.77678,     0.77778,     0.77878,     0.77978,     0.78078,     0.78178,     0.78278,     0.78378,     0.78478,     0.78579,     0.78679,     0.78779,     0.78879,     0.78979,     0.79079,     0.79179,\n",
            "           0.79279,     0.79379,     0.79479,      0.7958,      0.7968,      0.7978,      0.7988,      0.7998,      0.8008,      0.8018,      0.8028,      0.8038,      0.8048,     0.80581,     0.80681,     0.80781,     0.80881,     0.80981,     0.81081,     0.81181,     0.81281,     0.81381,     0.81481,     0.81582,\n",
            "           0.81682,     0.81782,     0.81882,     0.81982,     0.82082,     0.82182,     0.82282,     0.82382,     0.82482,     0.82583,     0.82683,     0.82783,     0.82883,     0.82983,     0.83083,     0.83183,     0.83283,     0.83383,     0.83483,     0.83584,     0.83684,     0.83784,     0.83884,     0.83984,\n",
            "           0.84084,     0.84184,     0.84284,     0.84384,     0.84484,     0.84585,     0.84685,     0.84785,     0.84885,     0.84985,     0.85085,     0.85185,     0.85285,     0.85385,     0.85485,     0.85586,     0.85686,     0.85786,     0.85886,     0.85986,     0.86086,     0.86186,     0.86286,     0.86386,\n",
            "           0.86486,     0.86587,     0.86687,     0.86787,     0.86887,     0.86987,     0.87087,     0.87187,     0.87287,     0.87387,     0.87487,     0.87588,     0.87688,     0.87788,     0.87888,     0.87988,     0.88088,     0.88188,     0.88288,     0.88388,     0.88488,     0.88589,     0.88689,     0.88789,\n",
            "           0.88889,     0.88989,     0.89089,     0.89189,     0.89289,     0.89389,     0.89489,      0.8959,      0.8969,      0.8979,      0.8989,      0.8999,      0.9009,      0.9019,      0.9029,      0.9039,      0.9049,     0.90591,     0.90691,     0.90791,     0.90891,     0.90991,     0.91091,     0.91191,\n",
            "           0.91291,     0.91391,     0.91491,     0.91592,     0.91692,     0.91792,     0.91892,     0.91992,     0.92092,     0.92192,     0.92292,     0.92392,     0.92492,     0.92593,     0.92693,     0.92793,     0.92893,     0.92993,     0.93093,     0.93193,     0.93293,     0.93393,     0.93493,     0.93594,\n",
            "           0.93694,     0.93794,     0.93894,     0.93994,     0.94094,     0.94194,     0.94294,     0.94394,     0.94494,     0.94595,     0.94695,     0.94795,     0.94895,     0.94995,     0.95095,     0.95195,     0.95295,     0.95395,     0.95495,     0.95596,     0.95696,     0.95796,     0.95896,     0.95996,\n",
            "           0.96096,     0.96196,     0.96296,     0.96396,     0.96496,     0.96597,     0.96697,     0.96797,     0.96897,     0.96997,     0.97097,     0.97197,     0.97297,     0.97397,     0.97497,     0.97598,     0.97698,     0.97798,     0.97898,     0.97998,     0.98098,     0.98198,     0.98298,     0.98398,\n",
            "           0.98498,     0.98599,     0.98699,     0.98799,     0.98899,     0.98999,     0.99099,     0.99199,     0.99299,     0.99399,     0.99499,       0.996,       0.997,       0.998,       0.999,           1]), array([[          1,           1,           1, ...,           1,           1,           0],\n",
            "       [          1,           1,           1, ...,           1,           1,           0],\n",
            "       [          1,           1,           1, ...,           1,           1,           0],\n",
            "       ...,\n",
            "       [          1,           1,           1, ...,           1,           1,           0],\n",
            "       [          1,           1,           1, ...,           1,           1,           0],\n",
            "       [          1,           1,           1, ...,           1,           1,           0]]), 'Recall', 'Precision'], [array([          0,    0.001001,    0.002002,    0.003003,    0.004004,    0.005005,    0.006006,    0.007007,    0.008008,    0.009009,     0.01001,    0.011011,    0.012012,    0.013013,    0.014014,    0.015015,    0.016016,    0.017017,    0.018018,    0.019019,     0.02002,    0.021021,    0.022022,    0.023023,\n",
            "          0.024024,    0.025025,    0.026026,    0.027027,    0.028028,    0.029029,     0.03003,    0.031031,    0.032032,    0.033033,    0.034034,    0.035035,    0.036036,    0.037037,    0.038038,    0.039039,     0.04004,    0.041041,    0.042042,    0.043043,    0.044044,    0.045045,    0.046046,    0.047047,\n",
            "          0.048048,    0.049049,     0.05005,    0.051051,    0.052052,    0.053053,    0.054054,    0.055055,    0.056056,    0.057057,    0.058058,    0.059059,     0.06006,    0.061061,    0.062062,    0.063063,    0.064064,    0.065065,    0.066066,    0.067067,    0.068068,    0.069069,     0.07007,    0.071071,\n",
            "          0.072072,    0.073073,    0.074074,    0.075075,    0.076076,    0.077077,    0.078078,    0.079079,     0.08008,    0.081081,    0.082082,    0.083083,    0.084084,    0.085085,    0.086086,    0.087087,    0.088088,    0.089089,     0.09009,    0.091091,    0.092092,    0.093093,    0.094094,    0.095095,\n",
            "          0.096096,    0.097097,    0.098098,    0.099099,      0.1001,      0.1011,      0.1021,      0.1031,      0.1041,     0.10511,     0.10611,     0.10711,     0.10811,     0.10911,     0.11011,     0.11111,     0.11211,     0.11311,     0.11411,     0.11512,     0.11612,     0.11712,     0.11812,     0.11912,\n",
            "           0.12012,     0.12112,     0.12212,     0.12312,     0.12412,     0.12513,     0.12613,     0.12713,     0.12813,     0.12913,     0.13013,     0.13113,     0.13213,     0.13313,     0.13413,     0.13514,     0.13614,     0.13714,     0.13814,     0.13914,     0.14014,     0.14114,     0.14214,     0.14314,\n",
            "           0.14414,     0.14515,     0.14615,     0.14715,     0.14815,     0.14915,     0.15015,     0.15115,     0.15215,     0.15315,     0.15415,     0.15516,     0.15616,     0.15716,     0.15816,     0.15916,     0.16016,     0.16116,     0.16216,     0.16316,     0.16416,     0.16517,     0.16617,     0.16717,\n",
            "           0.16817,     0.16917,     0.17017,     0.17117,     0.17217,     0.17317,     0.17417,     0.17518,     0.17618,     0.17718,     0.17818,     0.17918,     0.18018,     0.18118,     0.18218,     0.18318,     0.18418,     0.18519,     0.18619,     0.18719,     0.18819,     0.18919,     0.19019,     0.19119,\n",
            "           0.19219,     0.19319,     0.19419,      0.1952,      0.1962,      0.1972,      0.1982,      0.1992,      0.2002,      0.2012,      0.2022,      0.2032,      0.2042,     0.20521,     0.20621,     0.20721,     0.20821,     0.20921,     0.21021,     0.21121,     0.21221,     0.21321,     0.21421,     0.21522,\n",
            "           0.21622,     0.21722,     0.21822,     0.21922,     0.22022,     0.22122,     0.22222,     0.22322,     0.22422,     0.22523,     0.22623,     0.22723,     0.22823,     0.22923,     0.23023,     0.23123,     0.23223,     0.23323,     0.23423,     0.23524,     0.23624,     0.23724,     0.23824,     0.23924,\n",
            "           0.24024,     0.24124,     0.24224,     0.24324,     0.24424,     0.24525,     0.24625,     0.24725,     0.24825,     0.24925,     0.25025,     0.25125,     0.25225,     0.25325,     0.25425,     0.25526,     0.25626,     0.25726,     0.25826,     0.25926,     0.26026,     0.26126,     0.26226,     0.26326,\n",
            "           0.26426,     0.26527,     0.26627,     0.26727,     0.26827,     0.26927,     0.27027,     0.27127,     0.27227,     0.27327,     0.27427,     0.27528,     0.27628,     0.27728,     0.27828,     0.27928,     0.28028,     0.28128,     0.28228,     0.28328,     0.28428,     0.28529,     0.28629,     0.28729,\n",
            "           0.28829,     0.28929,     0.29029,     0.29129,     0.29229,     0.29329,     0.29429,      0.2953,      0.2963,      0.2973,      0.2983,      0.2993,      0.3003,      0.3013,      0.3023,      0.3033,      0.3043,     0.30531,     0.30631,     0.30731,     0.30831,     0.30931,     0.31031,     0.31131,\n",
            "           0.31231,     0.31331,     0.31431,     0.31532,     0.31632,     0.31732,     0.31832,     0.31932,     0.32032,     0.32132,     0.32232,     0.32332,     0.32432,     0.32533,     0.32633,     0.32733,     0.32833,     0.32933,     0.33033,     0.33133,     0.33233,     0.33333,     0.33433,     0.33534,\n",
            "           0.33634,     0.33734,     0.33834,     0.33934,     0.34034,     0.34134,     0.34234,     0.34334,     0.34434,     0.34535,     0.34635,     0.34735,     0.34835,     0.34935,     0.35035,     0.35135,     0.35235,     0.35335,     0.35435,     0.35536,     0.35636,     0.35736,     0.35836,     0.35936,\n",
            "           0.36036,     0.36136,     0.36236,     0.36336,     0.36436,     0.36537,     0.36637,     0.36737,     0.36837,     0.36937,     0.37037,     0.37137,     0.37237,     0.37337,     0.37437,     0.37538,     0.37638,     0.37738,     0.37838,     0.37938,     0.38038,     0.38138,     0.38238,     0.38338,\n",
            "           0.38438,     0.38539,     0.38639,     0.38739,     0.38839,     0.38939,     0.39039,     0.39139,     0.39239,     0.39339,     0.39439,      0.3954,      0.3964,      0.3974,      0.3984,      0.3994,      0.4004,      0.4014,      0.4024,      0.4034,      0.4044,     0.40541,     0.40641,     0.40741,\n",
            "           0.40841,     0.40941,     0.41041,     0.41141,     0.41241,     0.41341,     0.41441,     0.41542,     0.41642,     0.41742,     0.41842,     0.41942,     0.42042,     0.42142,     0.42242,     0.42342,     0.42442,     0.42543,     0.42643,     0.42743,     0.42843,     0.42943,     0.43043,     0.43143,\n",
            "           0.43243,     0.43343,     0.43443,     0.43544,     0.43644,     0.43744,     0.43844,     0.43944,     0.44044,     0.44144,     0.44244,     0.44344,     0.44444,     0.44545,     0.44645,     0.44745,     0.44845,     0.44945,     0.45045,     0.45145,     0.45245,     0.45345,     0.45445,     0.45546,\n",
            "           0.45646,     0.45746,     0.45846,     0.45946,     0.46046,     0.46146,     0.46246,     0.46346,     0.46446,     0.46547,     0.46647,     0.46747,     0.46847,     0.46947,     0.47047,     0.47147,     0.47247,     0.47347,     0.47447,     0.47548,     0.47648,     0.47748,     0.47848,     0.47948,\n",
            "           0.48048,     0.48148,     0.48248,     0.48348,     0.48448,     0.48549,     0.48649,     0.48749,     0.48849,     0.48949,     0.49049,     0.49149,     0.49249,     0.49349,     0.49449,      0.4955,      0.4965,      0.4975,      0.4985,      0.4995,      0.5005,      0.5015,      0.5025,      0.5035,\n",
            "            0.5045,     0.50551,     0.50651,     0.50751,     0.50851,     0.50951,     0.51051,     0.51151,     0.51251,     0.51351,     0.51451,     0.51552,     0.51652,     0.51752,     0.51852,     0.51952,     0.52052,     0.52152,     0.52252,     0.52352,     0.52452,     0.52553,     0.52653,     0.52753,\n",
            "           0.52853,     0.52953,     0.53053,     0.53153,     0.53253,     0.53353,     0.53453,     0.53554,     0.53654,     0.53754,     0.53854,     0.53954,     0.54054,     0.54154,     0.54254,     0.54354,     0.54454,     0.54555,     0.54655,     0.54755,     0.54855,     0.54955,     0.55055,     0.55155,\n",
            "           0.55255,     0.55355,     0.55455,     0.55556,     0.55656,     0.55756,     0.55856,     0.55956,     0.56056,     0.56156,     0.56256,     0.56356,     0.56456,     0.56557,     0.56657,     0.56757,     0.56857,     0.56957,     0.57057,     0.57157,     0.57257,     0.57357,     0.57457,     0.57558,\n",
            "           0.57658,     0.57758,     0.57858,     0.57958,     0.58058,     0.58158,     0.58258,     0.58358,     0.58458,     0.58559,     0.58659,     0.58759,     0.58859,     0.58959,     0.59059,     0.59159,     0.59259,     0.59359,     0.59459,      0.5956,      0.5966,      0.5976,      0.5986,      0.5996,\n",
            "            0.6006,      0.6016,      0.6026,      0.6036,      0.6046,     0.60561,     0.60661,     0.60761,     0.60861,     0.60961,     0.61061,     0.61161,     0.61261,     0.61361,     0.61461,     0.61562,     0.61662,     0.61762,     0.61862,     0.61962,     0.62062,     0.62162,     0.62262,     0.62362,\n",
            "           0.62462,     0.62563,     0.62663,     0.62763,     0.62863,     0.62963,     0.63063,     0.63163,     0.63263,     0.63363,     0.63463,     0.63564,     0.63664,     0.63764,     0.63864,     0.63964,     0.64064,     0.64164,     0.64264,     0.64364,     0.64464,     0.64565,     0.64665,     0.64765,\n",
            "           0.64865,     0.64965,     0.65065,     0.65165,     0.65265,     0.65365,     0.65465,     0.65566,     0.65666,     0.65766,     0.65866,     0.65966,     0.66066,     0.66166,     0.66266,     0.66366,     0.66466,     0.66567,     0.66667,     0.66767,     0.66867,     0.66967,     0.67067,     0.67167,\n",
            "           0.67267,     0.67367,     0.67467,     0.67568,     0.67668,     0.67768,     0.67868,     0.67968,     0.68068,     0.68168,     0.68268,     0.68368,     0.68468,     0.68569,     0.68669,     0.68769,     0.68869,     0.68969,     0.69069,     0.69169,     0.69269,     0.69369,     0.69469,      0.6957,\n",
            "            0.6967,      0.6977,      0.6987,      0.6997,      0.7007,      0.7017,      0.7027,      0.7037,      0.7047,     0.70571,     0.70671,     0.70771,     0.70871,     0.70971,     0.71071,     0.71171,     0.71271,     0.71371,     0.71471,     0.71572,     0.71672,     0.71772,     0.71872,     0.71972,\n",
            "           0.72072,     0.72172,     0.72272,     0.72372,     0.72472,     0.72573,     0.72673,     0.72773,     0.72873,     0.72973,     0.73073,     0.73173,     0.73273,     0.73373,     0.73473,     0.73574,     0.73674,     0.73774,     0.73874,     0.73974,     0.74074,     0.74174,     0.74274,     0.74374,\n",
            "           0.74474,     0.74575,     0.74675,     0.74775,     0.74875,     0.74975,     0.75075,     0.75175,     0.75275,     0.75375,     0.75475,     0.75576,     0.75676,     0.75776,     0.75876,     0.75976,     0.76076,     0.76176,     0.76276,     0.76376,     0.76476,     0.76577,     0.76677,     0.76777,\n",
            "           0.76877,     0.76977,     0.77077,     0.77177,     0.77277,     0.77377,     0.77477,     0.77578,     0.77678,     0.77778,     0.77878,     0.77978,     0.78078,     0.78178,     0.78278,     0.78378,     0.78478,     0.78579,     0.78679,     0.78779,     0.78879,     0.78979,     0.79079,     0.79179,\n",
            "           0.79279,     0.79379,     0.79479,      0.7958,      0.7968,      0.7978,      0.7988,      0.7998,      0.8008,      0.8018,      0.8028,      0.8038,      0.8048,     0.80581,     0.80681,     0.80781,     0.80881,     0.80981,     0.81081,     0.81181,     0.81281,     0.81381,     0.81481,     0.81582,\n",
            "           0.81682,     0.81782,     0.81882,     0.81982,     0.82082,     0.82182,     0.82282,     0.82382,     0.82482,     0.82583,     0.82683,     0.82783,     0.82883,     0.82983,     0.83083,     0.83183,     0.83283,     0.83383,     0.83483,     0.83584,     0.83684,     0.83784,     0.83884,     0.83984,\n",
            "           0.84084,     0.84184,     0.84284,     0.84384,     0.84484,     0.84585,     0.84685,     0.84785,     0.84885,     0.84985,     0.85085,     0.85185,     0.85285,     0.85385,     0.85485,     0.85586,     0.85686,     0.85786,     0.85886,     0.85986,     0.86086,     0.86186,     0.86286,     0.86386,\n",
            "           0.86486,     0.86587,     0.86687,     0.86787,     0.86887,     0.86987,     0.87087,     0.87187,     0.87287,     0.87387,     0.87487,     0.87588,     0.87688,     0.87788,     0.87888,     0.87988,     0.88088,     0.88188,     0.88288,     0.88388,     0.88488,     0.88589,     0.88689,     0.88789,\n",
            "           0.88889,     0.88989,     0.89089,     0.89189,     0.89289,     0.89389,     0.89489,      0.8959,      0.8969,      0.8979,      0.8989,      0.8999,      0.9009,      0.9019,      0.9029,      0.9039,      0.9049,     0.90591,     0.90691,     0.90791,     0.90891,     0.90991,     0.91091,     0.91191,\n",
            "           0.91291,     0.91391,     0.91491,     0.91592,     0.91692,     0.91792,     0.91892,     0.91992,     0.92092,     0.92192,     0.92292,     0.92392,     0.92492,     0.92593,     0.92693,     0.92793,     0.92893,     0.92993,     0.93093,     0.93193,     0.93293,     0.93393,     0.93493,     0.93594,\n",
            "           0.93694,     0.93794,     0.93894,     0.93994,     0.94094,     0.94194,     0.94294,     0.94394,     0.94494,     0.94595,     0.94695,     0.94795,     0.94895,     0.94995,     0.95095,     0.95195,     0.95295,     0.95395,     0.95495,     0.95596,     0.95696,     0.95796,     0.95896,     0.95996,\n",
            "           0.96096,     0.96196,     0.96296,     0.96396,     0.96496,     0.96597,     0.96697,     0.96797,     0.96897,     0.96997,     0.97097,     0.97197,     0.97297,     0.97397,     0.97497,     0.97598,     0.97698,     0.97798,     0.97898,     0.97998,     0.98098,     0.98198,     0.98298,     0.98398,\n",
            "           0.98498,     0.98599,     0.98699,     0.98799,     0.98899,     0.98999,     0.99099,     0.99199,     0.99299,     0.99399,     0.99499,       0.996,       0.997,       0.998,       0.999,           1]), array([[    0.14019,     0.14024,     0.24812, ...,           0,           0,           0],\n",
            "       [    0.16807,     0.16807,     0.27122, ...,           0,           0,           0],\n",
            "       [    0.41237,     0.41237,     0.52894, ...,           0,           0,           0],\n",
            "       ...,\n",
            "       [    0.16901,     0.16901,     0.26853, ...,           0,           0,           0],\n",
            "       [    0.25806,     0.25806,     0.43986, ...,           0,           0,           0],\n",
            "       [     0.1444,     0.14475,     0.21088, ...,           0,           0,           0]]), 'Confidence', 'F1'], [array([          0,    0.001001,    0.002002,    0.003003,    0.004004,    0.005005,    0.006006,    0.007007,    0.008008,    0.009009,     0.01001,    0.011011,    0.012012,    0.013013,    0.014014,    0.015015,    0.016016,    0.017017,    0.018018,    0.019019,     0.02002,    0.021021,    0.022022,    0.023023,\n",
            "          0.024024,    0.025025,    0.026026,    0.027027,    0.028028,    0.029029,     0.03003,    0.031031,    0.032032,    0.033033,    0.034034,    0.035035,    0.036036,    0.037037,    0.038038,    0.039039,     0.04004,    0.041041,    0.042042,    0.043043,    0.044044,    0.045045,    0.046046,    0.047047,\n",
            "          0.048048,    0.049049,     0.05005,    0.051051,    0.052052,    0.053053,    0.054054,    0.055055,    0.056056,    0.057057,    0.058058,    0.059059,     0.06006,    0.061061,    0.062062,    0.063063,    0.064064,    0.065065,    0.066066,    0.067067,    0.068068,    0.069069,     0.07007,    0.071071,\n",
            "          0.072072,    0.073073,    0.074074,    0.075075,    0.076076,    0.077077,    0.078078,    0.079079,     0.08008,    0.081081,    0.082082,    0.083083,    0.084084,    0.085085,    0.086086,    0.087087,    0.088088,    0.089089,     0.09009,    0.091091,    0.092092,    0.093093,    0.094094,    0.095095,\n",
            "          0.096096,    0.097097,    0.098098,    0.099099,      0.1001,      0.1011,      0.1021,      0.1031,      0.1041,     0.10511,     0.10611,     0.10711,     0.10811,     0.10911,     0.11011,     0.11111,     0.11211,     0.11311,     0.11411,     0.11512,     0.11612,     0.11712,     0.11812,     0.11912,\n",
            "           0.12012,     0.12112,     0.12212,     0.12312,     0.12412,     0.12513,     0.12613,     0.12713,     0.12813,     0.12913,     0.13013,     0.13113,     0.13213,     0.13313,     0.13413,     0.13514,     0.13614,     0.13714,     0.13814,     0.13914,     0.14014,     0.14114,     0.14214,     0.14314,\n",
            "           0.14414,     0.14515,     0.14615,     0.14715,     0.14815,     0.14915,     0.15015,     0.15115,     0.15215,     0.15315,     0.15415,     0.15516,     0.15616,     0.15716,     0.15816,     0.15916,     0.16016,     0.16116,     0.16216,     0.16316,     0.16416,     0.16517,     0.16617,     0.16717,\n",
            "           0.16817,     0.16917,     0.17017,     0.17117,     0.17217,     0.17317,     0.17417,     0.17518,     0.17618,     0.17718,     0.17818,     0.17918,     0.18018,     0.18118,     0.18218,     0.18318,     0.18418,     0.18519,     0.18619,     0.18719,     0.18819,     0.18919,     0.19019,     0.19119,\n",
            "           0.19219,     0.19319,     0.19419,      0.1952,      0.1962,      0.1972,      0.1982,      0.1992,      0.2002,      0.2012,      0.2022,      0.2032,      0.2042,     0.20521,     0.20621,     0.20721,     0.20821,     0.20921,     0.21021,     0.21121,     0.21221,     0.21321,     0.21421,     0.21522,\n",
            "           0.21622,     0.21722,     0.21822,     0.21922,     0.22022,     0.22122,     0.22222,     0.22322,     0.22422,     0.22523,     0.22623,     0.22723,     0.22823,     0.22923,     0.23023,     0.23123,     0.23223,     0.23323,     0.23423,     0.23524,     0.23624,     0.23724,     0.23824,     0.23924,\n",
            "           0.24024,     0.24124,     0.24224,     0.24324,     0.24424,     0.24525,     0.24625,     0.24725,     0.24825,     0.24925,     0.25025,     0.25125,     0.25225,     0.25325,     0.25425,     0.25526,     0.25626,     0.25726,     0.25826,     0.25926,     0.26026,     0.26126,     0.26226,     0.26326,\n",
            "           0.26426,     0.26527,     0.26627,     0.26727,     0.26827,     0.26927,     0.27027,     0.27127,     0.27227,     0.27327,     0.27427,     0.27528,     0.27628,     0.27728,     0.27828,     0.27928,     0.28028,     0.28128,     0.28228,     0.28328,     0.28428,     0.28529,     0.28629,     0.28729,\n",
            "           0.28829,     0.28929,     0.29029,     0.29129,     0.29229,     0.29329,     0.29429,      0.2953,      0.2963,      0.2973,      0.2983,      0.2993,      0.3003,      0.3013,      0.3023,      0.3033,      0.3043,     0.30531,     0.30631,     0.30731,     0.30831,     0.30931,     0.31031,     0.31131,\n",
            "           0.31231,     0.31331,     0.31431,     0.31532,     0.31632,     0.31732,     0.31832,     0.31932,     0.32032,     0.32132,     0.32232,     0.32332,     0.32432,     0.32533,     0.32633,     0.32733,     0.32833,     0.32933,     0.33033,     0.33133,     0.33233,     0.33333,     0.33433,     0.33534,\n",
            "           0.33634,     0.33734,     0.33834,     0.33934,     0.34034,     0.34134,     0.34234,     0.34334,     0.34434,     0.34535,     0.34635,     0.34735,     0.34835,     0.34935,     0.35035,     0.35135,     0.35235,     0.35335,     0.35435,     0.35536,     0.35636,     0.35736,     0.35836,     0.35936,\n",
            "           0.36036,     0.36136,     0.36236,     0.36336,     0.36436,     0.36537,     0.36637,     0.36737,     0.36837,     0.36937,     0.37037,     0.37137,     0.37237,     0.37337,     0.37437,     0.37538,     0.37638,     0.37738,     0.37838,     0.37938,     0.38038,     0.38138,     0.38238,     0.38338,\n",
            "           0.38438,     0.38539,     0.38639,     0.38739,     0.38839,     0.38939,     0.39039,     0.39139,     0.39239,     0.39339,     0.39439,      0.3954,      0.3964,      0.3974,      0.3984,      0.3994,      0.4004,      0.4014,      0.4024,      0.4034,      0.4044,     0.40541,     0.40641,     0.40741,\n",
            "           0.40841,     0.40941,     0.41041,     0.41141,     0.41241,     0.41341,     0.41441,     0.41542,     0.41642,     0.41742,     0.41842,     0.41942,     0.42042,     0.42142,     0.42242,     0.42342,     0.42442,     0.42543,     0.42643,     0.42743,     0.42843,     0.42943,     0.43043,     0.43143,\n",
            "           0.43243,     0.43343,     0.43443,     0.43544,     0.43644,     0.43744,     0.43844,     0.43944,     0.44044,     0.44144,     0.44244,     0.44344,     0.44444,     0.44545,     0.44645,     0.44745,     0.44845,     0.44945,     0.45045,     0.45145,     0.45245,     0.45345,     0.45445,     0.45546,\n",
            "           0.45646,     0.45746,     0.45846,     0.45946,     0.46046,     0.46146,     0.46246,     0.46346,     0.46446,     0.46547,     0.46647,     0.46747,     0.46847,     0.46947,     0.47047,     0.47147,     0.47247,     0.47347,     0.47447,     0.47548,     0.47648,     0.47748,     0.47848,     0.47948,\n",
            "           0.48048,     0.48148,     0.48248,     0.48348,     0.48448,     0.48549,     0.48649,     0.48749,     0.48849,     0.48949,     0.49049,     0.49149,     0.49249,     0.49349,     0.49449,      0.4955,      0.4965,      0.4975,      0.4985,      0.4995,      0.5005,      0.5015,      0.5025,      0.5035,\n",
            "            0.5045,     0.50551,     0.50651,     0.50751,     0.50851,     0.50951,     0.51051,     0.51151,     0.51251,     0.51351,     0.51451,     0.51552,     0.51652,     0.51752,     0.51852,     0.51952,     0.52052,     0.52152,     0.52252,     0.52352,     0.52452,     0.52553,     0.52653,     0.52753,\n",
            "           0.52853,     0.52953,     0.53053,     0.53153,     0.53253,     0.53353,     0.53453,     0.53554,     0.53654,     0.53754,     0.53854,     0.53954,     0.54054,     0.54154,     0.54254,     0.54354,     0.54454,     0.54555,     0.54655,     0.54755,     0.54855,     0.54955,     0.55055,     0.55155,\n",
            "           0.55255,     0.55355,     0.55455,     0.55556,     0.55656,     0.55756,     0.55856,     0.55956,     0.56056,     0.56156,     0.56256,     0.56356,     0.56456,     0.56557,     0.56657,     0.56757,     0.56857,     0.56957,     0.57057,     0.57157,     0.57257,     0.57357,     0.57457,     0.57558,\n",
            "           0.57658,     0.57758,     0.57858,     0.57958,     0.58058,     0.58158,     0.58258,     0.58358,     0.58458,     0.58559,     0.58659,     0.58759,     0.58859,     0.58959,     0.59059,     0.59159,     0.59259,     0.59359,     0.59459,      0.5956,      0.5966,      0.5976,      0.5986,      0.5996,\n",
            "            0.6006,      0.6016,      0.6026,      0.6036,      0.6046,     0.60561,     0.60661,     0.60761,     0.60861,     0.60961,     0.61061,     0.61161,     0.61261,     0.61361,     0.61461,     0.61562,     0.61662,     0.61762,     0.61862,     0.61962,     0.62062,     0.62162,     0.62262,     0.62362,\n",
            "           0.62462,     0.62563,     0.62663,     0.62763,     0.62863,     0.62963,     0.63063,     0.63163,     0.63263,     0.63363,     0.63463,     0.63564,     0.63664,     0.63764,     0.63864,     0.63964,     0.64064,     0.64164,     0.64264,     0.64364,     0.64464,     0.64565,     0.64665,     0.64765,\n",
            "           0.64865,     0.64965,     0.65065,     0.65165,     0.65265,     0.65365,     0.65465,     0.65566,     0.65666,     0.65766,     0.65866,     0.65966,     0.66066,     0.66166,     0.66266,     0.66366,     0.66466,     0.66567,     0.66667,     0.66767,     0.66867,     0.66967,     0.67067,     0.67167,\n",
            "           0.67267,     0.67367,     0.67467,     0.67568,     0.67668,     0.67768,     0.67868,     0.67968,     0.68068,     0.68168,     0.68268,     0.68368,     0.68468,     0.68569,     0.68669,     0.68769,     0.68869,     0.68969,     0.69069,     0.69169,     0.69269,     0.69369,     0.69469,      0.6957,\n",
            "            0.6967,      0.6977,      0.6987,      0.6997,      0.7007,      0.7017,      0.7027,      0.7037,      0.7047,     0.70571,     0.70671,     0.70771,     0.70871,     0.70971,     0.71071,     0.71171,     0.71271,     0.71371,     0.71471,     0.71572,     0.71672,     0.71772,     0.71872,     0.71972,\n",
            "           0.72072,     0.72172,     0.72272,     0.72372,     0.72472,     0.72573,     0.72673,     0.72773,     0.72873,     0.72973,     0.73073,     0.73173,     0.73273,     0.73373,     0.73473,     0.73574,     0.73674,     0.73774,     0.73874,     0.73974,     0.74074,     0.74174,     0.74274,     0.74374,\n",
            "           0.74474,     0.74575,     0.74675,     0.74775,     0.74875,     0.74975,     0.75075,     0.75175,     0.75275,     0.75375,     0.75475,     0.75576,     0.75676,     0.75776,     0.75876,     0.75976,     0.76076,     0.76176,     0.76276,     0.76376,     0.76476,     0.76577,     0.76677,     0.76777,\n",
            "           0.76877,     0.76977,     0.77077,     0.77177,     0.77277,     0.77377,     0.77477,     0.77578,     0.77678,     0.77778,     0.77878,     0.77978,     0.78078,     0.78178,     0.78278,     0.78378,     0.78478,     0.78579,     0.78679,     0.78779,     0.78879,     0.78979,     0.79079,     0.79179,\n",
            "           0.79279,     0.79379,     0.79479,      0.7958,      0.7968,      0.7978,      0.7988,      0.7998,      0.8008,      0.8018,      0.8028,      0.8038,      0.8048,     0.80581,     0.80681,     0.80781,     0.80881,     0.80981,     0.81081,     0.81181,     0.81281,     0.81381,     0.81481,     0.81582,\n",
            "           0.81682,     0.81782,     0.81882,     0.81982,     0.82082,     0.82182,     0.82282,     0.82382,     0.82482,     0.82583,     0.82683,     0.82783,     0.82883,     0.82983,     0.83083,     0.83183,     0.83283,     0.83383,     0.83483,     0.83584,     0.83684,     0.83784,     0.83884,     0.83984,\n",
            "           0.84084,     0.84184,     0.84284,     0.84384,     0.84484,     0.84585,     0.84685,     0.84785,     0.84885,     0.84985,     0.85085,     0.85185,     0.85285,     0.85385,     0.85485,     0.85586,     0.85686,     0.85786,     0.85886,     0.85986,     0.86086,     0.86186,     0.86286,     0.86386,\n",
            "           0.86486,     0.86587,     0.86687,     0.86787,     0.86887,     0.86987,     0.87087,     0.87187,     0.87287,     0.87387,     0.87487,     0.87588,     0.87688,     0.87788,     0.87888,     0.87988,     0.88088,     0.88188,     0.88288,     0.88388,     0.88488,     0.88589,     0.88689,     0.88789,\n",
            "           0.88889,     0.88989,     0.89089,     0.89189,     0.89289,     0.89389,     0.89489,      0.8959,      0.8969,      0.8979,      0.8989,      0.8999,      0.9009,      0.9019,      0.9029,      0.9039,      0.9049,     0.90591,     0.90691,     0.90791,     0.90891,     0.90991,     0.91091,     0.91191,\n",
            "           0.91291,     0.91391,     0.91491,     0.91592,     0.91692,     0.91792,     0.91892,     0.91992,     0.92092,     0.92192,     0.92292,     0.92392,     0.92492,     0.92593,     0.92693,     0.92793,     0.92893,     0.92993,     0.93093,     0.93193,     0.93293,     0.93393,     0.93493,     0.93594,\n",
            "           0.93694,     0.93794,     0.93894,     0.93994,     0.94094,     0.94194,     0.94294,     0.94394,     0.94494,     0.94595,     0.94695,     0.94795,     0.94895,     0.94995,     0.95095,     0.95195,     0.95295,     0.95395,     0.95495,     0.95596,     0.95696,     0.95796,     0.95896,     0.95996,\n",
            "           0.96096,     0.96196,     0.96296,     0.96396,     0.96496,     0.96597,     0.96697,     0.96797,     0.96897,     0.96997,     0.97097,     0.97197,     0.97297,     0.97397,     0.97497,     0.97598,     0.97698,     0.97798,     0.97898,     0.97998,     0.98098,     0.98198,     0.98298,     0.98398,\n",
            "           0.98498,     0.98599,     0.98699,     0.98799,     0.98899,     0.98999,     0.99099,     0.99199,     0.99299,     0.99399,     0.99499,       0.996,       0.997,       0.998,       0.999,           1]), array([[   0.075377,    0.075405,     0.14163, ...,           1,           1,           1],\n",
            "       [   0.091743,    0.091743,     0.15688, ...,           1,           1,           1],\n",
            "       [    0.25974,     0.25974,     0.35956, ...,           1,           1,           1],\n",
            "       ...,\n",
            "       [   0.092308,    0.092308,     0.15509, ...,           1,           1,           1],\n",
            "       [    0.14815,     0.14815,     0.28193, ...,           1,           1,           1],\n",
            "       [   0.077821,    0.078024,     0.11787, ...,           1,           1,           1]]), 'Confidence', 'Precision'], [array([          0,    0.001001,    0.002002,    0.003003,    0.004004,    0.005005,    0.006006,    0.007007,    0.008008,    0.009009,     0.01001,    0.011011,    0.012012,    0.013013,    0.014014,    0.015015,    0.016016,    0.017017,    0.018018,    0.019019,     0.02002,    0.021021,    0.022022,    0.023023,\n",
            "          0.024024,    0.025025,    0.026026,    0.027027,    0.028028,    0.029029,     0.03003,    0.031031,    0.032032,    0.033033,    0.034034,    0.035035,    0.036036,    0.037037,    0.038038,    0.039039,     0.04004,    0.041041,    0.042042,    0.043043,    0.044044,    0.045045,    0.046046,    0.047047,\n",
            "          0.048048,    0.049049,     0.05005,    0.051051,    0.052052,    0.053053,    0.054054,    0.055055,    0.056056,    0.057057,    0.058058,    0.059059,     0.06006,    0.061061,    0.062062,    0.063063,    0.064064,    0.065065,    0.066066,    0.067067,    0.068068,    0.069069,     0.07007,    0.071071,\n",
            "          0.072072,    0.073073,    0.074074,    0.075075,    0.076076,    0.077077,    0.078078,    0.079079,     0.08008,    0.081081,    0.082082,    0.083083,    0.084084,    0.085085,    0.086086,    0.087087,    0.088088,    0.089089,     0.09009,    0.091091,    0.092092,    0.093093,    0.094094,    0.095095,\n",
            "          0.096096,    0.097097,    0.098098,    0.099099,      0.1001,      0.1011,      0.1021,      0.1031,      0.1041,     0.10511,     0.10611,     0.10711,     0.10811,     0.10911,     0.11011,     0.11111,     0.11211,     0.11311,     0.11411,     0.11512,     0.11612,     0.11712,     0.11812,     0.11912,\n",
            "           0.12012,     0.12112,     0.12212,     0.12312,     0.12412,     0.12513,     0.12613,     0.12713,     0.12813,     0.12913,     0.13013,     0.13113,     0.13213,     0.13313,     0.13413,     0.13514,     0.13614,     0.13714,     0.13814,     0.13914,     0.14014,     0.14114,     0.14214,     0.14314,\n",
            "           0.14414,     0.14515,     0.14615,     0.14715,     0.14815,     0.14915,     0.15015,     0.15115,     0.15215,     0.15315,     0.15415,     0.15516,     0.15616,     0.15716,     0.15816,     0.15916,     0.16016,     0.16116,     0.16216,     0.16316,     0.16416,     0.16517,     0.16617,     0.16717,\n",
            "           0.16817,     0.16917,     0.17017,     0.17117,     0.17217,     0.17317,     0.17417,     0.17518,     0.17618,     0.17718,     0.17818,     0.17918,     0.18018,     0.18118,     0.18218,     0.18318,     0.18418,     0.18519,     0.18619,     0.18719,     0.18819,     0.18919,     0.19019,     0.19119,\n",
            "           0.19219,     0.19319,     0.19419,      0.1952,      0.1962,      0.1972,      0.1982,      0.1992,      0.2002,      0.2012,      0.2022,      0.2032,      0.2042,     0.20521,     0.20621,     0.20721,     0.20821,     0.20921,     0.21021,     0.21121,     0.21221,     0.21321,     0.21421,     0.21522,\n",
            "           0.21622,     0.21722,     0.21822,     0.21922,     0.22022,     0.22122,     0.22222,     0.22322,     0.22422,     0.22523,     0.22623,     0.22723,     0.22823,     0.22923,     0.23023,     0.23123,     0.23223,     0.23323,     0.23423,     0.23524,     0.23624,     0.23724,     0.23824,     0.23924,\n",
            "           0.24024,     0.24124,     0.24224,     0.24324,     0.24424,     0.24525,     0.24625,     0.24725,     0.24825,     0.24925,     0.25025,     0.25125,     0.25225,     0.25325,     0.25425,     0.25526,     0.25626,     0.25726,     0.25826,     0.25926,     0.26026,     0.26126,     0.26226,     0.26326,\n",
            "           0.26426,     0.26527,     0.26627,     0.26727,     0.26827,     0.26927,     0.27027,     0.27127,     0.27227,     0.27327,     0.27427,     0.27528,     0.27628,     0.27728,     0.27828,     0.27928,     0.28028,     0.28128,     0.28228,     0.28328,     0.28428,     0.28529,     0.28629,     0.28729,\n",
            "           0.28829,     0.28929,     0.29029,     0.29129,     0.29229,     0.29329,     0.29429,      0.2953,      0.2963,      0.2973,      0.2983,      0.2993,      0.3003,      0.3013,      0.3023,      0.3033,      0.3043,     0.30531,     0.30631,     0.30731,     0.30831,     0.30931,     0.31031,     0.31131,\n",
            "           0.31231,     0.31331,     0.31431,     0.31532,     0.31632,     0.31732,     0.31832,     0.31932,     0.32032,     0.32132,     0.32232,     0.32332,     0.32432,     0.32533,     0.32633,     0.32733,     0.32833,     0.32933,     0.33033,     0.33133,     0.33233,     0.33333,     0.33433,     0.33534,\n",
            "           0.33634,     0.33734,     0.33834,     0.33934,     0.34034,     0.34134,     0.34234,     0.34334,     0.34434,     0.34535,     0.34635,     0.34735,     0.34835,     0.34935,     0.35035,     0.35135,     0.35235,     0.35335,     0.35435,     0.35536,     0.35636,     0.35736,     0.35836,     0.35936,\n",
            "           0.36036,     0.36136,     0.36236,     0.36336,     0.36436,     0.36537,     0.36637,     0.36737,     0.36837,     0.36937,     0.37037,     0.37137,     0.37237,     0.37337,     0.37437,     0.37538,     0.37638,     0.37738,     0.37838,     0.37938,     0.38038,     0.38138,     0.38238,     0.38338,\n",
            "           0.38438,     0.38539,     0.38639,     0.38739,     0.38839,     0.38939,     0.39039,     0.39139,     0.39239,     0.39339,     0.39439,      0.3954,      0.3964,      0.3974,      0.3984,      0.3994,      0.4004,      0.4014,      0.4024,      0.4034,      0.4044,     0.40541,     0.40641,     0.40741,\n",
            "           0.40841,     0.40941,     0.41041,     0.41141,     0.41241,     0.41341,     0.41441,     0.41542,     0.41642,     0.41742,     0.41842,     0.41942,     0.42042,     0.42142,     0.42242,     0.42342,     0.42442,     0.42543,     0.42643,     0.42743,     0.42843,     0.42943,     0.43043,     0.43143,\n",
            "           0.43243,     0.43343,     0.43443,     0.43544,     0.43644,     0.43744,     0.43844,     0.43944,     0.44044,     0.44144,     0.44244,     0.44344,     0.44444,     0.44545,     0.44645,     0.44745,     0.44845,     0.44945,     0.45045,     0.45145,     0.45245,     0.45345,     0.45445,     0.45546,\n",
            "           0.45646,     0.45746,     0.45846,     0.45946,     0.46046,     0.46146,     0.46246,     0.46346,     0.46446,     0.46547,     0.46647,     0.46747,     0.46847,     0.46947,     0.47047,     0.47147,     0.47247,     0.47347,     0.47447,     0.47548,     0.47648,     0.47748,     0.47848,     0.47948,\n",
            "           0.48048,     0.48148,     0.48248,     0.48348,     0.48448,     0.48549,     0.48649,     0.48749,     0.48849,     0.48949,     0.49049,     0.49149,     0.49249,     0.49349,     0.49449,      0.4955,      0.4965,      0.4975,      0.4985,      0.4995,      0.5005,      0.5015,      0.5025,      0.5035,\n",
            "            0.5045,     0.50551,     0.50651,     0.50751,     0.50851,     0.50951,     0.51051,     0.51151,     0.51251,     0.51351,     0.51451,     0.51552,     0.51652,     0.51752,     0.51852,     0.51952,     0.52052,     0.52152,     0.52252,     0.52352,     0.52452,     0.52553,     0.52653,     0.52753,\n",
            "           0.52853,     0.52953,     0.53053,     0.53153,     0.53253,     0.53353,     0.53453,     0.53554,     0.53654,     0.53754,     0.53854,     0.53954,     0.54054,     0.54154,     0.54254,     0.54354,     0.54454,     0.54555,     0.54655,     0.54755,     0.54855,     0.54955,     0.55055,     0.55155,\n",
            "           0.55255,     0.55355,     0.55455,     0.55556,     0.55656,     0.55756,     0.55856,     0.55956,     0.56056,     0.56156,     0.56256,     0.56356,     0.56456,     0.56557,     0.56657,     0.56757,     0.56857,     0.56957,     0.57057,     0.57157,     0.57257,     0.57357,     0.57457,     0.57558,\n",
            "           0.57658,     0.57758,     0.57858,     0.57958,     0.58058,     0.58158,     0.58258,     0.58358,     0.58458,     0.58559,     0.58659,     0.58759,     0.58859,     0.58959,     0.59059,     0.59159,     0.59259,     0.59359,     0.59459,      0.5956,      0.5966,      0.5976,      0.5986,      0.5996,\n",
            "            0.6006,      0.6016,      0.6026,      0.6036,      0.6046,     0.60561,     0.60661,     0.60761,     0.60861,     0.60961,     0.61061,     0.61161,     0.61261,     0.61361,     0.61461,     0.61562,     0.61662,     0.61762,     0.61862,     0.61962,     0.62062,     0.62162,     0.62262,     0.62362,\n",
            "           0.62462,     0.62563,     0.62663,     0.62763,     0.62863,     0.62963,     0.63063,     0.63163,     0.63263,     0.63363,     0.63463,     0.63564,     0.63664,     0.63764,     0.63864,     0.63964,     0.64064,     0.64164,     0.64264,     0.64364,     0.64464,     0.64565,     0.64665,     0.64765,\n",
            "           0.64865,     0.64965,     0.65065,     0.65165,     0.65265,     0.65365,     0.65465,     0.65566,     0.65666,     0.65766,     0.65866,     0.65966,     0.66066,     0.66166,     0.66266,     0.66366,     0.66466,     0.66567,     0.66667,     0.66767,     0.66867,     0.66967,     0.67067,     0.67167,\n",
            "           0.67267,     0.67367,     0.67467,     0.67568,     0.67668,     0.67768,     0.67868,     0.67968,     0.68068,     0.68168,     0.68268,     0.68368,     0.68468,     0.68569,     0.68669,     0.68769,     0.68869,     0.68969,     0.69069,     0.69169,     0.69269,     0.69369,     0.69469,      0.6957,\n",
            "            0.6967,      0.6977,      0.6987,      0.6997,      0.7007,      0.7017,      0.7027,      0.7037,      0.7047,     0.70571,     0.70671,     0.70771,     0.70871,     0.70971,     0.71071,     0.71171,     0.71271,     0.71371,     0.71471,     0.71572,     0.71672,     0.71772,     0.71872,     0.71972,\n",
            "           0.72072,     0.72172,     0.72272,     0.72372,     0.72472,     0.72573,     0.72673,     0.72773,     0.72873,     0.72973,     0.73073,     0.73173,     0.73273,     0.73373,     0.73473,     0.73574,     0.73674,     0.73774,     0.73874,     0.73974,     0.74074,     0.74174,     0.74274,     0.74374,\n",
            "           0.74474,     0.74575,     0.74675,     0.74775,     0.74875,     0.74975,     0.75075,     0.75175,     0.75275,     0.75375,     0.75475,     0.75576,     0.75676,     0.75776,     0.75876,     0.75976,     0.76076,     0.76176,     0.76276,     0.76376,     0.76476,     0.76577,     0.76677,     0.76777,\n",
            "           0.76877,     0.76977,     0.77077,     0.77177,     0.77277,     0.77377,     0.77477,     0.77578,     0.77678,     0.77778,     0.77878,     0.77978,     0.78078,     0.78178,     0.78278,     0.78378,     0.78478,     0.78579,     0.78679,     0.78779,     0.78879,     0.78979,     0.79079,     0.79179,\n",
            "           0.79279,     0.79379,     0.79479,      0.7958,      0.7968,      0.7978,      0.7988,      0.7998,      0.8008,      0.8018,      0.8028,      0.8038,      0.8048,     0.80581,     0.80681,     0.80781,     0.80881,     0.80981,     0.81081,     0.81181,     0.81281,     0.81381,     0.81481,     0.81582,\n",
            "           0.81682,     0.81782,     0.81882,     0.81982,     0.82082,     0.82182,     0.82282,     0.82382,     0.82482,     0.82583,     0.82683,     0.82783,     0.82883,     0.82983,     0.83083,     0.83183,     0.83283,     0.83383,     0.83483,     0.83584,     0.83684,     0.83784,     0.83884,     0.83984,\n",
            "           0.84084,     0.84184,     0.84284,     0.84384,     0.84484,     0.84585,     0.84685,     0.84785,     0.84885,     0.84985,     0.85085,     0.85185,     0.85285,     0.85385,     0.85485,     0.85586,     0.85686,     0.85786,     0.85886,     0.85986,     0.86086,     0.86186,     0.86286,     0.86386,\n",
            "           0.86486,     0.86587,     0.86687,     0.86787,     0.86887,     0.86987,     0.87087,     0.87187,     0.87287,     0.87387,     0.87487,     0.87588,     0.87688,     0.87788,     0.87888,     0.87988,     0.88088,     0.88188,     0.88288,     0.88388,     0.88488,     0.88589,     0.88689,     0.88789,\n",
            "           0.88889,     0.88989,     0.89089,     0.89189,     0.89289,     0.89389,     0.89489,      0.8959,      0.8969,      0.8979,      0.8989,      0.8999,      0.9009,      0.9019,      0.9029,      0.9039,      0.9049,     0.90591,     0.90691,     0.90791,     0.90891,     0.90991,     0.91091,     0.91191,\n",
            "           0.91291,     0.91391,     0.91491,     0.91592,     0.91692,     0.91792,     0.91892,     0.91992,     0.92092,     0.92192,     0.92292,     0.92392,     0.92492,     0.92593,     0.92693,     0.92793,     0.92893,     0.92993,     0.93093,     0.93193,     0.93293,     0.93393,     0.93493,     0.93594,\n",
            "           0.93694,     0.93794,     0.93894,     0.93994,     0.94094,     0.94194,     0.94294,     0.94394,     0.94494,     0.94595,     0.94695,     0.94795,     0.94895,     0.94995,     0.95095,     0.95195,     0.95295,     0.95395,     0.95495,     0.95596,     0.95696,     0.95796,     0.95896,     0.95996,\n",
            "           0.96096,     0.96196,     0.96296,     0.96396,     0.96496,     0.96597,     0.96697,     0.96797,     0.96897,     0.96997,     0.97097,     0.97197,     0.97297,     0.97397,     0.97497,     0.97598,     0.97698,     0.97798,     0.97898,     0.97998,     0.98098,     0.98198,     0.98298,     0.98398,\n",
            "           0.98498,     0.98599,     0.98699,     0.98799,     0.98899,     0.98999,     0.99099,     0.99199,     0.99299,     0.99399,     0.99499,       0.996,       0.997,       0.998,       0.999,           1]), array([[          1,           1,           1, ...,           0,           0,           0],\n",
            "       [          1,           1,           1, ...,           0,           0,           0],\n",
            "       [          1,           1,           1, ...,           0,           0,           0],\n",
            "       ...,\n",
            "       [          1,           1,           1, ...,           0,           0,           0],\n",
            "       [          1,           1,           1, ...,           0,           0,           0],\n",
            "       [          1,           1,           1, ...,           0,           0,           0]]), 'Confidence', 'Recall']]\n",
            "fitness: 0.9446397370391104\n",
            "keys: ['metrics/precision(B)', 'metrics/recall(B)', 'metrics/mAP50(B)', 'metrics/mAP50-95(B)']\n",
            "maps: array([    0.89465,     0.90873,     0.86203,     0.83323,      0.8771,     0.84443,     0.93428,     0.95889,      0.9845,      0.9833,     0.97272,       0.995,       0.995,       0.995,     0.96304,       0.995,     0.96685])\n",
            "names: {0: 'FirstName', 1: 'LastName', 2: 'FirstNameArabic', 3: 'LastNameArabic', 4: 'BirthDate', 5: 'BirthPlace', 6: 'BirthPlaceArabic', 7: 'ExpirationDate', 8: 'CINNumber', 9: 'MainPicture', 10: 'SecondPicture', 11: 'CardBox', 12: 'CrownBox', 13: 'MoroccanTextSignature', 14: 'DirectorFullName', 15: 'DirectorSignature', 16: 'MoroccanFlag'}\n",
            "plot: True\n",
            "results_dict: {'metrics/precision(B)': 0.9946763742220426, 'metrics/recall(B)': 1.0, 'metrics/mAP50(B)': 0.995, 'metrics/mAP50-95(B)': 0.9390441522656782, 'fitness': 0.9446397370391104}\n",
            "save_dir: PosixPath('runs/detect/train2')\n",
            "speed: {'preprocess': 2.4892900999475387, 'inference': 192.21419738338832, 'loss': 0.0001174666370692042, 'postprocess': 1.332073166668124}\n",
            "task: 'detect'\n"
          ]
        }
      ]
    },
    {
      "cell_type": "code",
      "source": [
        "# Plot training metrics\n",
        "results_path = \"/content/runs/detect/train\"  # Path to training results\n",
        "metrics_file = os.path.join(results_path, \"results.png\")\n",
        "\n",
        "if os.path.exists(metrics_file):\n",
        "    print(\"Training Metrics:\")\n",
        "    display(Image(filename=metrics_file))\n",
        "else:\n",
        "    print(\"Training metrics plot not found.\")"
      ],
      "metadata": {
        "id": "fbebqq3S9nH9",
        "outputId": "c6cc029e-802e-4526-85c7-96fc00792089",
        "colab": {
          "base_uri": "https://localhost:8080/",
          "height": 932
        }
      },
      "execution_count": 17,
      "outputs": [
        {
          "output_type": "stream",
          "name": "stdout",
          "text": [
            "Training Metrics:\n"
          ]
        },
        {
          "output_type": "display_data",
          "data": {
            "image/png": "[encoded data removed]",
            "text/plain": [
              "<IPython.core.display.Image object>"
            ]
          },
          "metadata": {}
        }
      ]
    },
    {
      "cell_type": "markdown",
      "source": [
        "# =============================================\n",
        "# 6. Visualize Predictions\n",
        "# ============================================="
      ],
      "metadata": {
        "id": "r5AYnhnC9uam"
      }
    },
    {
      "cell_type": "code",
      "source": [
        "# Test the model on a few validation images\n",
        "val_images_path = \"/content/dataset/images/val\"\n",
        "val_images = os.listdir(val_images_path)[:5]  # Select first 5 images for visualization\n",
        "\n",
        "for image_name in val_images:\n",
        "    image_path = os.path.join(val_images_path, image_name)\n",
        "    results = model.predict(source=image_path, save=True, conf=0.5)  # Adjust confidence threshold\n",
        "    predicted_image_path = f\"/content/runs/detect/predict/{image_name}\"\n",
        "    if os.path.exists(predicted_image_path):\n",
        "        print(f\"Predictions for {image_name}:\")\n",
        "        display(Image(filename=predicted_image_path))\n",
        "    else:\n",
        "        print(f\"No predictions found for {image_name}.\")"
      ],
      "metadata": {
        "id": "CQyEMdlo9vbL",
        "outputId": "26731fd2-faa2-43cf-e082-71eab37a8b11",
        "colab": {
          "base_uri": "https://localhost:8080/"
        }
      },
      "execution_count": 18,
      "outputs": [
        {
          "output_type": "stream",
          "name": "stdout",
          "text": [
            "\n",
            "image 1/1 /content/dataset/images/val/id_card_template2_females_81.png: 512x640 1 FirstName, 1 LastName, 1 FirstNameArabic, 1 LastNameArabic, 1 BirthDate, 1 BirthPlace, 1 BirthPlaceArabic, 1 ExpirationDate, 1 CINNumber, 1 MainPicture, 1 SecondPicture, 1 CardBox, 1 CrownBox, 1 MoroccanTextSignature, 1 DirectorFullName, 1 DirectorSignature, 1 MoroccanFlag, 305.2ms\n",
            "Speed: 6.3ms preprocess, 305.2ms inference, 8.7ms postprocess per image at shape (1, 3, 512, 640)\n",
            "Results saved to \u001b[1mruns/detect/train3\u001b[0m\n",
            "No predictions found for id_card_template2_females_81.png.\n",
            "\n",
            "image 1/1 /content/dataset/images/val/augmented_id_card_template2_females_70.png: 640x384 1 FirstName, 1 LastName, 1 FirstNameArabic, 1 LastNameArabic, 1 BirthDate, 1 BirthPlace, 1 BirthPlaceArabic, 1 ExpirationDate, 1 CINNumber, 1 MainPicture, 1 SecondPicture, 1 CardBox, 1 CrownBox, 1 MoroccanTextSignature, 1 DirectorFullName, 1 DirectorSignature, 1 MoroccanFlag, 155.0ms\n",
            "Speed: 3.7ms preprocess, 155.0ms inference, 1.1ms postprocess per image at shape (1, 3, 640, 384)\n",
            "Results saved to \u001b[1mruns/detect/train4\u001b[0m\n",
            "No predictions found for augmented_id_card_template2_females_70.png.\n",
            "\n",
            "image 1/1 /content/dataset/images/val/id_card_template2_females_75.png: 512x640 1 FirstName, 1 LastName, 1 FirstNameArabic, 1 LastNameArabic, 1 BirthDate, 1 BirthPlace, 1 BirthPlaceArabic, 1 ExpirationDate, 1 CINNumber, 1 MainPicture, 1 SecondPicture, 1 CardBox, 1 CrownBox, 1 MoroccanTextSignature, 1 DirectorFullName, 1 DirectorSignature, 1 MoroccanFlag, 207.5ms\n",
            "Speed: 4.0ms preprocess, 207.5ms inference, 1.2ms postprocess per image at shape (1, 3, 512, 640)\n",
            "Results saved to \u001b[1mruns/detect/train5\u001b[0m\n",
            "No predictions found for id_card_template2_females_75.png.\n",
            "\n",
            "image 1/1 /content/dataset/images/val/id_card_template2_males_66.png: 512x640 1 FirstName, 1 LastName, 1 FirstNameArabic, 1 LastNameArabic, 1 BirthDate, 1 BirthPlace, 1 BirthPlaceArabic, 1 ExpirationDate, 1 CINNumber, 1 MainPicture, 1 SecondPicture, 1 CardBox, 1 CrownBox, 1 MoroccanTextSignature, 1 DirectorFullName, 1 DirectorSignature, 1 MoroccanFlag, 183.5ms\n",
            "Speed: 4.0ms preprocess, 183.5ms inference, 1.2ms postprocess per image at shape (1, 3, 512, 640)\n",
            "Results saved to \u001b[1mruns/detect/train6\u001b[0m\n",
            "No predictions found for id_card_template2_males_66.png.\n",
            "\n",
            "image 1/1 /content/dataset/images/val/id_card_template2_females_67.png: 512x640 1 FirstName, 1 LastName, 1 FirstNameArabic, 1 LastNameArabic, 1 BirthDate, 1 BirthPlace, 1 BirthPlaceArabic, 1 ExpirationDate, 1 CINNumber, 1 MainPicture, 1 SecondPicture, 1 CardBox, 1 CrownBox, 1 MoroccanTextSignature, 1 DirectorFullName, 1 DirectorSignature, 1 MoroccanFlag, 182.9ms\n",
            "Speed: 4.3ms preprocess, 182.9ms inference, 1.2ms postprocess per image at shape (1, 3, 512, 640)\n",
            "Results saved to \u001b[1mruns/detect/train7\u001b[0m\n",
            "No predictions found for id_card_template2_females_67.png.\n"
          ]
        }
      ]
    },
    {
      "cell_type": "markdown",
      "source": [
        "# =============================================\n",
        "# 7. Save and Export the Model\n",
        "# ============================================="
      ],
      "metadata": {
        "id": "ghHfxM7G90Zq"
      }
    },
    {
      "cell_type": "code",
      "source": [
        "# Save the fine-tuned model\n",
        "model.save(\"/content/fine_tuned_yolo.pt\")\n",
        "\n",
        "# Export the model to ONNX format (optional)\n",
        "model.export(format=\"onnx\")"
      ],
      "metadata": {
        "id": "l60TpQC691Qg",
        "outputId": "b1680e70-0b3e-43af-98c8-ca53d72d44c8",
        "colab": {
          "base_uri": "https://localhost:8080/",
          "height": 834
        }
      },
      "execution_count": 19,
      "outputs": [
        {
          "output_type": "stream",
          "name": "stdout",
          "text": [
            "Ultralytics 8.3.89 🚀 Python-3.11.11 torch-2.5.1+cu124 CPU (Intel Xeon 2.20GHz)\n",
            "\n",
            "\u001b[34m\u001b[1mPyTorch:\u001b[0m starting from 'runs/detect/train/weights/best.pt' with input shape (1, 3, 640, 640) BCHW and output shape(s) (1, 21, 8400) (6.0 MB)\n",
            "\u001b[31m\u001b[1mrequirements:\u001b[0m Ultralytics requirements ['onnx>=1.12.0', 'onnxslim', 'onnxruntime'] not found, attempting AutoUpdate...\n",
            "Collecting onnx>=1.12.0\n",
            "  Downloading onnx-1.17.0-cp311-cp311-manylinux_2_17_x86_64.manylinux2014_x86_64.whl.metadata (16 kB)\n",
            "Collecting onnxslim\n",
            "  Downloading onnxslim-0.1.48-py3-none-any.whl.metadata (4.6 kB)\n",
            "Collecting onnxruntime\n",
            "  Downloading onnxruntime-1.21.0-cp311-cp311-manylinux_2_27_x86_64.manylinux_2_28_x86_64.whl.metadata (4.5 kB)\n",
            "Requirement already satisfied: numpy>=1.20 in /usr/local/lib/python3.11/dist-packages (from onnx>=1.12.0) (1.26.4)\n",
            "Requirement already satisfied: protobuf>=3.20.2 in /usr/local/lib/python3.11/dist-packages (from onnx>=1.12.0) (4.25.6)\n",
            "Requirement already satisfied: sympy in /usr/local/lib/python3.11/dist-packages (from onnxslim) (1.13.1)\n",
            "Requirement already satisfied: packaging in /usr/local/lib/python3.11/dist-packages (from onnxslim) (24.2)\n",
            "Collecting coloredlogs (from onnxruntime)\n",
            "  Downloading coloredlogs-15.0.1-py2.py3-none-any.whl.metadata (12 kB)\n",
            "Requirement already satisfied: flatbuffers in /usr/local/lib/python3.11/dist-packages (from onnxruntime) (25.2.10)\n",
            "Collecting humanfriendly>=9.1 (from coloredlogs->onnxruntime)\n",
            "  Downloading humanfriendly-10.0-py2.py3-none-any.whl.metadata (9.2 kB)\n",
            "Requirement already satisfied: mpmath<1.4,>=1.1.0 in /usr/local/lib/python3.11/dist-packages (from sympy->onnxslim) (1.3.0)\n",
            "Downloading onnx-1.17.0-cp311-cp311-manylinux_2_17_x86_64.manylinux2014_x86_64.whl (16.0 MB)\n",
            "   ━━━━━━━━━━━━━━━━━━━━━━━━━━━━━━━━━━━━━━━━ 16.0/16.0 MB 167.2 MB/s eta 0:00:00\n",
            "Downloading onnxslim-0.1.48-py3-none-any.whl (142 kB)\n",
            "   ━━━━━━━━━━━━━━━━━━━━━━━━━━━━━━━━━━━━━━━━ 142.9/142.9 kB 244.3 MB/s eta 0:00:00\n",
            "Downloading onnxruntime-1.21.0-cp311-cp311-manylinux_2_27_x86_64.manylinux_2_28_x86_64.whl (16.0 MB)\n",
            "   ━━━━━━━━━━━━━━━━━━━━━━━━━━━━━━━━━━━━━━━━ 16.0/16.0 MB 241.2 MB/s eta 0:00:00\n",
            "Downloading coloredlogs-15.0.1-py2.py3-none-any.whl (46 kB)\n",
            "   ━━━━━━━━━━━━━━━━━━━━━━━━━━━━━━━━━━━━━━━━ 46.0/46.0 kB 144.3 MB/s eta 0:00:00\n",
            "Downloading humanfriendly-10.0-py2.py3-none-any.whl (86 kB)\n",
            "   ━━━━━━━━━━━━━━━━━━━━━━━━━━━━━━━━━━━━━━━━ 86.8/86.8 kB 227.0 MB/s eta 0:00:00\n",
            "Installing collected packages: onnx, humanfriendly, onnxslim, coloredlogs, onnxruntime\n",
            "Successfully installed coloredlogs-15.0.1 humanfriendly-10.0 onnx-1.17.0 onnxruntime-1.21.0 onnxslim-0.1.48\n",
            "\n",
            "\u001b[31m\u001b[1mrequirements:\u001b[0m AutoUpdate success ✅ 11.1s, installed 3 packages: ['onnx>=1.12.0', 'onnxslim', 'onnxruntime']\n",
            "\u001b[31m\u001b[1mrequirements:\u001b[0m ⚠️ \u001b[1mRestart runtime or rerun command for updates to take effect\u001b[0m\n",
            "\n",
            "\n",
            "\u001b[34m\u001b[1mONNX:\u001b[0m starting export with onnx 1.17.0 opset 19...\n",
            "\u001b[34m\u001b[1mONNX:\u001b[0m slimming with onnxslim 0.1.48...\n",
            "\u001b[34m\u001b[1mONNX:\u001b[0m export success ✅ 13.1s, saved as 'runs/detect/train/weights/best.onnx' (11.7 MB)\n",
            "\n",
            "Export complete (13.6s)\n",
            "Results saved to \u001b[1m/content/runs/detect/train/weights\u001b[0m\n",
            "Predict:         yolo predict task=detect model=runs/detect/train/weights/best.onnx imgsz=640  \n",
            "Validate:        yolo val task=detect model=runs/detect/train/weights/best.onnx imgsz=640 data=/content/dataset/data.yaml  \n",
            "Visualize:       https://netron.app\n"
          ]
        },
        {
          "output_type": "execute_result",
          "data": {
            "text/plain": [
              "'runs/detect/train/weights/best.onnx'"
            ],
            "application/vnd.google.colaboratory.intrinsic+json": {
              "type": "string"
            }
          },
          "metadata": {},
          "execution_count": 19
        }
      ]
    },
    {
      "cell_type": "markdown",
      "source": [
        "# =============================================\n",
        "# 8. Additional Visualizations (Optional)\n",
        "# ============================================="
      ],
      "metadata": {
        "id": "powA6WMY93EB"
      }
    },
    {
      "cell_type": "code",
      "source": [
        "# Plot confusion matrix\n",
        "confusion_matrix_path = os.path.join(results_path, \"confusion_matrix.png\")\n",
        "if os.path.exists(confusion_matrix_path):\n",
        "    print(\"Confusion Matrix:\")\n",
        "    display(Image(filename=confusion_matrix_path))\n",
        "else:\n",
        "    print(\"Confusion matrix not found.\")\n",
        "\n",
        "# Plot precision-recall curve\n",
        "pr_curve_path = os.path.join(results_path, \"PR_curve.png\")\n",
        "if os.path.exists(pr_curve_path):\n",
        "    print(\"Precision-Recall Curve:\")\n",
        "    display(Image(filename=pr_curve_path))\n",
        "else:\n",
        "    print(\"Precision-recall curve not found.\")"
      ],
      "metadata": {
        "id": "hVxotGG696-a"
      },
      "execution_count": null,
      "outputs": []
    },
    {
      "cell_type": "markdown",
      "source": [
        "# =============================================\n",
        "# 9. Cleanup (Optional)\n",
        "# ============================================="
      ],
      "metadata": {
        "id": "0CODFGCo98gD"
      }
    },
    {
      "cell_type": "code",
      "source": [
        "# Remove unnecessary files to free up space\n",
        "!rm -rf /content/runs/detect/predict  # Remove prediction results\n",
        "!rm -rf /content/dataset  # Remove dataset (if no longer needed)"
      ],
      "metadata": {
        "id": "JAedntmv9-b5"
      },
      "execution_count": null,
      "outputs": []
    },
    {
      "cell_type": "markdown",
      "source": [
        "# =============================================\n",
        "# End of Notebook\n",
        "# ============================================="
      ],
      "metadata": {
        "id": "UV7aw2Nu-AAS"
      }
    }
  ]
}